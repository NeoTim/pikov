{
 "cells": [
  {
   "cell_type": "code",
   "execution_count": 2,
   "metadata": {},
   "outputs": [],
   "source": [
    "from pikov import pikov\n",
    "gamekitty = pikov.Pikov.open('gamekitty.pikov')"
   ]
  },
  {
   "cell_type": "markdown",
   "metadata": {},
   "source": [
    "Add all transitions to clips where gamekitty does not move side-to-side."
   ]
  },
  {
   "cell_type": "code",
   "execution_count": 3,
   "metadata": {},
   "outputs": [],
   "source": [
    "sit = gamekitty.get_clip('sit')\n",
    "sit_paw = gamekitty.get_clip('sit_paw')\n",
    "sit_to_stand = gamekitty.get_clip('sit_to_stand')\n",
    "stand_waggle = gamekitty.get_clip('stand_waggle')\n",
    "stand_to_sit = gamekitty.get_clip('stand_to_sit')\n",
    "sit_to_crouch = gamekitty.get_clip('sit_to_crouch')\n",
    "crouch = gamekitty.get_clip('crouch')\n",
    "lie_down = gamekitty.get_clip('lie_down')\n",
    "crouch_to_sit = gamekitty.get_clip('crouch_to_sit')"
   ]
  },
  {
   "cell_type": "code",
   "execution_count": 32,
   "metadata": {},
   "outputs": [
    {
     "data": {
      "text/plain": [
       "()"
      ]
     },
     "execution_count": 32,
     "metadata": {},
     "output_type": "execute_result"
    }
   ],
   "source": [
    "# Find any absorbing (dead-end) frames\n",
    "# to see how many clips left to connect.\n",
    "gamekitty.find_absorbing_frames()"
   ]
  },
  {
   "cell_type": "code",
   "execution_count": 5,
   "metadata": {},
   "outputs": [
    {
     "data": {
      "image/gif": "[encoded data removed]",
      "text/html": [
       "<table><tr><th>Transition</th><th></th></tr><tr><td>id</td><td>1</td></tr><tr><td>source.id</td><td>('sit', 0)</td></tr><tr><td>source.image</td><td><img alt=\"image with key md5-9b084a2f4cc7a7f940fac47ebe710c45\" src=\"data:image/png;base64,iVBORw0KGgoAAAANSUhEUgAAAAgAAAAICAYAAADED76LAAAAXElEQVR4nGNgYGBgiA/3/49MIwMmBgYGhn1XWBjiw/3/77vCgi4PUeCk84cBRjeXzUExhRHGQDd+4cqNjHATsAGYBpwKUNwAA+iOlNUO/g9XoCLvC6dhbCedPwwAJgMa/Dg5AkIAAAAASUVORK5CYII=\" style=\"width: 5em; image-rendering: -moz-crisp-edges; image-rendering: crisp-edges; image-rendering: pixelated; \"></td></tr><tr><td>target.id</td><td>('sit', 0)</td></tr><tr><td>target.image</td><td><img alt=\"image with key md5-9b084a2f4cc7a7f940fac47ebe710c45\" src=\"data:image/png;base64,iVBORw0KGgoAAAANSUhEUgAAAAgAAAAICAYAAADED76LAAAAXElEQVR4nGNgYGBgiA/3/49MIwMmBgYGhn1XWBjiw/3/77vCgi4PUeCk84cBRjeXzUExhRHGQDd+4cqNjHATsAGYBpwKUNwAA+iOlNUO/g9XoCLvC6dhbCedPwwAJgMa/Dg5AkIAAAAASUVORK5CYII=\" style=\"width: 5em; image-rendering: -moz-crisp-edges; image-rendering: crisp-edges; image-rendering: pixelated; \"></td></tr><tr><td>preview</td><td><img alt=\"clip preview\" src=\"data:image/gif;base64,R0lGODlhCAAIAIEAAF9XTx0rU4N2nAAAACH/C05FVFNDQVBFMi4wAwEAAAAsAAAAAAgACAAACDkABwAYAGCAQYMBAAQYwJAhgIcCBkiUCKAigAEYBwDYuHGARwAgQQ4YCSAAgJMBBgwQEECAAAAAAgIAOw==\" style=\"width: 5em; image-rendering: -moz-crisp-edges; image-rendering: crisp-edges; image-rendering: pixelated; \"></td></tr></table>"
      ],
      "text/plain": [
       "Transition(id=1, source=Frame(id='('sit', 0)'), targetFrame(id='('sit', 0)'))"
      ]
     },
     "execution_count": 5,
     "metadata": {},
     "output_type": "execute_result"
    }
   ],
   "source": [
    "sit.transition_to(sit)"
   ]
  },
  {
   "cell_type": "code",
   "execution_count": 6,
   "metadata": {},
   "outputs": [
    {
     "data": {
      "image/gif": "[encoded data removed]",
      "text/html": [
       "<table><tr><th>Transition</th><th></th></tr><tr><td>id</td><td>2</td></tr><tr><td>source.id</td><td>('sit', 0)</td></tr><tr><td>source.image</td><td><img alt=\"image with key md5-9b084a2f4cc7a7f940fac47ebe710c45\" src=\"data:image/png;base64,iVBORw0KGgoAAAANSUhEUgAAAAgAAAAICAYAAADED76LAAAAXElEQVR4nGNgYGBgiA/3/49MIwMmBgYGhn1XWBjiw/3/77vCgi4PUeCk84cBRjeXzUExhRHGQDd+4cqNjHATsAGYBpwKUNwAA+iOlNUO/g9XoCLvC6dhbCedPwwAJgMa/Dg5AkIAAAAASUVORK5CYII=\" style=\"width: 5em; image-rendering: -moz-crisp-edges; image-rendering: crisp-edges; image-rendering: pixelated; \"></td></tr><tr><td>target.id</td><td>('sit_to_stand', 0)</td></tr><tr><td>target.image</td><td><img alt=\"image with key md5-7a5590b1aadeab3f768c176af5083b66\" src=\"data:image/png;base64,iVBORw0KGgoAAAANSUhEUgAAAAgAAAAICAYAAADED76LAAAAY0lEQVR4nGNgYGBgiA/3/49MIwMmBgYGhn1XWBjiw/3/77vCgi4PUeCk84cBRjeXzUExhRHGQDd+4cqNjHATsAGYBpwKUNwAAyryviiSstrB/5mQJWdt3c6w7woLXKGTzh8GACZ6HQIJhIKyAAAAAElFTkSuQmCC\" style=\"width: 5em; image-rendering: -moz-crisp-edges; image-rendering: crisp-edges; image-rendering: pixelated; \"></td></tr><tr><td>preview</td><td><img alt=\"clip preview\" src=\"data:image/gif;base64,R0lGODlhCAAIAIEAAF9XTx0rU4N2nAAAACH/C05FVFNDQVBFMi4wAwEAAAAsAAAAAAgACAAACDkABwAYAGCAQYMBAAQYwJAhgIcCBkiUCKAigAEYBwDYuHGARwAgQQ4YCSAAgJMBBgwQEECAAAAAAgIAIf8LTkVUU0NBUEUyLjADAQAAACwDAAYAAgACAIFfV08dK1ODdpwAAAAIBwAFAAgQICAAIf8LTkVUU0NBUEUyLjADAQAAACwDAAIABQAGAIFfV08dK1ODdpwAAAAIHgABCAAwYACAgwACAFgIIACAhxAHAJgoIIAAAAMCAgAh/wtORVRTQ0FQRTIuMAMBAAAALAAAAAAIAAgAgV9XTx0rU4N2nAAAAAg8AAEMADCgYMEAAAIMWAhgAICHAgYMAABgAICLFwcAGACgo0cAAwIAGDlygEkBAAYEADCg5QABAQQAGBAQACH/C05FVFNDQVBFMi4wAwEAAAAsAQAAAAcACACBX1dPHStTg3acAAAACDgABwAYMADAgAEAAgwYAADAAAAABAwYAGAAgIsYBwDYyHEAgI8gBwAYAGBAAAADBAwQMCCAgAEBAQA7\" style=\"width: 5em; image-rendering: -moz-crisp-edges; image-rendering: crisp-edges; image-rendering: pixelated; \"></td></tr></table>"
      ],
      "text/plain": [
       "Transition(id=2, source=Frame(id='('sit', 0)'), targetFrame(id='('sit_to_stand', 0)'))"
      ]
     },
     "execution_count": 6,
     "metadata": {},
     "output_type": "execute_result"
    }
   ],
   "source": [
    "sit.transition_to(sit_to_stand)"
   ]
  },
  {
   "cell_type": "code",
   "execution_count": 23,
   "metadata": {},
   "outputs": [
    {
     "data": {
      "image/gif": "[encoded data removed]",
      "text/html": [
       "<table><tr><th>Transition</th><th></th></tr><tr><td>id</td><td>10</td></tr><tr><td>source.id</td><td>('sit', 0)</td></tr><tr><td>source.image</td><td><img alt=\"image with key md5-9b084a2f4cc7a7f940fac47ebe710c45\" src=\"data:image/png;base64,iVBORw0KGgoAAAANSUhEUgAAAAgAAAAICAYAAADED76LAAAAXElEQVR4nGNgYGBgiA/3/49MIwMmBgYGhn1XWBjiw/3/77vCgi4PUeCk84cBRjeXzUExhRHGQDd+4cqNjHATsAGYBpwKUNwAA+iOlNUO/g9XoCLvC6dhbCedPwwAJgMa/Dg5AkIAAAAASUVORK5CYII=\" style=\"width: 5em; image-rendering: -moz-crisp-edges; image-rendering: crisp-edges; image-rendering: pixelated; \"></td></tr><tr><td>target.id</td><td>('sit_to_crouch', 0)</td></tr><tr><td>target.image</td><td><img alt=\"image with key md5-e909ad843044742863d412941920f4f8\" src=\"data:image/png;base64,iVBORw0KGgoAAAANSUhEUgAAAAgAAAAICAYAAADED76LAAAAY0lEQVR4nGNgYGBgiA/3/49MIwMmBgYGhn1XWBjiw/3/77vCgi4PUeCk84cBRjeXzUExhRHGQDd+4cqNjHATsAGYBpwKUNwAA+iOlNUO/g9XoCLvy5Dm7cmw7woLg4q8L9zRAEjrHPwUhutBAAAAAElFTkSuQmCC\" style=\"width: 5em; image-rendering: -moz-crisp-edges; image-rendering: crisp-edges; image-rendering: pixelated; \"></td></tr><tr><td>preview</td><td><img alt=\"clip preview\" src=\"data:image/gif;base64,R0lGODlhCAAIAIEAAF9XTx0rU4N2nAAAACH/C05FVFNDQVBFMi4wAwEAAAAsAAAAAAgACAAACDkABwAYAGCAQYMBAAQYwJAhgIcCBkiUCKAigAEYBwDYuHGARwAgQQ4YCSAAgJMBBgwQEECAAAAAAgIAIf8LTkVUU0NBUEUyLjADAQAAACwDAAcAAgABAIFfV08dK1ODdpwAAAAIBQAFBAgIACH/C05FVFNDQVBFMi4wAwEAAAAsAQAAAAcACACBX1dPHStTg3acAAAACDIABwgcOADAAAADEg4IACDAgIcDAEgUMKDiAAAYMQ4YAKBjxwADAIgcOUBAgAACAAAICAAh/wtORVRTQ0FQRTIuMAMBAAAALAAAAQAHAAcAgV9XTx0rU4N2nAAAAAgsAAEMADCg4IAAAAIMWDgAgEMBAyIOAECRYoABADJqHACgo8cBAgQECCAAQEAAOw==\" style=\"width: 5em; image-rendering: -moz-crisp-edges; image-rendering: crisp-edges; image-rendering: pixelated; \"></td></tr></table>"
      ],
      "text/plain": [
       "Transition(id=10, source=Frame(id='('sit', 0)'), targetFrame(id='('sit_to_crouch', 0)'))"
      ]
     },
     "execution_count": 23,
     "metadata": {},
     "output_type": "execute_result"
    }
   ],
   "source": [
    "sit.transition_to(sit_to_crouch)"
   ]
  },
  {
   "cell_type": "code",
   "execution_count": 7,
   "metadata": {},
   "outputs": [],
   "source": [
    "# sit.transition_to(turn_from_sit)"
   ]
  },
  {
   "cell_type": "code",
   "execution_count": 8,
   "metadata": {},
   "outputs": [
    {
     "data": {
      "image/gif": "[encoded data removed]",
      "text/html": [
       "<table><tr><th>Transition</th><th></th></tr><tr><td>id</td><td>3</td></tr><tr><td>source.id</td><td>('sit', 0)</td></tr><tr><td>source.image</td><td><img alt=\"image with key md5-9b084a2f4cc7a7f940fac47ebe710c45\" src=\"data:image/png;base64,iVBORw0KGgoAAAANSUhEUgAAAAgAAAAICAYAAADED76LAAAAXElEQVR4nGNgYGBgiA/3/49MIwMmBgYGhn1XWBjiw/3/77vCgi4PUeCk84cBRjeXzUExhRHGQDd+4cqNjHATsAGYBpwKUNwAA+iOlNUO/g9XoCLvC6dhbCedPwwAJgMa/Dg5AkIAAAAASUVORK5CYII=\" style=\"width: 5em; image-rendering: -moz-crisp-edges; image-rendering: crisp-edges; image-rendering: pixelated; \"></td></tr><tr><td>target.id</td><td>('sit_paw', 0)</td></tr><tr><td>target.image</td><td><img alt=\"image with key md5-ebf655bd0227763a437b8f97b57a618e\" src=\"data:image/png;base64,iVBORw0KGgoAAAANSUhEUgAAAAgAAAAICAYAAADED76LAAAAdElEQVR4nGNgYGBgiA/3/49MIwMmBgYGhn1XWBjiw/3/77vCgi4PUeCk84cBRjeXzUExhRHGQDd+4cqNjHATsAGYBkZcjoO5jYmBgYFBRd6XYeHKjYzYHAl3g6x28H8GBgaGNG9PBgYGBoY7DzczMDAwMAAAynIhcFzYUD4AAAAASUVORK5CYII=\" style=\"width: 5em; image-rendering: -moz-crisp-edges; image-rendering: crisp-edges; image-rendering: pixelated; \"></td></tr><tr><td>preview</td><td><img alt=\"clip preview\" src=\"data:image/gif;base64,R0lGODlhCAAIAIEAAF9XTx0rU4N2nAAAACH/C05FVFNDQVBFMi4wAwEAAAAsAAAAAAgACAAACDkABwAYAGCAQYMBAAQYwJAhgIcCBkiUCKAigAEYBwDYuHGARwAgQQ4YCSAAgJMBBgwQEECAAAAAAgIAIf8LTkVUU0NBUEUyLjADAQAAACwBAAUABwADAIFfV08dK1ODdpwAAAAIFgABCBwYQMCAAAASBhgQIIAAAQAABAQAIf8LTkVUU0NBUEUyLjADAQAAACwAAAQAAgADAIFfV08dK1ODdpwAAAAICQAHABAAYMCAgAAh/wtORVRTQ0FQRTIuMAMBAAAALAAABAADAAMAgV9XTx0rU4N2nAAAAAgNAAcMADAAAIABAwQEBAAh/wtORVRTQ0FQRTIuMAMBAAAALAEABQADAAIAgV9XTx0rU4N2nAAAAAgJAAcAADBggICAACH/C05FVFNDQVBFMi4wAwEAAAAsAgAGAAIAAgCBX1dPHStTg3acAAAACAcAAQQQECAgADs=\" style=\"width: 5em; image-rendering: -moz-crisp-edges; image-rendering: crisp-edges; image-rendering: pixelated; \"></td></tr></table>"
      ],
      "text/plain": [
       "Transition(id=3, source=Frame(id='('sit', 0)'), targetFrame(id='('sit_paw', 0)'))"
      ]
     },
     "execution_count": 8,
     "metadata": {},
     "output_type": "execute_result"
    }
   ],
   "source": [
    "sit.transition_to(sit_paw)"
   ]
  },
  {
   "cell_type": "code",
   "execution_count": 9,
   "metadata": {},
   "outputs": [
    {
     "data": {
      "text/plain": [
       "(Transition(id=1, source=Frame(id='('sit', 0)'), targetFrame(id='('sit', 0)')),\n",
       " Transition(id=3, source=Frame(id='('sit', 0)'), targetFrame(id='('sit_paw', 0)')),\n",
       " Transition(id=2, source=Frame(id='('sit', 0)'), targetFrame(id='('sit_to_stand', 0)')))"
      ]
     },
     "execution_count": 9,
     "metadata": {},
     "output_type": "execute_result"
    }
   ],
   "source": [
    "sit.transitions"
   ]
  },
  {
   "cell_type": "code",
   "execution_count": 10,
   "metadata": {},
   "outputs": [
    {
     "data": {
      "image/gif": "[encoded data removed]",
      "text/html": [
       "<table><tr><th>Transition</th><th></th></tr><tr><td>id</td><td>4</td></tr><tr><td>source.id</td><td>('sit_paw', 4)</td></tr><tr><td>source.image</td><td><img alt=\"image with key md5-cd8ada32d030c3790707bba202422b6a\" src=\"data:image/png;base64,iVBORw0KGgoAAAANSUhEUgAAAAgAAAAICAYAAADED76LAAAAYUlEQVR4nGNgYGBgiA/3/49MIwMmBgYGhn1XWBjiw/3/77vCgi4PUeCk84cBRjeXzUExhRHGQDd+4cqNjHATsAGYBpwKGBgYGGS1g/+jKMDpSAYGBgYVeV84DWM76fxhAABa3Rr80KdQhgAAAABJRU5ErkJggg==\" style=\"width: 5em; image-rendering: -moz-crisp-edges; image-rendering: crisp-edges; image-rendering: pixelated; \"></td></tr><tr><td>target.id</td><td>('sit', 0)</td></tr><tr><td>target.image</td><td><img alt=\"image with key md5-9b084a2f4cc7a7f940fac47ebe710c45\" src=\"data:image/png;base64,iVBORw0KGgoAAAANSUhEUgAAAAgAAAAICAYAAADED76LAAAAXElEQVR4nGNgYGBgiA/3/49MIwMmBgYGhn1XWBjiw/3/77vCgi4PUeCk84cBRjeXzUExhRHGQDd+4cqNjHATsAGYBpwKUNwAA+iOlNUO/g9XoCLvC6dhbCedPwwAJgMa/Dg5AkIAAAAASUVORK5CYII=\" style=\"width: 5em; image-rendering: -moz-crisp-edges; image-rendering: crisp-edges; image-rendering: pixelated; \"></td></tr><tr><td>preview</td><td><img alt=\"clip preview\" src=\"data:image/gif;base64,R0lGODlhCAAIAIEAAF9XTx0rU4N2nAAAACH/C05FVFNDQVBFMi4wAwEAAAAsAAAAAAgACAAACDoABwAYAGCAQYMBAAQYwJAhgIcCBkiUCKAigAEYBwDYuHHAAAAgQwYYIGBAAAAoAwwYECCAAAEAAAQEACH/C05FVFNDQVBFMi4wAwEAAAAsAAAEAAIAAwCBX1dPHStTg3acAAAACAkABwAQAGDAgIAAIf8LTkVUU0NBUEUyLjADAQAAACwAAAQAAwADAIFfV08dK1ODdpwAAAAIDQAHDAAwAACAAQMEBAQAIf8LTkVUU0NBUEUyLjADAQAAACwBAAUAAwACAIFfV08dK1ODdpwAAAAICQAHAAAwYICAgAAh/wtORVRTQ0FQRTIuMAMBAAAALAIABgACAAIAgV9XTx0rU4N2nAAAAAgHAAEEEBAgIAAh/wtORVRTQ0FQRTIuMAMBAAAALAcABQABAAEAgV9XTx0rU4N2nAAAAAgFAAcACAgAOw==\" style=\"width: 5em; image-rendering: -moz-crisp-edges; image-rendering: crisp-edges; image-rendering: pixelated; \"></td></tr></table>"
      ],
      "text/plain": [
       "Transition(id=4, source=Frame(id='('sit_paw', 4)'), targetFrame(id='('sit', 0)'))"
      ]
     },
     "execution_count": 10,
     "metadata": {},
     "output_type": "execute_result"
    }
   ],
   "source": [
    "sit_paw.transition_to(sit)"
   ]
  },
  {
   "cell_type": "code",
   "execution_count": 11,
   "metadata": {},
   "outputs": [
    {
     "data": {
      "image/gif": "[encoded data removed]",
      "text/html": [
       "<table><tr><th>Transition</th><th></th></tr><tr><td>id</td><td>5</td></tr><tr><td>source.id</td><td>('sit_to_stand', 3)</td></tr><tr><td>source.image</td><td><img alt=\"image with key md5-55bea535357482806ad24bf699c7941d\" src=\"data:image/png;base64,iVBORw0KGgoAAAANSUhEUgAAAAgAAAAICAYAAADED76LAAAAZ0lEQVR4nGOID/f/z8DAwACj0dlM+66wMMSH+//fd4WFARnAFDE56fxhYGBgYHDS+cPQXDbnPwMDA8PClRsZYQoZ0Y1EBgtXbmRkwiaBDIhXALN34cqNjMgOZmJgYGBQkfdlQKaR2QD0Rx/wn9C1wQAAAABJRU5ErkJggg==\" style=\"width: 5em; image-rendering: -moz-crisp-edges; image-rendering: crisp-edges; image-rendering: pixelated; \"></td></tr><tr><td>target.id</td><td>('stand_waggle', 0)</td></tr><tr><td>target.image</td><td><img alt=\"image with key md5-c28a87eda869e3329710b6e9cbb8cd76\" src=\"data:image/png;base64,iVBORw0KGgoAAAANSUhEUgAAAAgAAAAICAYAAADED76LAAAAX0lEQVR4nGOID/f/z8DAwACjYQDGZ9p3hYUhPtz//74rLAzYAJOTzh8GBgYGBiedPwzNZXP+oytgxGY8DCxcuZGRCau5yFYQrWDhyo2MMBrZwUwMDAwMKvK+DMg0MhsA85Yb8GJtyLkAAAAASUVORK5CYII=\" style=\"width: 5em; image-rendering: -moz-crisp-edges; image-rendering: crisp-edges; image-rendering: pixelated; \"></td></tr><tr><td>preview</td><td><img alt=\"clip preview\" src=\"data:image/gif;base64,R0lGODlhCAAIAIEAAF9XTx0rU4N2nAAAACH/C05FVFNDQVBFMi4wAwEAAAAsAAAAAAgACAAACDkABwAYAGCAQYMBAAQYwJAhgIcCBkiUCKAigAEYBwDYuHGARwAgQQ4YCUAAgJMBBgwQECCAAAAAAgIAIf8LTkVUU0NBUEUyLjADAQAAACwDAAIABQAGAIFfV08dK1ODdpwAAAAIHgABCAAwYACAgwACAFgIIACAhxAHAJgoIIAAAAMCAgAh/wtORVRTQ0FQRTIuMAMBAAAALAAAAAAIAAgAgV9XTx0rU4N2nAAAAAg8AAEMADCgYMEAAAIMWAhgAICHAgYMAABgAICLFwcAGACgo0cAAwIAGDlygEkBAAYEADCg5QABAQQAGBAQACH/C05FVFNDQVBFMi4wAwEAAAAsAQAAAAcACACBX1dPHStTg3acAAAACDgABwAYMADAgAEAAgwYAADAAAAABAwYAGAAgIsYBwDYyHEAgI8gBwAYAGBAAAADBAwQMCCAgAEBAQAh/wtORVRTQ0FQRTIuMAMBAAAALAUAAAACAAIAgV9XTx0rU4N2nAAAAAgHAAcAGAAgIAAh/wtORVRTQ0FQRTIuMAMBAAAALAUAAAACAAIAgV9XTx0rU4N2nAAAAAgHAAEMAAAgIAA7\" style=\"width: 5em; image-rendering: -moz-crisp-edges; image-rendering: crisp-edges; image-rendering: pixelated; \"></td></tr></table>"
      ],
      "text/plain": [
       "Transition(id=5, source=Frame(id='('sit_to_stand', 3)'), targetFrame(id='('stand_waggle', 0)'))"
      ]
     },
     "execution_count": 11,
     "metadata": {},
     "output_type": "execute_result"
    }
   ],
   "source": [
    "sit_to_stand.transition_to(stand_waggle)"
   ]
  },
  {
   "cell_type": "code",
   "execution_count": 12,
   "metadata": {},
   "outputs": [
    {
     "data": {
      "text/plain": [
       "(Transition(id=5, source=Frame(id='('sit_to_stand', 3)'), targetFrame(id='('stand_waggle', 0)')),)"
      ]
     },
     "execution_count": 12,
     "metadata": {},
     "output_type": "execute_result"
    }
   ],
   "source": [
    "sit_to_stand.transitions"
   ]
  },
  {
   "cell_type": "code",
   "execution_count": 13,
   "metadata": {},
   "outputs": [],
   "source": [
    "# stand_waggle.frames[0].transition_to(turn_from_stand.frames[0])"
   ]
  },
  {
   "cell_type": "code",
   "execution_count": 14,
   "metadata": {},
   "outputs": [
    {
     "data": {
      "image/gif": "[encoded data removed]",
      "text/html": [
       "<table><tr><th>Transition</th><th></th></tr><tr><td>id</td><td>6</td></tr><tr><td>source.id</td><td>('stand_waggle', 1)</td></tr><tr><td>source.image</td><td><img alt=\"image with key md5-55bea535357482806ad24bf699c7941d\" src=\"data:image/png;base64,iVBORw0KGgoAAAANSUhEUgAAAAgAAAAICAYAAADED76LAAAAZ0lEQVR4nGOID/f/z8DAwACj0dlM+66wMMSH+//fd4WFARnAFDE56fxhYGBgYHDS+cPQXDbnPwMDA8PClRsZYQoZ0Y1EBgtXbmRkwiaBDIhXALN34cqNjMgOZmJgYGBQkfdlQKaR2QD0Rx/wn9C1wQAAAABJRU5ErkJggg==\" style=\"width: 5em; image-rendering: -moz-crisp-edges; image-rendering: crisp-edges; image-rendering: pixelated; \"></td></tr><tr><td>target.id</td><td>('stand_waggle', 0)</td></tr><tr><td>target.image</td><td><img alt=\"image with key md5-c28a87eda869e3329710b6e9cbb8cd76\" src=\"data:image/png;base64,iVBORw0KGgoAAAANSUhEUgAAAAgAAAAICAYAAADED76LAAAAX0lEQVR4nGOID/f/z8DAwACjYQDGZ9p3hYUhPtz//74rLAzYAJOTzh8GBgYGBiedPwzNZXP+oytgxGY8DCxcuZGRCau5yFYQrWDhyo2MMBrZwUwMDAwMKvK+DMg0MhsA85Yb8GJtyLkAAAAASUVORK5CYII=\" style=\"width: 5em; image-rendering: -moz-crisp-edges; image-rendering: crisp-edges; image-rendering: pixelated; \"></td></tr><tr><td>preview</td><td><img alt=\"clip preview\" src=\"data:image/gif;base64,R0lGODlhCAAIAIEAAF9XTx0rU4N2nAAAACH/C05FVFNDQVBFMi4wAwEAAAAsAAAAAAgACAAACD0AAQwAMKAggAEBAAQYwBDAAAAQBQwYAGDAAAAYMw4YAKCjxwEDAIgcOWAAgAEABgQAMGCAgAECBgQQMCAgACH/C05FVFNDQVBFMi4wAwEAAAAsBQAAAAIAAgCBX1dPHStTg3acAAAACAcAAQwAACAgACH/C05FVFNDQVBFMi4wAwEAAAAsBQAAAAIAAgCBX1dPHStTg3acAAAACAcABwAYACAgACH/C05FVFNDQVBFMi4wAwEAAAAsBQAAAAIAAgCBX1dPHStTg3acAAAACAcAAQwAACAgADs=\" style=\"width: 5em; image-rendering: -moz-crisp-edges; image-rendering: crisp-edges; image-rendering: pixelated; \"></td></tr></table>"
      ],
      "text/plain": [
       "Transition(id=6, source=Frame(id='('stand_waggle', 1)'), targetFrame(id='('stand_waggle', 0)'))"
      ]
     },
     "execution_count": 14,
     "metadata": {},
     "output_type": "execute_result"
    }
   ],
   "source": [
    "stand_waggle.transition_to(stand_waggle)"
   ]
  },
  {
   "cell_type": "code",
   "execution_count": 15,
   "metadata": {},
   "outputs": [
    {
     "data": {
      "image/gif": "[encoded data removed]",
      "text/html": [
       "<table><tr><th>Transition</th><th></th></tr><tr><td>id</td><td>7</td></tr><tr><td>source.id</td><td>('stand_waggle', 1)</td></tr><tr><td>source.image</td><td><img alt=\"image with key md5-55bea535357482806ad24bf699c7941d\" src=\"data:image/png;base64,iVBORw0KGgoAAAANSUhEUgAAAAgAAAAICAYAAADED76LAAAAZ0lEQVR4nGOID/f/z8DAwACj0dlM+66wMMSH+//fd4WFARnAFDE56fxhYGBgYHDS+cPQXDbnPwMDA8PClRsZYQoZ0Y1EBgtXbmRkwiaBDIhXALN34cqNjMgOZmJgYGBQkfdlQKaR2QD0Rx/wn9C1wQAAAABJRU5ErkJggg==\" style=\"width: 5em; image-rendering: -moz-crisp-edges; image-rendering: crisp-edges; image-rendering: pixelated; \"></td></tr><tr><td>target.id</td><td>('stand_to_sit', 0)</td></tr><tr><td>target.image</td><td><img alt=\"image with key md5-018dbee985489eec728bbd1b87e29e3e\" src=\"data:image/png;base64,iVBORw0KGgoAAAANSUhEUgAAAAgAAAAICAYAAADED76LAAAAgElEQVR4nG2OLQ6EMBBG3zS9BwbJKfCksrKGa3ABboFcgdis7ymKwxCuQVIEtCFsn5nM5PsZnDURIM1E2pUPGmdN9EHzxlkT5emsq451++GDZl9mcdZEKcUD+KBpmwP1l3vTNgfAJSj1A0yfryiAfZmlrrp8fBpyxTD2WZQeBjgB0T4rZZblbEkAAAAASUVORK5CYII=\" style=\"width: 5em; image-rendering: -moz-crisp-edges; image-rendering: crisp-edges; image-rendering: pixelated; \"></td></tr><tr><td>preview</td><td><img alt=\"clip preview\" src=\"data:image/gif;base64,R0lGODlhCAAIAIEAAF9XTx0rU4N2nAAAACH/C05FVFNDQVBFMi4wAwEAAAAsAAAAAAgACAAACD0AAQwAMKAggAEBAAQYwBDAAAAQBQwYAGDAAAAYMw4YAKCjxwEDAIgcOWAAgAEABgQAMGCAgAECBgQQMCAgACH/C05FVFNDQVBFMi4wAwEAAAAsBQAAAAIAAgCBX1dPHStTg3acAAAACAcAAQwAACAgACH/C05FVFNDQVBFMi4wAwEAAAAsAQAAAAcACACBX1dPHStTg3acAAAACDMABwAYQBDAAAABBigEwBCAAAABBgCYSDEAgIsYLwYAwJHjgAECAAwIAGCASQEDAggYEBAAIf8LTkVUU0NBUEUyLjADAQAAACwAAAAABwAIAIFfV08dK1ODdpwAAAAIOQAHABgAYMAAAAMCAAgwYACAAQAiCgAwoCKAixcHDADAkeOAAQBChhwwAACAAQEADBggQMCAAAICAgAh/wtORVRTQ0FQRTIuMAMBAAAALAMABQABAAMAgV9XTx0rU4N2nAAAAAgHAAMAEDAgIAAh/wtORVRTQ0FQRTIuMAMBAAAALAMAAAAFAAgAgV9XTx0rU4N2nAAAAAgqAAEMGDggwICDAwAIADAgAICHAAIAmAggAICLAAIMABAAAIABAgIIGBAQACH/C05FVFNDQVBFMi4wAwEAAAAsBQACAAMABgCBX1dPHStTg3acAAAACBYABwgEMGAAAAADAAAIAABAAAEAAAQEADs=\" style=\"width: 5em; image-rendering: -moz-crisp-edges; image-rendering: crisp-edges; image-rendering: pixelated; \"></td></tr></table>"
      ],
      "text/plain": [
       "Transition(id=7, source=Frame(id='('stand_waggle', 1)'), targetFrame(id='('stand_to_sit', 0)'))"
      ]
     },
     "execution_count": 15,
     "metadata": {},
     "output_type": "execute_result"
    }
   ],
   "source": [
    "stand_waggle.transition_to(stand_to_sit)"
   ]
  },
  {
   "cell_type": "code",
   "execution_count": 16,
   "metadata": {},
   "outputs": [],
   "source": [
    "# stand_waggle.transition_to(turn_from_stand)"
   ]
  },
  {
   "cell_type": "code",
   "execution_count": 17,
   "metadata": {},
   "outputs": [
    {
     "data": {
      "image/gif": "[encoded data removed]",
      "text/html": [
       "<table><tr><th>Transition</th><th></th></tr><tr><td>id</td><td>8</td></tr><tr><td>source.id</td><td>('stand_waggle', 0)</td></tr><tr><td>source.image</td><td><img alt=\"image with key md5-c28a87eda869e3329710b6e9cbb8cd76\" src=\"data:image/png;base64,iVBORw0KGgoAAAANSUhEUgAAAAgAAAAICAYAAADED76LAAAAX0lEQVR4nGOID/f/z8DAwACjYQDGZ9p3hYUhPtz//74rLAzYAJOTzh8GBgYGBiedPwzNZXP+oytgxGY8DCxcuZGRCau5yFYQrWDhyo2MMBrZwUwMDAwMKvK+DMg0MhsA85Yb8GJtyLkAAAAASUVORK5CYII=\" style=\"width: 5em; image-rendering: -moz-crisp-edges; image-rendering: crisp-edges; image-rendering: pixelated; \"></td></tr><tr><td>target.id</td><td>('stand_to_sit', 0)</td></tr><tr><td>target.image</td><td><img alt=\"image with key md5-018dbee985489eec728bbd1b87e29e3e\" src=\"data:image/png;base64,iVBORw0KGgoAAAANSUhEUgAAAAgAAAAICAYAAADED76LAAAAgElEQVR4nG2OLQ6EMBBG3zS9BwbJKfCksrKGa3ABboFcgdis7ymKwxCuQVIEtCFsn5nM5PsZnDURIM1E2pUPGmdN9EHzxlkT5emsq451++GDZl9mcdZEKcUD+KBpmwP1l3vTNgfAJSj1A0yfryiAfZmlrrp8fBpyxTD2WZQeBjgB0T4rZZblbEkAAAAASUVORK5CYII=\" style=\"width: 5em; image-rendering: -moz-crisp-edges; image-rendering: crisp-edges; image-rendering: pixelated; \"></td></tr><tr><td>preview</td><td><img alt=\"clip preview\" src=\"data:image/gif;base64,R0lGODlhCAAIAIEAAF9XTx0rU4N2nAAAACH/C05FVFNDQVBFMi4wAwEAAAAsAAAAAAgACAAACD0AAQwAMKAggAEBAAQYwBDAAAAQBQwYAGDAAAAYMw4YAKCjxwEDAIgcOWAAgAEABgQAMGCAgAECBgQQMCAgACH/C05FVFNDQVBFMi4wAwEAAAAsAQABAAcABwCBX1dPHStTg3acAAAACCwAAQQYQBCAQQACAAQYAKChwwAAIkqMGACARYsDBggAMCAAgAEgBQwIIGBAQAAh/wtORVRTQ0FQRTIuMAMBAAAALAAAAAAHAAgAgV9XTx0rU4N2nAAAAAg5AAcAGABgwAAAAwIACDBgAIABACIKADCgIoCLFwcMAMCR44ABAEKGHDAAAIABAQAMGCBAwIAAAgICACH/C05FVFNDQVBFMi4wAwEAAAAsAwAFAAEAAwCBX1dPHStTg3acAAAACAcAAwAQMCAgACH/C05FVFNDQVBFMi4wAwEAAAAsAwAAAAUACACBX1dPHStTg3acAAAACCoAAQwYOCDAgIMDAAgAMCAAgIcAAgCYCCAAgIsAAgwAEAAAgAECAggYEBAAIf8LTkVUU0NBUEUyLjADAQAAACwFAAIAAwAGAIFfV08dK1ODdpwAAAAIFgAHCAQwYAAAAAMAAAgAAEAAAQAABAQAOw==\" style=\"width: 5em; image-rendering: -moz-crisp-edges; image-rendering: crisp-edges; image-rendering: pixelated; \"></td></tr></table>"
      ],
      "text/plain": [
       "Transition(id=8, source=Frame(id='('stand_waggle', 0)'), targetFrame(id='('stand_to_sit', 0)'))"
      ]
     },
     "execution_count": 17,
     "metadata": {},
     "output_type": "execute_result"
    }
   ],
   "source": [
    "stand_waggle.frames[0].transition_to(stand_to_sit.frames[0])"
   ]
  },
  {
   "cell_type": "code",
   "execution_count": 18,
   "metadata": {},
   "outputs": [
    {
     "data": {
      "text/plain": [
       "(Transition(id=8, source=Frame(id='('stand_waggle', 0)'), targetFrame(id='('stand_to_sit', 0)')),\n",
       " Transition(id=7, source=Frame(id='('stand_waggle', 1)'), targetFrame(id='('stand_to_sit', 0)')),\n",
       " Transition(id=6, source=Frame(id='('stand_waggle', 1)'), targetFrame(id='('stand_waggle', 0)')))"
      ]
     },
     "execution_count": 18,
     "metadata": {},
     "output_type": "execute_result"
    }
   ],
   "source": [
    "stand_waggle.transitions"
   ]
  },
  {
   "cell_type": "code",
   "execution_count": 19,
   "metadata": {},
   "outputs": [
    {
     "data": {
      "image/gif": "[encoded data removed]",
      "text/html": [
       "<table><tr><th>Transition</th><th></th></tr><tr><td>id</td><td>9</td></tr><tr><td>source.id</td><td>('stand_to_sit', 4)</td></tr><tr><td>source.image</td><td><img alt=\"image with key md5-a22919af21fb55cc440e4e778ea62f26\" src=\"data:image/png;base64,iVBORw0KGgoAAAANSUhEUgAAAAgAAAAICAYAAADED76LAAAAY0lEQVR4nGNgYGBgiA/3/49MIwMmBgYGhn1XWBjiw/3/77vCgi4PUeCk84cBRjeXzUExhRHGQDd+4cqNjHATsAGYBpwKGBgYGGS1g/+jKIAZi+FIBgYGBhV5XzgNYzvp/GEAAG7JG2J6oHfZAAAAAElFTkSuQmCC\" style=\"width: 5em; image-rendering: -moz-crisp-edges; image-rendering: crisp-edges; image-rendering: pixelated; \"></td></tr><tr><td>target.id</td><td>('sit', 0)</td></tr><tr><td>target.image</td><td><img alt=\"image with key md5-9b084a2f4cc7a7f940fac47ebe710c45\" src=\"data:image/png;base64,iVBORw0KGgoAAAANSUhEUgAAAAgAAAAICAYAAADED76LAAAAXElEQVR4nGNgYGBgiA/3/49MIwMmBgYGhn1XWBjiw/3/77vCgi4PUeCk84cBRjeXzUExhRHGQDd+4cqNjHATsAGYBpwKUNwAA+iOlNUO/g9XoCLvC6dhbCedPwwAJgMa/Dg5AkIAAAAASUVORK5CYII=\" style=\"width: 5em; image-rendering: -moz-crisp-edges; image-rendering: crisp-edges; image-rendering: pixelated; \"></td></tr><tr><td>preview</td><td><img alt=\"clip preview\" src=\"data:image/gif;base64,R0lGODlhCAAIAIEAAF9XTx0rU4N2nAAAACH/C05FVFNDQVBFMi4wAwEAAAAsAAAAAAgACAAACDwAAQwAMKAggAEBAAQYwBCAQ4cCAAQYAGAAgIsXAwAYAKCjRwADAgAYOXKASQEABgQAMKDlAAEDAggYEBAAIf8LTkVUU0NBUEUyLjADAQAAACwAAAAABwAIAIFfV08dK1ODdpwAAAAIOQAHABgAYMAAAAMCAAgwYACAAQAiCgAwoCKAixcHDADAkeOAAQBChhwwAACAAQEADBggQMCAAAICAgAh/wtORVRTQ0FQRTIuMAMBAAAALAMABQABAAMAgV9XTx0rU4N2nAAAAAgHAAMAEDAgIAAh/wtORVRTQ0FQRTIuMAMBAAAALAMAAAAFAAgAgV9XTx0rU4N2nAAAAAgqAAEMGDggwICDAwAIADAgAICHAAIAmAggAICLAAIMABAAAIABAgIIGBAQACH/C05FVFNDQVBFMi4wAwEAAAAsBQACAAMABgCBX1dPHStTg3acAAAACBYABwgEMGAAAAADAAAIAABAAAEAAAQEACH/C05FVFNDQVBFMi4wAwEAAAAsAwAFAAUAAwCBX1dPHStTg3acAAAACBEAAQgEMCAAgIMBAggQAABAQAA7\" style=\"width: 5em; image-rendering: -moz-crisp-edges; image-rendering: crisp-edges; image-rendering: pixelated; \"></td></tr></table>"
      ],
      "text/plain": [
       "Transition(id=9, source=Frame(id='('stand_to_sit', 4)'), targetFrame(id='('sit', 0)'))"
      ]
     },
     "execution_count": 19,
     "metadata": {},
     "output_type": "execute_result"
    }
   ],
   "source": [
    "stand_to_sit.transition_to(sit)"
   ]
  },
  {
   "cell_type": "code",
   "execution_count": 20,
   "metadata": {},
   "outputs": [],
   "source": [
    "# turn_from_sit.transition_to(stand_waggle_mirror)"
   ]
  },
  {
   "cell_type": "code",
   "execution_count": 24,
   "metadata": {},
   "outputs": [
    {
     "data": {
      "image/gif": "[encoded data removed]",
      "text/html": [
       "<table><tr><th>Transition</th><th></th></tr><tr><td>id</td><td>11</td></tr><tr><td>source.id</td><td>('sit_to_crouch', 2)</td></tr><tr><td>source.image</td><td><img alt=\"image with key md5-705b3720daa0270ec189db73f6cf4e52\" src=\"data:image/png;base64,iVBORw0KGgoAAAANSUhEUgAAAAgAAAAICAYAAADED76LAAAAa0lEQVR4nGNgIATiw/3/I9PogGnfFRaG+HD///uusGA1gMlJ5w8DAwMDg5POH4bmsjkYpjDiMn7fFRaGx1fXMmI3F2riPobg/0z4POCk84eBiYGBgUFF3pdBRd6XYd8VFoZ9V1gYVOR94YoAzf0ebhITEXwAAAAASUVORK5CYII=\" style=\"width: 5em; image-rendering: -moz-crisp-edges; image-rendering: crisp-edges; image-rendering: pixelated; \"></td></tr><tr><td>target.id</td><td>('crouch', 0)</td></tr><tr><td>target.image</td><td><img alt=\"image with key md5-5687866c9d8afcb799040d26db4043b2\" src=\"data:image/png;base64,iVBORw0KGgoAAAANSUhEUgAAAAgAAAAICAYAAADED76LAAAAVUlEQVR4nGNgoBjEh/v/R6bRAdO+KywM8eH+//ddYcFqACOyThV5X4Y7DzfDJReu3MjIiM94BgYGBiZCbmRqLpvzf98VFgYVeV8GBgYGBmQ2AwMDAwDD+BklVYPU7gAAAABJRU5ErkJggg==\" style=\"width: 5em; image-rendering: -moz-crisp-edges; image-rendering: crisp-edges; image-rendering: pixelated; \"></td></tr><tr><td>preview</td><td><img alt=\"clip preview\" src=\"data:image/gif;base64,R0lGODlhCAAIAIEAAF9XTx0rU4N2nAAAACH/C05FVFNDQVBFMi4wAwEAAAAsAAAAAAgACAAACDkABwAYAGCAQYMBAAQYwJAhgIcCBkiUCKAigAEYBwDYuHGARwAgQQ4YCSAAgJMBBgwQICCAAAAAAgIAIf8LTkVUU0NBUEUyLjADAQAAACwBAAAABwAIAIFfV08dK1ODdpwAAAAIMgAHCBw4AMAAAAMSDggAIMCAhwMASBQwoOIAABgxDhgAoGPHAAMAiBw5QECAAAIAAAgIACH/C05FVFNDQVBFMi4wAwEAAAAsAAABAAcABwCBX1dPHStTg3acAAAACCwAAQwAMKDggAAAAgxYOACAQwEDIg4AQJFigAEAMmocAKCjxwECBAQIIABAQAAh/wtORVRTQ0FQRTIuMAMBAAAALAAAAQAIAAcAgV9XTx0rU4N2nAAAAAgwAAcIHCgQwAAAAxImDAAgwICHDwFIFACg4oABADJqBDAAgMePAAQEEAAggAAAAAICADs=\" style=\"width: 5em; image-rendering: -moz-crisp-edges; image-rendering: crisp-edges; image-rendering: pixelated; \"></td></tr></table>"
      ],
      "text/plain": [
       "Transition(id=11, source=Frame(id='('sit_to_crouch', 2)'), targetFrame(id='('crouch', 0)'))"
      ]
     },
     "execution_count": 24,
     "metadata": {},
     "output_type": "execute_result"
    }
   ],
   "source": [
    "sit_to_crouch.transition_to(crouch)"
   ]
  },
  {
   "cell_type": "code",
   "execution_count": 25,
   "metadata": {},
   "outputs": [
    {
     "data": {
      "image/gif": "[encoded data removed]",
      "text/html": [
       "<table><tr><th>Transition</th><th></th></tr><tr><td>id</td><td>12</td></tr><tr><td>source.id</td><td>('crouch', 0)</td></tr><tr><td>source.image</td><td><img alt=\"image with key md5-5687866c9d8afcb799040d26db4043b2\" src=\"data:image/png;base64,iVBORw0KGgoAAAANSUhEUgAAAAgAAAAICAYAAADED76LAAAAVUlEQVR4nGNgoBjEh/v/R6bRAdO+KywM8eH+//ddYcFqACOyThV5X4Y7DzfDJReu3MjIiM94BgYGBiZCbmRqLpvzf98VFgYVeV8GBgYGBmQ2AwMDAwDD+BklVYPU7gAAAABJRU5ErkJggg==\" style=\"width: 5em; image-rendering: -moz-crisp-edges; image-rendering: crisp-edges; image-rendering: pixelated; \"></td></tr><tr><td>target.id</td><td>('crouch', 0)</td></tr><tr><td>target.image</td><td><img alt=\"image with key md5-5687866c9d8afcb799040d26db4043b2\" src=\"data:image/png;base64,iVBORw0KGgoAAAANSUhEUgAAAAgAAAAICAYAAADED76LAAAAVUlEQVR4nGNgoBjEh/v/R6bRAdO+KywM8eH+//ddYcFqACOyThV5X4Y7DzfDJReu3MjIiM94BgYGBiZCbmRqLpvzf98VFgYVeV8GBgYGBmQ2AwMDAwDD+BklVYPU7gAAAABJRU5ErkJggg==\" style=\"width: 5em; image-rendering: -moz-crisp-edges; image-rendering: crisp-edges; image-rendering: pixelated; \"></td></tr><tr><td>preview</td><td><img alt=\"clip preview\" src=\"data:image/gif;base64,R0lGODlhCAAIAIEAAF9XTx0rU4N2nAAAACH/C05FVFNDQVBFMi4wAwEAAAAsAAAAAAgACAAACDIABwgcSLDgAAADAAxYuDAAgAADIkYEQFEAgIsDBgDYyBHAAAAgQwIQEEAAgAACAAAICAA7\" style=\"width: 5em; image-rendering: -moz-crisp-edges; image-rendering: crisp-edges; image-rendering: pixelated; \"></td></tr></table>"
      ],
      "text/plain": [
       "Transition(id=12, source=Frame(id='('crouch', 0)'), targetFrame(id='('crouch', 0)'))"
      ]
     },
     "execution_count": 25,
     "metadata": {},
     "output_type": "execute_result"
    }
   ],
   "source": [
    "crouch.transition_to(crouch)"
   ]
  },
  {
   "cell_type": "code",
   "execution_count": 26,
   "metadata": {},
   "outputs": [
    {
     "data": {
      "image/gif": "[encoded data removed]",
      "text/html": [
       "<table><tr><th>Transition</th><th></th></tr><tr><td>id</td><td>13</td></tr><tr><td>source.id</td><td>('crouch', 0)</td></tr><tr><td>source.image</td><td><img alt=\"image with key md5-5687866c9d8afcb799040d26db4043b2\" src=\"data:image/png;base64,iVBORw0KGgoAAAANSUhEUgAAAAgAAAAICAYAAADED76LAAAAVUlEQVR4nGNgoBjEh/v/R6bRAdO+KywM8eH+//ddYcFqACOyThV5X4Y7DzfDJReu3MjIiM94BgYGBiZCbmRqLpvzf98VFgYVeV8GBgYGBmQ2AwMDAwDD+BklVYPU7gAAAABJRU5ErkJggg==\" style=\"width: 5em; image-rendering: -moz-crisp-edges; image-rendering: crisp-edges; image-rendering: pixelated; \"></td></tr><tr><td>target.id</td><td>('lie_down', 0)</td></tr><tr><td>target.image</td><td><img alt=\"image with key md5-94586f055b7a982c3dcb58c7e4eefd48\" src=\"data:image/png;base64,iVBORw0KGgoAAAANSUhEUgAAAAgAAAAICAYAAADED76LAAAAUElEQVR4nGNgoBqID/f/j02cJT7c//++KywMDAx/sGpkRNapIu/LcOfhZrjkwpUbGRnxGc/AwMDAJKsdjFOSgYGBgQlmNAzsu8LCAHETBAAA2BYU/9YnwuIAAAAASUVORK5CYII=\" style=\"width: 5em; image-rendering: -moz-crisp-edges; image-rendering: crisp-edges; image-rendering: pixelated; \"></td></tr><tr><td>preview</td><td><img alt=\"clip preview\" src=\"data:image/gif;base64,R0lGODlhCAAIAIEAAF9XTx0rU4N2nAAAACH/C05FVFNDQVBFMi4wAwEAAAAsAAAAAAgACAAACDIABwgcSLDgAAADAAxYuDAAgAADIkYEQFEAgIsDBgDYyBHAAAAgQwIQEEAAgAACAAAICAAh/wtORVRTQ0FQRTIuMAMBAAAALAAAAgAGAAYAgV9XTx0rU4N2nAAAAAgjAAcMADCgIIAAAAYoBMBQAAAAAwBIlBgAgEWLAQQAABAgQEAAOw==\" style=\"width: 5em; image-rendering: -moz-crisp-edges; image-rendering: crisp-edges; image-rendering: pixelated; \"></td></tr></table>"
      ],
      "text/plain": [
       "Transition(id=13, source=Frame(id='('crouch', 0)'), targetFrame(id='('lie_down', 0)'))"
      ]
     },
     "execution_count": 26,
     "metadata": {},
     "output_type": "execute_result"
    }
   ],
   "source": [
    "crouch.transition_to(lie_down)"
   ]
  },
  {
   "cell_type": "code",
   "execution_count": 27,
   "metadata": {},
   "outputs": [
    {
     "data": {
      "image/gif": "[encoded data removed]",
      "text/html": [
       "<table><tr><th>Transition</th><th></th></tr><tr><td>id</td><td>14</td></tr><tr><td>source.id</td><td>('lie_down', 0)</td></tr><tr><td>source.image</td><td><img alt=\"image with key md5-94586f055b7a982c3dcb58c7e4eefd48\" src=\"data:image/png;base64,iVBORw0KGgoAAAANSUhEUgAAAAgAAAAICAYAAADED76LAAAAUElEQVR4nGNgoBqID/f/j02cJT7c//++KywMDAx/sGpkRNapIu/LcOfhZrjkwpUbGRnxGc/AwMDAJKsdjFOSgYGBgQlmNAzsu8LCAHETBAAA2BYU/9YnwuIAAAAASUVORK5CYII=\" style=\"width: 5em; image-rendering: -moz-crisp-edges; image-rendering: crisp-edges; image-rendering: pixelated; \"></td></tr><tr><td>target.id</td><td>('lie_down', 0)</td></tr><tr><td>target.image</td><td><img alt=\"image with key md5-94586f055b7a982c3dcb58c7e4eefd48\" src=\"data:image/png;base64,iVBORw0KGgoAAAANSUhEUgAAAAgAAAAICAYAAADED76LAAAAUElEQVR4nGNgoBqID/f/j02cJT7c//++KywMDAx/sGpkRNapIu/LcOfhZrjkwpUbGRnxGc/AwMDAJKsdjFOSgYGBgQlmNAzsu8LCAHETBAAA2BYU/9YnwuIAAAAASUVORK5CYII=\" style=\"width: 5em; image-rendering: -moz-crisp-edges; image-rendering: crisp-edges; image-rendering: pixelated; \"></td></tr><tr><td>preview</td><td><img alt=\"clip preview\" src=\"data:image/gif;base64,R0lGODlhCAAIAIEAAF9XTx0rU4N2nAAAACH/C05FVFNDQVBFMi4wAwEAAAAsAAAAAAgACAAACDAABwgcSLDgQAADEiYEEADAgIcPAUgUAKDigAEAMmoEEACAx48AAggAACBAAAAAAgIAOw==\" style=\"width: 5em; image-rendering: -moz-crisp-edges; image-rendering: crisp-edges; image-rendering: pixelated; \"></td></tr></table>"
      ],
      "text/plain": [
       "Transition(id=14, source=Frame(id='('lie_down', 0)'), targetFrame(id='('lie_down', 0)'))"
      ]
     },
     "execution_count": 27,
     "metadata": {},
     "output_type": "execute_result"
    }
   ],
   "source": [
    "lie_down.transition_to(lie_down)"
   ]
  },
  {
   "cell_type": "code",
   "execution_count": 28,
   "metadata": {},
   "outputs": [
    {
     "data": {
      "image/gif": "[encoded data removed]",
      "text/html": [
       "<table><tr><th>Transition</th><th></th></tr><tr><td>id</td><td>15</td></tr><tr><td>source.id</td><td>('lie_down', 0)</td></tr><tr><td>source.image</td><td><img alt=\"image with key md5-94586f055b7a982c3dcb58c7e4eefd48\" src=\"data:image/png;base64,iVBORw0KGgoAAAANSUhEUgAAAAgAAAAICAYAAADED76LAAAAUElEQVR4nGNgoBqID/f/j02cJT7c//++KywMDAx/sGpkRNapIu/LcOfhZrjkwpUbGRnxGc/AwMDAJKsdjFOSgYGBgQlmNAzsu8LCAHETBAAA2BYU/9YnwuIAAAAASUVORK5CYII=\" style=\"width: 5em; image-rendering: -moz-crisp-edges; image-rendering: crisp-edges; image-rendering: pixelated; \"></td></tr><tr><td>target.id</td><td>('crouch', 0)</td></tr><tr><td>target.image</td><td><img alt=\"image with key md5-5687866c9d8afcb799040d26db4043b2\" src=\"data:image/png;base64,iVBORw0KGgoAAAANSUhEUgAAAAgAAAAICAYAAADED76LAAAAVUlEQVR4nGNgoBjEh/v/R6bRAdO+KywM8eH+//ddYcFqACOyThV5X4Y7DzfDJReu3MjIiM94BgYGBiZCbmRqLpvzf98VFgYVeV8GBgYGBmQ2AwMDAwDD+BklVYPU7gAAAABJRU5ErkJggg==\" style=\"width: 5em; image-rendering: -moz-crisp-edges; image-rendering: crisp-edges; image-rendering: pixelated; \"></td></tr><tr><td>preview</td><td><img alt=\"clip preview\" src=\"data:image/gif;base64,R0lGODlhCAAIAIEAAF9XTx0rU4N2nAAAACH/C05FVFNDQVBFMi4wAwEAAAAsAAAAAAgACAAACDAABwgcSLDgQAADEiYEEADAgIcPAUgUAKDigAEAMmoEEACAx48AAggAACBAAAAAAgIAIf8LTkVUU0NBUEUyLjADAQAAACwAAAIABgAGAIFfV08dK1ODdpwAAAAIIwABDAAwoGAAAAEGKATAUAAAAAMASJQ4AIBFiwICCAAQQEBAADs=\" style=\"width: 5em; image-rendering: -moz-crisp-edges; image-rendering: crisp-edges; image-rendering: pixelated; \"></td></tr></table>"
      ],
      "text/plain": [
       "Transition(id=15, source=Frame(id='('lie_down', 0)'), targetFrame(id='('crouch', 0)'))"
      ]
     },
     "execution_count": 28,
     "metadata": {},
     "output_type": "execute_result"
    }
   ],
   "source": [
    "lie_down.transition_to(crouch)"
   ]
  },
  {
   "cell_type": "code",
   "execution_count": 29,
   "metadata": {},
   "outputs": [
    {
     "data": {
      "image/gif": "[encoded data removed]",
      "text/html": [
       "<table><tr><th>Transition</th><th></th></tr><tr><td>id</td><td>16</td></tr><tr><td>source.id</td><td>('crouch', 0)</td></tr><tr><td>source.image</td><td><img alt=\"image with key md5-5687866c9d8afcb799040d26db4043b2\" src=\"data:image/png;base64,iVBORw0KGgoAAAANSUhEUgAAAAgAAAAICAYAAADED76LAAAAVUlEQVR4nGNgoBjEh/v/R6bRAdO+KywM8eH+//ddYcFqACOyThV5X4Y7DzfDJReu3MjIiM94BgYGBiZCbmRqLpvzf98VFgYVeV8GBgYGBmQ2AwMDAwDD+BklVYPU7gAAAABJRU5ErkJggg==\" style=\"width: 5em; image-rendering: -moz-crisp-edges; image-rendering: crisp-edges; image-rendering: pixelated; \"></td></tr><tr><td>target.id</td><td>('crouch_to_sit', 0)</td></tr><tr><td>target.image</td><td><img alt=\"image with key md5-705b3720daa0270ec189db73f6cf4e52\" src=\"data:image/png;base64,iVBORw0KGgoAAAANSUhEUgAAAAgAAAAICAYAAADED76LAAAAa0lEQVR4nGNgIATiw/3/I9PogGnfFRaG+HD///uusGA1gMlJ5w8DAwMDg5POH4bmsjkYpjDiMn7fFRaGx1fXMmI3F2riPobg/0z4POCk84eBiYGBgUFF3pdBRd6XYd8VFoZ9V1gYVOR94YoAzf0ebhITEXwAAAAASUVORK5CYII=\" style=\"width: 5em; image-rendering: -moz-crisp-edges; image-rendering: crisp-edges; image-rendering: pixelated; \"></td></tr><tr><td>preview</td><td><img alt=\"clip preview\" src=\"data:image/gif;base64,R0lGODlhCAAIAIEAAF9XTx0rU4N2nAAAACH/C05FVFNDQVBFMi4wAwEAAAAsAAAAAAgACAAACDIABwgcSLDgAAADAAxYuDAAgAADIkYEQFEAgIsDBgDYyBHAAAAgQwIQEEAAgAACAAAICAAh/wtORVRTQ0FQRTIuMAMBAAAALAAAAQAIAAcAgV9XTx0rU4N2nAAAAAgxAAEMADCgYMEAAAIMWLgQgEMBAyJGBECRYoABAwBo3BhgAICPIAEMECAgQAABAAAEBAAh/wtORVRTQ0FQRTIuMAMBAAAALAAAAQAHAAcAgV9XTx0rU4N2nAAAAAgvAAcAGABggMEBAQAEGMBwAICHAgZIHACgYsUBAwBo1DhgAICPHwcMEBAggAAAAQEAIf8LTkVUU0NBUEUyLjADAQAAACwBAAAABwAIAIFfV08dK1ODdpwAAAAINQABDAAwoOCAAAACDFg4AIBDAQMiDgBAEcCAiwAyZhwwAIBHjwMGAAgAoGSAAQIEBBAAAEBAADs=\" style=\"width: 5em; image-rendering: -moz-crisp-edges; image-rendering: crisp-edges; image-rendering: pixelated; \"></td></tr></table>"
      ],
      "text/plain": [
       "Transition(id=16, source=Frame(id='('crouch', 0)'), targetFrame(id='('crouch_to_sit', 0)'))"
      ]
     },
     "execution_count": 29,
     "metadata": {},
     "output_type": "execute_result"
    }
   ],
   "source": [
    "crouch.transition_to(crouch_to_sit)"
   ]
  },
  {
   "cell_type": "code",
   "execution_count": 31,
   "metadata": {},
   "outputs": [
    {
     "data": {
      "image/gif": "[encoded data removed]",
      "text/html": [
       "<table><tr><th>Transition</th><th></th></tr><tr><td>id</td><td>17</td></tr><tr><td>source.id</td><td>('crouch_to_sit', 2)</td></tr><tr><td>source.image</td><td><img alt=\"image with key md5-e909ad843044742863d412941920f4f8\" src=\"data:image/png;base64,iVBORw0KGgoAAAANSUhEUgAAAAgAAAAICAYAAADED76LAAAAY0lEQVR4nGNgYGBgiA/3/49MIwMmBgYGhn1XWBjiw/3/77vCgi4PUeCk84cBRjeXzUExhRHGQDd+4cqNjHATsAGYBpwKUNwAA+iOlNUO/g9XoCLvy5Dm7cmw7woLg4q8L9zRAEjrHPwUhutBAAAAAElFTkSuQmCC\" style=\"width: 5em; image-rendering: -moz-crisp-edges; image-rendering: crisp-edges; image-rendering: pixelated; \"></td></tr><tr><td>target.id</td><td>('sit', 0)</td></tr><tr><td>target.image</td><td><img alt=\"image with key md5-9b084a2f4cc7a7f940fac47ebe710c45\" src=\"data:image/png;base64,iVBORw0KGgoAAAANSUhEUgAAAAgAAAAICAYAAADED76LAAAAXElEQVR4nGNgYGBgiA/3/49MIwMmBgYGhn1XWBjiw/3/77vCgi4PUeCk84cBRjeXzUExhRHGQDd+4cqNjHATsAGYBpwKUNwAA+iOlNUO/g9XoCLvC6dhbCedPwwAJgMa/Dg5AkIAAAAASUVORK5CYII=\" style=\"width: 5em; image-rendering: -moz-crisp-edges; image-rendering: crisp-edges; image-rendering: pixelated; \"></td></tr><tr><td>preview</td><td><img alt=\"clip preview\" src=\"data:image/gif;base64,R0lGODlhCAAIAIEAAF9XTx0rU4N2nAAAACH/C05FVFNDQVBFMi4wAwEAAAAsAAAAAAgACAAACDUABwgcKBDAAAADEiYMACDAgIcPAUgUMKBiRQAYMQYYMACAx48BBgAYSRLAAAECAgQQAABAQAAh/wtORVRTQ0FQRTIuMAMBAAAALAAAAQAHAAcAgV9XTx0rU4N2nAAAAAgvAAcAGABggMEBAQAEGMBwAICHAgZIHACgYsUBAwBo1DhgAICPHwcMEBAggAAAAQEAIf8LTkVUU0NBUEUyLjADAQAAACwBAAAABwAIAIFfV08dK1ODdpwAAAAINQABDAAwoOCAAAACDFg4AIBDAQMiDgBAEcCAiwAyZhwwAIBHjwMGAAgAoGSAAQIEBBAAAEBAACH/C05FVFNDQVBFMi4wAwEAAAAsAwAHAAIAAQCBX1dPHStTg3acAAAACAUAAwgICAA7\" style=\"width: 5em; image-rendering: -moz-crisp-edges; image-rendering: crisp-edges; image-rendering: pixelated; \"></td></tr></table>"
      ],
      "text/plain": [
       "Transition(id=17, source=Frame(id='('crouch_to_sit', 2)'), targetFrame(id='('sit', 0)'))"
      ]
     },
     "execution_count": 31,
     "metadata": {},
     "output_type": "execute_result"
    }
   ],
   "source": [
    "crouch_to_sit.transition_to(sit)"
   ]
  },
  {
   "cell_type": "code",
   "execution_count": null,
   "metadata": {},
   "outputs": [],
   "source": []
  }
 ],
 "metadata": {
  "kernelspec": {
   "display_name": "Python 3",
   "language": "python",
   "name": "python3"
  },
  "language_info": {
   "codemirror_mode": {
    "name": "ipython",
    "version": 3
   },
   "file_extension": ".py",
   "mimetype": "text/x-python",
   "name": "python",
   "nbconvert_exporter": "python",
   "pygments_lexer": "ipython3",
   "version": "3.6.1"
  }
 },
 "nbformat": 4,
 "nbformat_minor": 2
}
