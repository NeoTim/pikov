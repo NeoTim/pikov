{
 "cells": [
  {
   "cell_type": "code",
   "execution_count": 1,
   "metadata": {},
   "outputs": [],
   "source": [
    "from pikov import pikov\n",
    "gamekitty = pikov.Pikov.open('gamekitty.pikov')"
   ]
  },
  {
   "cell_type": "markdown",
   "metadata": {},
   "source": [
    "Add all transitions to clips where gamekitty does not move side-to-side."
   ]
  },
  {
   "cell_type": "code",
   "execution_count": 2,
   "metadata": {},
   "outputs": [],
   "source": [
    "sit = gamekitty.get_frame('sit_0')\n",
    "sit_paw = gamekitty.get_frame('sit_paw_0')\n",
    "sit_to_stand = gamekitty.get_frame('sit_to_stand_0')\n",
    "stand_waggle = gamekitty.get_frame('stand_waggle_0')\n",
    "stand_to_sit = gamekitty.get_frame('stand_to_sit_0')\n",
    "sit_to_crouch = gamekitty.get_frame('sit_to_crouch_0')\n",
    "crouch = gamekitty.get_frame('crouch_0')\n",
    "lie_down = gamekitty.get_frame('lie_down_0')\n",
    "crouch_to_sit = gamekitty.get_frame('crouch_to_sit_0')"
   ]
  },
  {
   "cell_type": "code",
   "execution_count": 3,
   "metadata": {},
   "outputs": [
    {
     "data": {
      "text/plain": [
       "(Frame(id='crouch_0'),\n",
       " Frame(id='crouch_to_sit_2'),\n",
       " Frame(id='lie_down_0'),\n",
       " Frame(id='sit_0'),\n",
       " Frame(id='sit_paw_3'),\n",
       " Frame(id='sit_to_crouch_2'),\n",
       " Frame(id='sit_to_stand_3'),\n",
       " Frame(id='stand_to_sit_4'),\n",
       " Frame(id='stand_waggle_1'))"
      ]
     },
     "execution_count": 3,
     "metadata": {},
     "output_type": "execute_result"
    }
   ],
   "source": [
    "# Find any absorbing (dead-end) frames\n",
    "# to see how many clips left to connect.\n",
    "gamekitty.find_absorbing_frames()"
   ]
  },
  {
   "cell_type": "code",
   "execution_count": 4,
   "metadata": {},
   "outputs": [],
   "source": [
    "sit_paw_end = gamekitty.get_frame('sit_paw_3')\n",
    "sit_to_stand_end = gamekitty.get_frame('sit_to_stand_3')\n",
    "stand_waggle_end = gamekitty.get_frame('stand_waggle_1')\n",
    "stand_to_sit_end = gamekitty.get_frame('stand_to_sit_4')\n",
    "sit_to_crouch_end = gamekitty.get_frame('sit_to_crouch_2')\n",
    "crouch_to_sit_end = gamekitty.get_frame('crouch_to_sit_2')"
   ]
  },
  {
   "cell_type": "code",
   "execution_count": 5,
   "metadata": {},
   "outputs": [
    {
     "data": {
      "image/gif": "[encoded data removed]",
      "text/html": [
       "<table><tr><th>Transition</th><th></th></tr><tr><td>id</td><td>16</td></tr><tr><td>source.id</td><td>sit_0</td></tr><tr><td>source.image</td><td><img alt=\"image with key md5-9b084a2f4cc7a7f940fac47ebe710c45\" src=\"data:image/png;base64,iVBORw0KGgoAAAANSUhEUgAAAAgAAAAICAYAAADED76LAAAAXElEQVR4nGNgYGBgiA/3/49MIwMmBgYGhn1XWBjiw/3/77vCgi4PUeCk84cBRjeXzUExhRHGQDd+4cqNjHATsAGYBpwKUNwAA+iOlNUO/g9XoCLvC6dhbCedPwwAJgMa/Dg5AkIAAAAASUVORK5CYII=\" style=\"width: 5em; image-rendering: -moz-crisp-edges; image-rendering: crisp-edges; image-rendering: pixelated; \"></td></tr><tr><td>target.id</td><td>sit_0</td></tr><tr><td>target.image</td><td><img alt=\"image with key md5-9b084a2f4cc7a7f940fac47ebe710c45\" src=\"data:image/png;base64,iVBORw0KGgoAAAANSUhEUgAAAAgAAAAICAYAAADED76LAAAAXElEQVR4nGNgYGBgiA/3/49MIwMmBgYGhn1XWBjiw/3/77vCgi4PUeCk84cBRjeXzUExhRHGQDd+4cqNjHATsAGYBpwKUNwAA+iOlNUO/g9XoCLvC6dhbCedPwwAJgMa/Dg5AkIAAAAASUVORK5CYII=\" style=\"width: 5em; image-rendering: -moz-crisp-edges; image-rendering: crisp-edges; image-rendering: pixelated; \"></td></tr><tr><td>preview</td><td><img alt=\"clip preview\" src=\"data:image/gif;base64,R0lGODlhCAAIAIEAAF9XTx0rU4N2nAAAACH5BAAQAAAAIf8LTkVUU0NBUEUyLjADAQAAACwAAAAACAAIAAAIOQAHABgAYIBBgwEABBjAkCGAhwIGSJQIoCKAARgHANi4cYBHACBBDhgJIACAkwEGDBAQQIAAAAACAgA7\" style=\"width: 5em; image-rendering: -moz-crisp-edges; image-rendering: crisp-edges; image-rendering: pixelated; \"></td></tr></table>"
      ],
      "text/plain": [
       "Transition(id=16, source=Frame(id='sit_0'), targetFrame(id='sit_0'))"
      ]
     },
     "execution_count": 5,
     "metadata": {},
     "output_type": "execute_result"
    }
   ],
   "source": [
    "sit.transition_to(sit)"
   ]
  },
  {
   "cell_type": "code",
   "execution_count": 6,
   "metadata": {},
   "outputs": [
    {
     "data": {
      "image/gif": "[encoded data removed]",
      "text/html": [
       "<table><tr><th>Transition</th><th></th></tr><tr><td>id</td><td>17</td></tr><tr><td>source.id</td><td>sit_0</td></tr><tr><td>source.image</td><td><img alt=\"image with key md5-9b084a2f4cc7a7f940fac47ebe710c45\" src=\"data:image/png;base64,iVBORw0KGgoAAAANSUhEUgAAAAgAAAAICAYAAADED76LAAAAXElEQVR4nGNgYGBgiA/3/49MIwMmBgYGhn1XWBjiw/3/77vCgi4PUeCk84cBRjeXzUExhRHGQDd+4cqNjHATsAGYBpwKUNwAA+iOlNUO/g9XoCLvC6dhbCedPwwAJgMa/Dg5AkIAAAAASUVORK5CYII=\" style=\"width: 5em; image-rendering: -moz-crisp-edges; image-rendering: crisp-edges; image-rendering: pixelated; \"></td></tr><tr><td>target.id</td><td>sit_to_stand_0</td></tr><tr><td>target.image</td><td><img alt=\"image with key md5-7a5590b1aadeab3f768c176af5083b66\" src=\"data:image/png;base64,iVBORw0KGgoAAAANSUhEUgAAAAgAAAAICAYAAADED76LAAAAY0lEQVR4nGNgYGBgiA/3/49MIwMmBgYGhn1XWBjiw/3/77vCgi4PUeCk84cBRjeXzUExhRHGQDd+4cqNjHATsAGYBpwKUNwAAyryviiSstrB/5mQJWdt3c6w7woLXKGTzh8GACZ6HQIJhIKyAAAAAElFTkSuQmCC\" style=\"width: 5em; image-rendering: -moz-crisp-edges; image-rendering: crisp-edges; image-rendering: pixelated; \"></td></tr><tr><td>preview</td><td><img alt=\"clip preview\" src=\"data:image/gif;base64,R0lGODlhCAAIAIEAAF9XTx0rU4N2nAAAACH5BAAIAAAAIf8LTkVUU0NBUEUyLjADAQAAACwAAAAACAAIAAAIOQAHABgAYIBBgwEABBjAkCGAhwIGSJQIoCKAARgHANi4cYBHACBBDhgJIACAkwEGDBAQQIAAAAACAgAh+QQACAAAACH/C05FVFNDQVBFMi4wAwEAAAAsAwAGAAIAAgCBX1dPHStTg3acAAAACAcABQAIECAgADs=\" style=\"width: 5em; image-rendering: -moz-crisp-edges; image-rendering: crisp-edges; image-rendering: pixelated; \"></td></tr></table>"
      ],
      "text/plain": [
       "Transition(id=17, source=Frame(id='sit_0'), targetFrame(id='sit_to_stand_0'))"
      ]
     },
     "execution_count": 6,
     "metadata": {},
     "output_type": "execute_result"
    }
   ],
   "source": [
    "sit.transition_to(sit_to_stand)"
   ]
  },
  {
   "cell_type": "code",
   "execution_count": 7,
   "metadata": {},
   "outputs": [
    {
     "data": {
      "image/gif": "[encoded data removed]",
      "text/html": [
       "<table><tr><th>Transition</th><th></th></tr><tr><td>id</td><td>18</td></tr><tr><td>source.id</td><td>sit_0</td></tr><tr><td>source.image</td><td><img alt=\"image with key md5-9b084a2f4cc7a7f940fac47ebe710c45\" src=\"data:image/png;base64,iVBORw0KGgoAAAANSUhEUgAAAAgAAAAICAYAAADED76LAAAAXElEQVR4nGNgYGBgiA/3/49MIwMmBgYGhn1XWBjiw/3/77vCgi4PUeCk84cBRjeXzUExhRHGQDd+4cqNjHATsAGYBpwKUNwAA+iOlNUO/g9XoCLvC6dhbCedPwwAJgMa/Dg5AkIAAAAASUVORK5CYII=\" style=\"width: 5em; image-rendering: -moz-crisp-edges; image-rendering: crisp-edges; image-rendering: pixelated; \"></td></tr><tr><td>target.id</td><td>sit_to_crouch_0</td></tr><tr><td>target.image</td><td><img alt=\"image with key md5-e909ad843044742863d412941920f4f8\" src=\"data:image/png;base64,iVBORw0KGgoAAAANSUhEUgAAAAgAAAAICAYAAADED76LAAAAY0lEQVR4nGNgYGBgiA/3/49MIwMmBgYGhn1XWBjiw/3/77vCgi4PUeCk84cBRjeXzUExhRHGQDd+4cqNjHATsAGYBpwKUNwAA+iOlNUO/g9XoCLvy5Dm7cmw7woLg4q8L9zRAEjrHPwUhutBAAAAAElFTkSuQmCC\" style=\"width: 5em; image-rendering: -moz-crisp-edges; image-rendering: crisp-edges; image-rendering: pixelated; \"></td></tr><tr><td>preview</td><td><img alt=\"clip preview\" src=\"data:image/gif;base64,R0lGODlhCAAIAIEAAF9XTx0rU4N2nAAAACH5BAAIAAAAIf8LTkVUU0NBUEUyLjADAQAAACwAAAAACAAIAAAIOQAHABgAYIBBgwEABBjAkCGAhwIGSJQIoCKAARgHANi4cYBHACBBDhgJIACAkwEGDBAQQIAAAAACAgAh+QQACAAAACH/C05FVFNDQVBFMi4wAwEAAAAsAwAHAAIAAQCBX1dPHStTg3acAAAACAUABQQICAA7\" style=\"width: 5em; image-rendering: -moz-crisp-edges; image-rendering: crisp-edges; image-rendering: pixelated; \"></td></tr></table>"
      ],
      "text/plain": [
       "Transition(id=18, source=Frame(id='sit_0'), targetFrame(id='sit_to_crouch_0'))"
      ]
     },
     "execution_count": 7,
     "metadata": {},
     "output_type": "execute_result"
    }
   ],
   "source": [
    "sit.transition_to(sit_to_crouch)"
   ]
  },
  {
   "cell_type": "code",
   "execution_count": 8,
   "metadata": {},
   "outputs": [],
   "source": [
    "# sit.transition_to(turn_from_sit)"
   ]
  },
  {
   "cell_type": "code",
   "execution_count": 9,
   "metadata": {},
   "outputs": [
    {
     "data": {
      "image/gif": "[encoded data removed]",
      "text/html": [
       "<table><tr><th>Transition</th><th></th></tr><tr><td>id</td><td>19</td></tr><tr><td>source.id</td><td>sit_0</td></tr><tr><td>source.image</td><td><img alt=\"image with key md5-9b084a2f4cc7a7f940fac47ebe710c45\" src=\"data:image/png;base64,iVBORw0KGgoAAAANSUhEUgAAAAgAAAAICAYAAADED76LAAAAXElEQVR4nGNgYGBgiA/3/49MIwMmBgYGhn1XWBjiw/3/77vCgi4PUeCk84cBRjeXzUExhRHGQDd+4cqNjHATsAGYBpwKUNwAA+iOlNUO/g9XoCLvC6dhbCedPwwAJgMa/Dg5AkIAAAAASUVORK5CYII=\" style=\"width: 5em; image-rendering: -moz-crisp-edges; image-rendering: crisp-edges; image-rendering: pixelated; \"></td></tr><tr><td>target.id</td><td>sit_paw_0</td></tr><tr><td>target.image</td><td><img alt=\"image with key md5-ebf655bd0227763a437b8f97b57a618e\" src=\"data:image/png;base64,iVBORw0KGgoAAAANSUhEUgAAAAgAAAAICAYAAADED76LAAAAdElEQVR4nGNgYGBgiA/3/49MIwMmBgYGhn1XWBjiw/3/77vCgi4PUeCk84cBRjeXzUExhRHGQDd+4cqNjHATsAGYBkZcjoO5jYmBgYFBRd6XYeHKjYzYHAl3g6x28H8GBgaGNG9PBgYGBoY7DzczMDAwMAAAynIhcFzYUD4AAAAASUVORK5CYII=\" style=\"width: 5em; image-rendering: -moz-crisp-edges; image-rendering: crisp-edges; image-rendering: pixelated; \"></td></tr><tr><td>preview</td><td><img alt=\"clip preview\" src=\"data:image/gif;base64,R0lGODlhCAAIAIEAAF9XTx0rU4N2nAAAACH5BAAIAAAAIf8LTkVUU0NBUEUyLjADAQAAACwAAAAACAAIAAAIOQAHABgAYIBBgwEABBjAkCGAhwIGSJQIoCKAARgHANi4cYBHACBBDhgJIACAkwEGDBAQQIAAAAACAgAh+QQACAAAACH/C05FVFNDQVBFMi4wAwEAAAAsAQAFAAcAAwCBX1dPHStTg3acAAAACBYAAQgcGEDAgAAAEgYYECCAAAEAAAQEADs=\" style=\"width: 5em; image-rendering: -moz-crisp-edges; image-rendering: crisp-edges; image-rendering: pixelated; \"></td></tr></table>"
      ],
      "text/plain": [
       "Transition(id=19, source=Frame(id='sit_0'), targetFrame(id='sit_paw_0'))"
      ]
     },
     "execution_count": 9,
     "metadata": {},
     "output_type": "execute_result"
    }
   ],
   "source": [
    "sit.transition_to(sit_paw)"
   ]
  },
  {
   "cell_type": "code",
   "execution_count": 10,
   "metadata": {},
   "outputs": [
    {
     "data": {
      "text/plain": [
       "(Transition(id=16, source=Frame(id='sit_0'), targetFrame(id='sit_0')),\n",
       " Transition(id=19, source=Frame(id='sit_0'), targetFrame(id='sit_paw_0')),\n",
       " Transition(id=18, source=Frame(id='sit_0'), targetFrame(id='sit_to_crouch_0')),\n",
       " Transition(id=17, source=Frame(id='sit_0'), targetFrame(id='sit_to_stand_0')))"
      ]
     },
     "execution_count": 10,
     "metadata": {},
     "output_type": "execute_result"
    }
   ],
   "source": [
    "sit.transitions"
   ]
  },
  {
   "cell_type": "code",
   "execution_count": 11,
   "metadata": {},
   "outputs": [
    {
     "data": {
      "image/gif": "[encoded data removed]",
      "text/html": [
       "<table><tr><th>Transition</th><th></th></tr><tr><td>id</td><td>20</td></tr><tr><td>source.id</td><td>sit_paw_3</td></tr><tr><td>source.image</td><td><img alt=\"image with key md5-5bb8569f592cf752ced48dd7a882d90d\" src=\"data:image/png;base64,iVBORw0KGgoAAAANSUhEUgAAAAgAAAAICAYAAADED76LAAAAcUlEQVR4nGNgYGBgiA/3/49MIwMmBgYGhn1XWBjiw/3/77vCgi4PUeCk84cBRjeXzUExhRHGQDd+4cqNjHATsAGYBpwKGBgYGGS1g//DFSxcuZFRRd4XQxEjsmoGBgaGNG9PBgYGBoY7DzczMDAwMAAAt7Qd22ve8icAAAAASUVORK5CYII=\" style=\"width: 5em; image-rendering: -moz-crisp-edges; image-rendering: crisp-edges; image-rendering: pixelated; \"></td></tr><tr><td>target.id</td><td>sit_0</td></tr><tr><td>target.image</td><td><img alt=\"image with key md5-9b084a2f4cc7a7f940fac47ebe710c45\" src=\"data:image/png;base64,iVBORw0KGgoAAAANSUhEUgAAAAgAAAAICAYAAADED76LAAAAXElEQVR4nGNgYGBgiA/3/49MIwMmBgYGhn1XWBjiw/3/77vCgi4PUeCk84cBRjeXzUExhRHGQDd+4cqNjHATsAGYBpwKUNwAA+iOlNUO/g9XoCLvC6dhbCedPwwAJgMa/Dg5AkIAAAAASUVORK5CYII=\" style=\"width: 5em; image-rendering: -moz-crisp-edges; image-rendering: crisp-edges; image-rendering: pixelated; \"></td></tr><tr><td>preview</td><td><img alt=\"clip preview\" src=\"data:image/gif;base64,R0lGODlhCAAIAIEAAF9XTx0rU4N2nAAAACH5BAAIAAAAIf8LTkVUU0NBUEUyLjADAQAAACwAAAAACAAIAAAIOQAHABgAYIBBgwEABBjAkCGAhwIGSJQIoCKAARgHANi4cYBHACBBBhhAUgCAkwEGDAgQQIAAAAACAgAh+QQACAAAACH/C05FVFNDQVBFMi4wAwEAAAAsAgAFAAYAAwCBX1dPHStTg3acAAAACBQAAQgUOABAAAAIAwgIIEAAAAABAQA7\" style=\"width: 5em; image-rendering: -moz-crisp-edges; image-rendering: crisp-edges; image-rendering: pixelated; \"></td></tr></table>"
      ],
      "text/plain": [
       "Transition(id=20, source=Frame(id='sit_paw_3'), targetFrame(id='sit_0'))"
      ]
     },
     "execution_count": 11,
     "metadata": {},
     "output_type": "execute_result"
    }
   ],
   "source": [
    "sit_paw_end.transition_to(sit)"
   ]
  },
  {
   "cell_type": "code",
   "execution_count": 12,
   "metadata": {},
   "outputs": [
    {
     "data": {
      "image/gif": "[encoded data removed]",
      "text/html": [
       "<table><tr><th>Transition</th><th></th></tr><tr><td>id</td><td>21</td></tr><tr><td>source.id</td><td>sit_to_stand_3</td></tr><tr><td>source.image</td><td><img alt=\"image with key md5-55bea535357482806ad24bf699c7941d\" src=\"data:image/png;base64,iVBORw0KGgoAAAANSUhEUgAAAAgAAAAICAYAAADED76LAAAAZ0lEQVR4nGOID/f/z8DAwACj0dlM+66wMMSH+//fd4WFARnAFDE56fxhYGBgYHDS+cPQXDbnPwMDA8PClRsZYQoZ0Y1EBgtXbmRkwiaBDIhXALN34cqNjMgOZmJgYGBQkfdlQKaR2QD0Rx/wn9C1wQAAAABJRU5ErkJggg==\" style=\"width: 5em; image-rendering: -moz-crisp-edges; image-rendering: crisp-edges; image-rendering: pixelated; \"></td></tr><tr><td>target.id</td><td>stand_waggle_0</td></tr><tr><td>target.image</td><td><img alt=\"image with key md5-c28a87eda869e3329710b6e9cbb8cd76\" src=\"data:image/png;base64,iVBORw0KGgoAAAANSUhEUgAAAAgAAAAICAYAAADED76LAAAAX0lEQVR4nGOID/f/z8DAwACjYQDGZ9p3hYUhPtz//74rLAzYAJOTzh8GBgYGBiedPwzNZXP+oytgxGY8DCxcuZGRCau5yFYQrWDhyo2MMBrZwUwMDAwMKvK+DMg0MhsA85Yb8GJtyLkAAAAASUVORK5CYII=\" style=\"width: 5em; image-rendering: -moz-crisp-edges; image-rendering: crisp-edges; image-rendering: pixelated; \"></td></tr><tr><td>preview</td><td><img alt=\"clip preview\" src=\"data:image/gif;base64,R0lGODlhCAAIAIEAAF9XTx0rU4N2nAAAACH5BAAIAAAAIf8LTkVUU0NBUEUyLjADAQAAACwAAAAACAAIAAAIPwABDAAwYACAAQMCAAgwYAAAAAMASBQwYACAAQMAaNw4YACAjyAHDABAsuSAAQAGABgQAMCAAQIGCBgQQMCAgAAh+QQACAAAACH/C05FVFNDQVBFMi4wAwEAAAAsBQAAAAIAAgCBX1dPHStTg3acAAAACAcABwAYACAgADs=\" style=\"width: 5em; image-rendering: -moz-crisp-edges; image-rendering: crisp-edges; image-rendering: pixelated; \"></td></tr></table>"
      ],
      "text/plain": [
       "Transition(id=21, source=Frame(id='sit_to_stand_3'), targetFrame(id='stand_waggle_0'))"
      ]
     },
     "execution_count": 12,
     "metadata": {},
     "output_type": "execute_result"
    }
   ],
   "source": [
    "sit_to_stand_end.transition_to(stand_waggle)"
   ]
  },
  {
   "cell_type": "code",
   "execution_count": 13,
   "metadata": {},
   "outputs": [
    {
     "data": {
      "text/plain": [
       "(Transition(id=21, source=Frame(id='sit_to_stand_3'), targetFrame(id='stand_waggle_0')),)"
      ]
     },
     "execution_count": 13,
     "metadata": {},
     "output_type": "execute_result"
    }
   ],
   "source": [
    "sit_to_stand_end.transitions"
   ]
  },
  {
   "cell_type": "code",
   "execution_count": 13,
   "metadata": {},
   "outputs": [],
   "source": [
    "# stand_waggle.frames[0].transition_to(turn_from_stand.frames[0])"
   ]
  },
  {
   "cell_type": "code",
   "execution_count": 14,
   "metadata": {},
   "outputs": [
    {
     "data": {
      "image/gif": "[encoded data removed]",
      "text/html": [
       "<table><tr><th>Transition</th><th></th></tr><tr><td>id</td><td>22</td></tr><tr><td>source.id</td><td>stand_waggle_1</td></tr><tr><td>source.image</td><td><img alt=\"image with key md5-55bea535357482806ad24bf699c7941d\" src=\"data:image/png;base64,iVBORw0KGgoAAAANSUhEUgAAAAgAAAAICAYAAADED76LAAAAZ0lEQVR4nGOID/f/z8DAwACj0dlM+66wMMSH+//fd4WFARnAFDE56fxhYGBgYHDS+cPQXDbnPwMDA8PClRsZYQoZ0Y1EBgtXbmRkwiaBDIhXALN34cqNjMgOZmJgYGBQkfdlQKaR2QD0Rx/wn9C1wQAAAABJRU5ErkJggg==\" style=\"width: 5em; image-rendering: -moz-crisp-edges; image-rendering: crisp-edges; image-rendering: pixelated; \"></td></tr><tr><td>target.id</td><td>stand_waggle_0</td></tr><tr><td>target.image</td><td><img alt=\"image with key md5-c28a87eda869e3329710b6e9cbb8cd76\" src=\"data:image/png;base64,iVBORw0KGgoAAAANSUhEUgAAAAgAAAAICAYAAADED76LAAAAX0lEQVR4nGOID/f/z8DAwACjYQDGZ9p3hYUhPtz//74rLAzYAJOTzh8GBgYGBiedPwzNZXP+oytgxGY8DCxcuZGRCau5yFYQrWDhyo2MMBrZwUwMDAwMKvK+DMg0MhsA85Yb8GJtyLkAAAAASUVORK5CYII=\" style=\"width: 5em; image-rendering: -moz-crisp-edges; image-rendering: crisp-edges; image-rendering: pixelated; \"></td></tr><tr><td>preview</td><td><img alt=\"clip preview\" src=\"data:image/gif;base64,R0lGODlhCAAIAIEAAF9XTx0rU4N2nAAAACH5BAAIAAAAIf8LTkVUU0NBUEUyLjADAQAAACwAAAAACAAIAAAIPwABDAAwYACAAQMCAAgwYAAAAAMASBQwYACAAQMAaNw4YACAjyAHDABAsuSAAQAGABgQAMCAAQIGCBgQQMCAgAAh+QQACAAAACH/C05FVFNDQVBFMi4wAwEAAAAsBQAAAAIAAgCBX1dPHStTg3acAAAACAcABwAYACAgADs=\" style=\"width: 5em; image-rendering: -moz-crisp-edges; image-rendering: crisp-edges; image-rendering: pixelated; \"></td></tr></table>"
      ],
      "text/plain": [
       "Transition(id=22, source=Frame(id='stand_waggle_1'), targetFrame(id='stand_waggle_0'))"
      ]
     },
     "execution_count": 14,
     "metadata": {},
     "output_type": "execute_result"
    }
   ],
   "source": [
    "stand_waggle_end.transition_to(stand_waggle)"
   ]
  },
  {
   "cell_type": "code",
   "execution_count": 15,
   "metadata": {},
   "outputs": [
    {
     "data": {
      "image/gif": "[encoded data removed]",
      "text/html": [
       "<table><tr><th>Transition</th><th></th></tr><tr><td>id</td><td>23</td></tr><tr><td>source.id</td><td>stand_waggle_1</td></tr><tr><td>source.image</td><td><img alt=\"image with key md5-55bea535357482806ad24bf699c7941d\" src=\"data:image/png;base64,iVBORw0KGgoAAAANSUhEUgAAAAgAAAAICAYAAADED76LAAAAZ0lEQVR4nGOID/f/z8DAwACj0dlM+66wMMSH+//fd4WFARnAFDE56fxhYGBgYHDS+cPQXDbnPwMDA8PClRsZYQoZ0Y1EBgtXbmRkwiaBDIhXALN34cqNjMgOZmJgYGBQkfdlQKaR2QD0Rx/wn9C1wQAAAABJRU5ErkJggg==\" style=\"width: 5em; image-rendering: -moz-crisp-edges; image-rendering: crisp-edges; image-rendering: pixelated; \"></td></tr><tr><td>target.id</td><td>stand_to_sit_0</td></tr><tr><td>target.image</td><td><img alt=\"image with key md5-018dbee985489eec728bbd1b87e29e3e\" src=\"data:image/png;base64,iVBORw0KGgoAAAANSUhEUgAAAAgAAAAICAYAAADED76LAAAAgElEQVR4nG2OLQ6EMBBG3zS9BwbJKfCksrKGa3ABboFcgdis7ymKwxCuQVIEtCFsn5nM5PsZnDURIM1E2pUPGmdN9EHzxlkT5emsq451++GDZl9mcdZEKcUD+KBpmwP1l3vTNgfAJSj1A0yfryiAfZmlrrp8fBpyxTD2WZQeBjgB0T4rZZblbEkAAAAASUVORK5CYII=\" style=\"width: 5em; image-rendering: -moz-crisp-edges; image-rendering: crisp-edges; image-rendering: pixelated; \"></td></tr><tr><td>preview</td><td><img alt=\"clip preview\" src=\"data:image/gif;base64,R0lGODlhCAAIAIEAAF9XTx0rU4N2nAAAACH5BAAIAAAAIf8LTkVUU0NBUEUyLjADAQAAACwAAAAACAAIAAAIPwABDAAwYACAAQMCAAgwYAAAAAMASBQwYACAAQMAaNw4YACAjyAHDABAsuSAAQAGABgQAMCAAQIGCBgQQMCAgAAh+QQACAAAACH/C05FVFNDQVBFMi4wAwEAAAAsAQAAAAcACACBX1dPHStTg3acAAAACDMABwAYQBDAAAABBigEwBCAAAABBgCYSDEAgIsYLwYAwJHjgAECAAwIAGCASQEDAggYEBAAOw==\" style=\"width: 5em; image-rendering: -moz-crisp-edges; image-rendering: crisp-edges; image-rendering: pixelated; \"></td></tr></table>"
      ],
      "text/plain": [
       "Transition(id=23, source=Frame(id='stand_waggle_1'), targetFrame(id='stand_to_sit_0'))"
      ]
     },
     "execution_count": 15,
     "metadata": {},
     "output_type": "execute_result"
    }
   ],
   "source": [
    "stand_waggle_end.transition_to(stand_to_sit)"
   ]
  },
  {
   "cell_type": "code",
   "execution_count": 16,
   "metadata": {},
   "outputs": [],
   "source": [
    "# stand_waggle.transition_to(turn_from_stand)"
   ]
  },
  {
   "cell_type": "code",
   "execution_count": 16,
   "metadata": {},
   "outputs": [
    {
     "data": {
      "image/gif": "[encoded data removed]",
      "text/html": [
       "<table><tr><th>Transition</th><th></th></tr><tr><td>id</td><td>24</td></tr><tr><td>source.id</td><td>stand_waggle_0</td></tr><tr><td>source.image</td><td><img alt=\"image with key md5-c28a87eda869e3329710b6e9cbb8cd76\" src=\"data:image/png;base64,iVBORw0KGgoAAAANSUhEUgAAAAgAAAAICAYAAADED76LAAAAX0lEQVR4nGOID/f/z8DAwACjYQDGZ9p3hYUhPtz//74rLAzYAJOTzh8GBgYGBiedPwzNZXP+oytgxGY8DCxcuZGRCau5yFYQrWDhyo2MMBrZwUwMDAwMKvK+DMg0MhsA85Yb8GJtyLkAAAAASUVORK5CYII=\" style=\"width: 5em; image-rendering: -moz-crisp-edges; image-rendering: crisp-edges; image-rendering: pixelated; \"></td></tr><tr><td>target.id</td><td>stand_to_sit_0</td></tr><tr><td>target.image</td><td><img alt=\"image with key md5-018dbee985489eec728bbd1b87e29e3e\" src=\"data:image/png;base64,iVBORw0KGgoAAAANSUhEUgAAAAgAAAAICAYAAADED76LAAAAgElEQVR4nG2OLQ6EMBBG3zS9BwbJKfCksrKGa3ABboFcgdis7ymKwxCuQVIEtCFsn5nM5PsZnDURIM1E2pUPGmdN9EHzxlkT5emsq451++GDZl9mcdZEKcUD+KBpmwP1l3vTNgfAJSj1A0yfryiAfZmlrrp8fBpyxTD2WZQeBjgB0T4rZZblbEkAAAAASUVORK5CYII=\" style=\"width: 5em; image-rendering: -moz-crisp-edges; image-rendering: crisp-edges; image-rendering: pixelated; \"></td></tr><tr><td>preview</td><td><img alt=\"clip preview\" src=\"data:image/gif;base64,R0lGODlhCAAIAIEAAF9XTx0rU4N2nAAAACH5BAAIAAAAIf8LTkVUU0NBUEUyLjADAQAAACwAAAAACAAIAAAIPQABDAAwoCCAAQEABBjAEMAAABAFDBgAYMAAABgzDhgAoKPHAQMAiBw5YACAAQAGBAAwYICAAQIGBBAwICAAIfkEAAgAAAAh/wtORVRTQ0FQRTIuMAMBAAAALAEAAQAHAAcAgV9XTx0rU4N2nAAAAAgsAAEEGEAQgEEAAgAEGACgocMAACJKjBgAgEWLAwYIADAgAIABIAUMCCBgQEAAOw==\" style=\"width: 5em; image-rendering: -moz-crisp-edges; image-rendering: crisp-edges; image-rendering: pixelated; \"></td></tr></table>"
      ],
      "text/plain": [
       "Transition(id=24, source=Frame(id='stand_waggle_0'), targetFrame(id='stand_to_sit_0'))"
      ]
     },
     "execution_count": 16,
     "metadata": {},
     "output_type": "execute_result"
    }
   ],
   "source": [
    "# Intentionally allow a transition from the first frame in stand_waggle.\n",
    "stand_waggle.transition_to(stand_to_sit)"
   ]
  },
  {
   "cell_type": "code",
   "execution_count": 17,
   "metadata": {},
   "outputs": [
    {
     "data": {
      "text/plain": [
       "(Transition(id=24, source=Frame(id='stand_waggle_0'), targetFrame(id='stand_to_sit_0')),\n",
       " Transition(id=4, source=Frame(id='stand_waggle_0'), targetFrame(id='stand_waggle_1')))"
      ]
     },
     "execution_count": 17,
     "metadata": {},
     "output_type": "execute_result"
    }
   ],
   "source": [
    "stand_waggle.transitions"
   ]
  },
  {
   "cell_type": "code",
   "execution_count": 18,
   "metadata": {},
   "outputs": [
    {
     "data": {
      "text/plain": [
       "(Transition(id=23, source=Frame(id='stand_waggle_1'), targetFrame(id='stand_to_sit_0')),\n",
       " Transition(id=22, source=Frame(id='stand_waggle_1'), targetFrame(id='stand_waggle_0')))"
      ]
     },
     "execution_count": 18,
     "metadata": {},
     "output_type": "execute_result"
    }
   ],
   "source": [
    "stand_waggle_end.transitions"
   ]
  },
  {
   "cell_type": "code",
   "execution_count": 19,
   "metadata": {},
   "outputs": [
    {
     "data": {
      "image/gif": "[encoded data removed]",
      "text/html": [
       "<table><tr><th>Transition</th><th></th></tr><tr><td>id</td><td>25</td></tr><tr><td>source.id</td><td>stand_to_sit_4</td></tr><tr><td>source.image</td><td><img alt=\"image with key md5-a22919af21fb55cc440e4e778ea62f26\" src=\"data:image/png;base64,iVBORw0KGgoAAAANSUhEUgAAAAgAAAAICAYAAADED76LAAAAY0lEQVR4nGNgYGBgiA/3/49MIwMmBgYGhn1XWBjiw/3/77vCgi4PUeCk84cBRjeXzUExhRHGQDd+4cqNjHATsAGYBpwKGBgYGGS1g/+jKIAZi+FIBgYGBhV5XzgNYzvp/GEAAG7JG2J6oHfZAAAAAElFTkSuQmCC\" style=\"width: 5em; image-rendering: -moz-crisp-edges; image-rendering: crisp-edges; image-rendering: pixelated; \"></td></tr><tr><td>target.id</td><td>sit_0</td></tr><tr><td>target.image</td><td><img alt=\"image with key md5-9b084a2f4cc7a7f940fac47ebe710c45\" src=\"data:image/png;base64,iVBORw0KGgoAAAANSUhEUgAAAAgAAAAICAYAAADED76LAAAAXElEQVR4nGNgYGBgiA/3/49MIwMmBgYGhn1XWBjiw/3/77vCgi4PUeCk84cBRjeXzUExhRHGQDd+4cqNjHATsAGYBpwKUNwAA+iOlNUO/g9XoCLvC6dhbCedPwwAJgMa/Dg5AkIAAAAASUVORK5CYII=\" style=\"width: 5em; image-rendering: -moz-crisp-edges; image-rendering: crisp-edges; image-rendering: pixelated; \"></td></tr><tr><td>preview</td><td><img alt=\"clip preview\" src=\"data:image/gif;base64,R0lGODlhCAAIAIEAAF9XTx0rU4N2nAAAACH5BAAIAAAAIf8LTkVUU0NBUEUyLjADAQAAACwAAAAACAAIAAAIOgAHABgAYIBBgwEABBjAkCGAhwIGSJQIoCKAARgHANi4cYBHACBBBhgwAMAAACgDDBggYIAAAQAABAQAIfkEAAgAAAAh/wtORVRTQ0FQRTIuMAMBAAAALAMABQAFAAMAgV9XTx0rU4N2nAAAAAgRAAEIBDAgAICDAQIIEAAAQEAAOw==\" style=\"width: 5em; image-rendering: -moz-crisp-edges; image-rendering: crisp-edges; image-rendering: pixelated; \"></td></tr></table>"
      ],
      "text/plain": [
       "Transition(id=25, source=Frame(id='stand_to_sit_4'), targetFrame(id='sit_0'))"
      ]
     },
     "execution_count": 19,
     "metadata": {},
     "output_type": "execute_result"
    }
   ],
   "source": [
    "stand_to_sit_end.transition_to(sit)"
   ]
  },
  {
   "cell_type": "code",
   "execution_count": 20,
   "metadata": {},
   "outputs": [],
   "source": [
    "# turn_from_sit.transition_to(stand_waggle_mirror)"
   ]
  },
  {
   "cell_type": "code",
   "execution_count": 20,
   "metadata": {},
   "outputs": [
    {
     "data": {
      "image/gif": "[encoded data removed]",
      "text/html": [
       "<table><tr><th>Transition</th><th></th></tr><tr><td>id</td><td>26</td></tr><tr><td>source.id</td><td>sit_to_crouch_2</td></tr><tr><td>source.image</td><td><img alt=\"image with key md5-705b3720daa0270ec189db73f6cf4e52\" src=\"data:image/png;base64,iVBORw0KGgoAAAANSUhEUgAAAAgAAAAICAYAAADED76LAAAAa0lEQVR4nGNgIATiw/3/I9PogGnfFRaG+HD///uusGA1gMlJ5w8DAwMDg5POH4bmsjkYpjDiMn7fFRaGx1fXMmI3F2riPobg/0z4POCk84eBiYGBgUFF3pdBRd6XYd8VFoZ9V1gYVOR94YoAzf0ebhITEXwAAAAASUVORK5CYII=\" style=\"width: 5em; image-rendering: -moz-crisp-edges; image-rendering: crisp-edges; image-rendering: pixelated; \"></td></tr><tr><td>target.id</td><td>crouch_0</td></tr><tr><td>target.image</td><td><img alt=\"image with key md5-5687866c9d8afcb799040d26db4043b2\" src=\"data:image/png;base64,iVBORw0KGgoAAAANSUhEUgAAAAgAAAAICAYAAADED76LAAAAVUlEQVR4nGNgoBjEh/v/R6bRAdO+KywM8eH+//ddYcFqACOyThV5X4Y7DzfDJReu3MjIiM94BgYGBiZCbmRqLpvzf98VFgYVeV8GBgYGBmQ2AwMDAwDD+BklVYPU7gAAAABJRU5ErkJggg==\" style=\"width: 5em; image-rendering: -moz-crisp-edges; image-rendering: crisp-edges; image-rendering: pixelated; \"></td></tr><tr><td>preview</td><td><img alt=\"clip preview\" src=\"data:image/gif;base64,R0lGODlhCAAIAIEAAF9XTx0rU4N2nAAAACH5BAAIAAAAIf8LTkVUU0NBUEUyLjADAQAAACwAAAAACAAIAAAINQAHCBwoEMAAAAMSJgwAIMCAhw8BSBQwoGJFABgxBhgwAIDHjwEGABhJEsAAAQICBBAAAEBAACH5BAAIAAAAIf8LTkVUU0NBUEUyLjADAQAAACwAAAEACAAHAIFfV08dK1ODdpwAAAAIMAAHCBwoEMAAAAMSJgwAIMCAhw8BSBQAoOKAAQAyagQwAIDHjwAEBBAAIIAAAAACAgA7\" style=\"width: 5em; image-rendering: -moz-crisp-edges; image-rendering: crisp-edges; image-rendering: pixelated; \"></td></tr></table>"
      ],
      "text/plain": [
       "Transition(id=26, source=Frame(id='sit_to_crouch_2'), targetFrame(id='crouch_0'))"
      ]
     },
     "execution_count": 20,
     "metadata": {},
     "output_type": "execute_result"
    }
   ],
   "source": [
    "sit_to_crouch_end.transition_to(crouch)"
   ]
  },
  {
   "cell_type": "code",
   "execution_count": 21,
   "metadata": {},
   "outputs": [
    {
     "data": {
      "image/gif": "[encoded data removed]",
      "text/html": [
       "<table><tr><th>Transition</th><th></th></tr><tr><td>id</td><td>27</td></tr><tr><td>source.id</td><td>crouch_0</td></tr><tr><td>source.image</td><td><img alt=\"image with key md5-5687866c9d8afcb799040d26db4043b2\" src=\"data:image/png;base64,iVBORw0KGgoAAAANSUhEUgAAAAgAAAAICAYAAADED76LAAAAVUlEQVR4nGNgoBjEh/v/R6bRAdO+KywM8eH+//ddYcFqACOyThV5X4Y7DzfDJReu3MjIiM94BgYGBiZCbmRqLpvzf98VFgYVeV8GBgYGBmQ2AwMDAwDD+BklVYPU7gAAAABJRU5ErkJggg==\" style=\"width: 5em; image-rendering: -moz-crisp-edges; image-rendering: crisp-edges; image-rendering: pixelated; \"></td></tr><tr><td>target.id</td><td>crouch_0</td></tr><tr><td>target.image</td><td><img alt=\"image with key md5-5687866c9d8afcb799040d26db4043b2\" src=\"data:image/png;base64,iVBORw0KGgoAAAANSUhEUgAAAAgAAAAICAYAAADED76LAAAAVUlEQVR4nGNgoBjEh/v/R6bRAdO+KywM8eH+//ddYcFqACOyThV5X4Y7DzfDJReu3MjIiM94BgYGBiZCbmRqLpvzf98VFgYVeV8GBgYGBmQ2AwMDAwDD+BklVYPU7gAAAABJRU5ErkJggg==\" style=\"width: 5em; image-rendering: -moz-crisp-edges; image-rendering: crisp-edges; image-rendering: pixelated; \"></td></tr><tr><td>preview</td><td><img alt=\"clip preview\" src=\"data:image/gif;base64,R0lGODlhCAAIAIEAAF9XTx0rU4N2nAAAACH5BAAQAAAAIf8LTkVUU0NBUEUyLjADAQAAACwAAAAACAAIAAAIMgAHCBxIsOAAAAMADFi4MACAAAMiRgRAUQCAiwMGANjIEcAAACBDAhAQQACAAAIAAAgIADs=\" style=\"width: 5em; image-rendering: -moz-crisp-edges; image-rendering: crisp-edges; image-rendering: pixelated; \"></td></tr></table>"
      ],
      "text/plain": [
       "Transition(id=27, source=Frame(id='crouch_0'), targetFrame(id='crouch_0'))"
      ]
     },
     "execution_count": 21,
     "metadata": {},
     "output_type": "execute_result"
    }
   ],
   "source": [
    "crouch.transition_to(crouch)"
   ]
  },
  {
   "cell_type": "code",
   "execution_count": 22,
   "metadata": {},
   "outputs": [
    {
     "data": {
      "image/gif": "[encoded data removed]",
      "text/html": [
       "<table><tr><th>Transition</th><th></th></tr><tr><td>id</td><td>28</td></tr><tr><td>source.id</td><td>crouch_0</td></tr><tr><td>source.image</td><td><img alt=\"image with key md5-5687866c9d8afcb799040d26db4043b2\" src=\"data:image/png;base64,iVBORw0KGgoAAAANSUhEUgAAAAgAAAAICAYAAADED76LAAAAVUlEQVR4nGNgoBjEh/v/R6bRAdO+KywM8eH+//ddYcFqACOyThV5X4Y7DzfDJReu3MjIiM94BgYGBiZCbmRqLpvzf98VFgYVeV8GBgYGBmQ2AwMDAwDD+BklVYPU7gAAAABJRU5ErkJggg==\" style=\"width: 5em; image-rendering: -moz-crisp-edges; image-rendering: crisp-edges; image-rendering: pixelated; \"></td></tr><tr><td>target.id</td><td>lie_down_0</td></tr><tr><td>target.image</td><td><img alt=\"image with key md5-94586f055b7a982c3dcb58c7e4eefd48\" src=\"data:image/png;base64,iVBORw0KGgoAAAANSUhEUgAAAAgAAAAICAYAAADED76LAAAAUElEQVR4nGNgoBqID/f/j02cJT7c//++KywMDAx/sGpkRNapIu/LcOfhZrjkwpUbGRnxGc/AwMDAJKsdjFOSgYGBgQlmNAzsu8LCAHETBAAA2BYU/9YnwuIAAAAASUVORK5CYII=\" style=\"width: 5em; image-rendering: -moz-crisp-edges; image-rendering: crisp-edges; image-rendering: pixelated; \"></td></tr><tr><td>preview</td><td><img alt=\"clip preview\" src=\"data:image/gif;base64,R0lGODlhCAAIAIEAAF9XTx0rU4N2nAAAACH5BAAIAAAAIf8LTkVUU0NBUEUyLjADAQAAACwAAAAACAAIAAAIMgAHCBxIsOAAAAMADFi4MACAAAMiRgRAUQCAiwMGANjIEcAAACBDAhAQQACAAAIAAAgIACH5BAAIAAAAIf8LTkVUU0NBUEUyLjADAQAAACwAAAIABgAGAIFfV08dK1ODdpwAAAAIIwAHDAAwoCCAAAAGKATAUAAAAAMASJQYAIBFiwEEAAAQIEBAADs=\" style=\"width: 5em; image-rendering: -moz-crisp-edges; image-rendering: crisp-edges; image-rendering: pixelated; \"></td></tr></table>"
      ],
      "text/plain": [
       "Transition(id=28, source=Frame(id='crouch_0'), targetFrame(id='lie_down_0'))"
      ]
     },
     "execution_count": 22,
     "metadata": {},
     "output_type": "execute_result"
    }
   ],
   "source": [
    "crouch.transition_to(lie_down)"
   ]
  },
  {
   "cell_type": "code",
   "execution_count": 23,
   "metadata": {},
   "outputs": [
    {
     "data": {
      "image/gif": "[encoded data removed]",
      "text/html": [
       "<table><tr><th>Transition</th><th></th></tr><tr><td>id</td><td>29</td></tr><tr><td>source.id</td><td>lie_down_0</td></tr><tr><td>source.image</td><td><img alt=\"image with key md5-94586f055b7a982c3dcb58c7e4eefd48\" src=\"data:image/png;base64,iVBORw0KGgoAAAANSUhEUgAAAAgAAAAICAYAAADED76LAAAAUElEQVR4nGNgoBqID/f/j02cJT7c//++KywMDAx/sGpkRNapIu/LcOfhZrjkwpUbGRnxGc/AwMDAJKsdjFOSgYGBgQlmNAzsu8LCAHETBAAA2BYU/9YnwuIAAAAASUVORK5CYII=\" style=\"width: 5em; image-rendering: -moz-crisp-edges; image-rendering: crisp-edges; image-rendering: pixelated; \"></td></tr><tr><td>target.id</td><td>lie_down_0</td></tr><tr><td>target.image</td><td><img alt=\"image with key md5-94586f055b7a982c3dcb58c7e4eefd48\" src=\"data:image/png;base64,iVBORw0KGgoAAAANSUhEUgAAAAgAAAAICAYAAADED76LAAAAUElEQVR4nGNgoBqID/f/j02cJT7c//++KywMDAx/sGpkRNapIu/LcOfhZrjkwpUbGRnxGc/AwMDAJKsdjFOSgYGBgQlmNAzsu8LCAHETBAAA2BYU/9YnwuIAAAAASUVORK5CYII=\" style=\"width: 5em; image-rendering: -moz-crisp-edges; image-rendering: crisp-edges; image-rendering: pixelated; \"></td></tr><tr><td>preview</td><td><img alt=\"clip preview\" src=\"data:image/gif;base64,R0lGODlhCAAIAIEAAF9XTx0rU4N2nAAAACH5BAAQAAAAIf8LTkVUU0NBUEUyLjADAQAAACwAAAAACAAIAAAIMAAHCBxIsOBAAAMSJgQQAMCAhw8BSBQAoOKAAQAyagQQAIDHjwACCAAAIEAAAAACAgA7\" style=\"width: 5em; image-rendering: -moz-crisp-edges; image-rendering: crisp-edges; image-rendering: pixelated; \"></td></tr></table>"
      ],
      "text/plain": [
       "Transition(id=29, source=Frame(id='lie_down_0'), targetFrame(id='lie_down_0'))"
      ]
     },
     "execution_count": 23,
     "metadata": {},
     "output_type": "execute_result"
    }
   ],
   "source": [
    "lie_down.transition_to(lie_down)"
   ]
  },
  {
   "cell_type": "code",
   "execution_count": 24,
   "metadata": {},
   "outputs": [
    {
     "data": {
      "image/gif": "[encoded data removed]",
      "text/html": [
       "<table><tr><th>Transition</th><th></th></tr><tr><td>id</td><td>30</td></tr><tr><td>source.id</td><td>lie_down_0</td></tr><tr><td>source.image</td><td><img alt=\"image with key md5-94586f055b7a982c3dcb58c7e4eefd48\" src=\"data:image/png;base64,iVBORw0KGgoAAAANSUhEUgAAAAgAAAAICAYAAADED76LAAAAUElEQVR4nGNgoBqID/f/j02cJT7c//++KywMDAx/sGpkRNapIu/LcOfhZrjkwpUbGRnxGc/AwMDAJKsdjFOSgYGBgQlmNAzsu8LCAHETBAAA2BYU/9YnwuIAAAAASUVORK5CYII=\" style=\"width: 5em; image-rendering: -moz-crisp-edges; image-rendering: crisp-edges; image-rendering: pixelated; \"></td></tr><tr><td>target.id</td><td>crouch_0</td></tr><tr><td>target.image</td><td><img alt=\"image with key md5-5687866c9d8afcb799040d26db4043b2\" src=\"data:image/png;base64,iVBORw0KGgoAAAANSUhEUgAAAAgAAAAICAYAAADED76LAAAAVUlEQVR4nGNgoBjEh/v/R6bRAdO+KywM8eH+//ddYcFqACOyThV5X4Y7DzfDJReu3MjIiM94BgYGBiZCbmRqLpvzf98VFgYVeV8GBgYGBmQ2AwMDAwDD+BklVYPU7gAAAABJRU5ErkJggg==\" style=\"width: 5em; image-rendering: -moz-crisp-edges; image-rendering: crisp-edges; image-rendering: pixelated; \"></td></tr><tr><td>preview</td><td><img alt=\"clip preview\" src=\"data:image/gif;base64,R0lGODlhCAAIAIEAAF9XTx0rU4N2nAAAACH5BAAIAAAAIf8LTkVUU0NBUEUyLjADAQAAACwAAAAACAAIAAAIMAAHCBxIsOBAAAMSJgQQAMCAhw8BSBQAoOKAAQAyagQQAIDHjwACCAAAIEAAAAACAgAh+QQACAAAACH/C05FVFNDQVBFMi4wAwEAAAAsAAACAAYABgCBX1dPHStTg3acAAAACCMAAQwAMKBgAAABBigEwFAAAAADAEiUOACARYsCAggAEEBAQAA7\" style=\"width: 5em; image-rendering: -moz-crisp-edges; image-rendering: crisp-edges; image-rendering: pixelated; \"></td></tr></table>"
      ],
      "text/plain": [
       "Transition(id=30, source=Frame(id='lie_down_0'), targetFrame(id='crouch_0'))"
      ]
     },
     "execution_count": 24,
     "metadata": {},
     "output_type": "execute_result"
    }
   ],
   "source": [
    "lie_down.transition_to(crouch)"
   ]
  },
  {
   "cell_type": "code",
   "execution_count": 26,
   "metadata": {},
   "outputs": [
    {
     "data": {
      "image/gif": "[encoded data removed]",
      "text/html": [
       "<table><tr><th>Transition</th><th></th></tr><tr><td>id</td><td>31</td></tr><tr><td>source.id</td><td>crouch_0</td></tr><tr><td>source.image</td><td><img alt=\"image with key md5-5687866c9d8afcb799040d26db4043b2\" src=\"data:image/png;base64,iVBORw0KGgoAAAANSUhEUgAAAAgAAAAICAYAAADED76LAAAAVUlEQVR4nGNgoBjEh/v/R6bRAdO+KywM8eH+//ddYcFqACOyThV5X4Y7DzfDJReu3MjIiM94BgYGBiZCbmRqLpvzf98VFgYVeV8GBgYGBmQ2AwMDAwDD+BklVYPU7gAAAABJRU5ErkJggg==\" style=\"width: 5em; image-rendering: -moz-crisp-edges; image-rendering: crisp-edges; image-rendering: pixelated; \"></td></tr><tr><td>target.id</td><td>crouch_to_sit_0</td></tr><tr><td>target.image</td><td><img alt=\"image with key md5-705b3720daa0270ec189db73f6cf4e52\" src=\"data:image/png;base64,iVBORw0KGgoAAAANSUhEUgAAAAgAAAAICAYAAADED76LAAAAa0lEQVR4nGNgIATiw/3/I9PogGnfFRaG+HD///uusGA1gMlJ5w8DAwMDg5POH4bmsjkYpjDiMn7fFRaGx1fXMmI3F2riPobg/0z4POCk84eBiYGBgUFF3pdBRd6XYd8VFoZ9V1gYVOR94YoAzf0ebhITEXwAAAAASUVORK5CYII=\" style=\"width: 5em; image-rendering: -moz-crisp-edges; image-rendering: crisp-edges; image-rendering: pixelated; \"></td></tr><tr><td>preview</td><td><img alt=\"clip preview\" src=\"data:image/gif;base64,R0lGODlhCAAIAIEAAF9XTx0rU4N2nAAAACH5BAAIAAAAIf8LTkVUU0NBUEUyLjADAQAAACwAAAAACAAIAAAIMgAHCBxIsOAAAAMADFi4MACAAAMiRgRAUQCAiwMGANjIEcAAACBDAhAQQACAAAIAAAgIACH5BAAIAAAAIf8LTkVUU0NBUEUyLjADAQAAACwAAAEACAAHAIFfV08dK1ODdpwAAAAIMQABDAAwoGDBAAACDFi4EIBDAQMiRgRAkWKAAQMAaNwYYACAjyABDBAgIEAAAQAABAQAOw==\" style=\"width: 5em; image-rendering: -moz-crisp-edges; image-rendering: crisp-edges; image-rendering: pixelated; \"></td></tr></table>"
      ],
      "text/plain": [
       "Transition(id=31, source=Frame(id='crouch_0'), targetFrame(id='crouch_to_sit_0'))"
      ]
     },
     "execution_count": 26,
     "metadata": {},
     "output_type": "execute_result"
    }
   ],
   "source": [
    "crouch.transition_to(crouch_to_sit)"
   ]
  },
  {
   "cell_type": "code",
   "execution_count": 27,
   "metadata": {},
   "outputs": [
    {
     "data": {
      "image/gif": "[encoded data removed]",
      "text/html": [
       "<table><tr><th>Transition</th><th></th></tr><tr><td>id</td><td>32</td></tr><tr><td>source.id</td><td>crouch_to_sit_2</td></tr><tr><td>source.image</td><td><img alt=\"image with key md5-e909ad843044742863d412941920f4f8\" src=\"data:image/png;base64,iVBORw0KGgoAAAANSUhEUgAAAAgAAAAICAYAAADED76LAAAAY0lEQVR4nGNgYGBgiA/3/49MIwMmBgYGhn1XWBjiw/3/77vCgi4PUeCk84cBRjeXzUExhRHGQDd+4cqNjHATsAGYBpwKUNwAA+iOlNUO/g9XoCLvy5Dm7cmw7woLg4q8L9zRAEjrHPwUhutBAAAAAElFTkSuQmCC\" style=\"width: 5em; image-rendering: -moz-crisp-edges; image-rendering: crisp-edges; image-rendering: pixelated; \"></td></tr><tr><td>target.id</td><td>sit_0</td></tr><tr><td>target.image</td><td><img alt=\"image with key md5-9b084a2f4cc7a7f940fac47ebe710c45\" src=\"data:image/png;base64,iVBORw0KGgoAAAANSUhEUgAAAAgAAAAICAYAAADED76LAAAAXElEQVR4nGNgYGBgiA/3/49MIwMmBgYGhn1XWBjiw/3/77vCgi4PUeCk84cBRjeXzUExhRHGQDd+4cqNjHATsAGYBpwKUNwAA+iOlNUO/g9XoCLvC6dhbCedPwwAJgMa/Dg5AkIAAAAASUVORK5CYII=\" style=\"width: 5em; image-rendering: -moz-crisp-edges; image-rendering: crisp-edges; image-rendering: pixelated; \"></td></tr><tr><td>preview</td><td><img alt=\"clip preview\" src=\"data:image/gif;base64,R0lGODlhCAAIAIEAAF9XTx0rU4N2nAAAACH5BAAIAAAAIf8LTkVUU0NBUEUyLjADAQAAACwAAAAACAAIAAAIOQAHABgAYIBBgwEABBjAkCGAhwIGSJQIoCKAARgHANi4cYBHACBBDhgJIACAkwEGDBAgIIAAAAACAgAh+QQACAAAACH/C05FVFNDQVBFMi4wAwEAAAAsAwAHAAIAAQCBX1dPHStTg3acAAAACAUAAwgICAA7\" style=\"width: 5em; image-rendering: -moz-crisp-edges; image-rendering: crisp-edges; image-rendering: pixelated; \"></td></tr></table>"
      ],
      "text/plain": [
       "Transition(id=32, source=Frame(id='crouch_to_sit_2'), targetFrame(id='sit_0'))"
      ]
     },
     "execution_count": 27,
     "metadata": {},
     "output_type": "execute_result"
    }
   ],
   "source": [
    "crouch_to_sit_end.transition_to(sit)"
   ]
  },
  {
   "cell_type": "code",
   "execution_count": 28,
   "metadata": {},
   "outputs": [
    {
     "data": {
      "text/plain": [
       "()"
      ]
     },
     "execution_count": 28,
     "metadata": {},
     "output_type": "execute_result"
    }
   ],
   "source": [
    "# Missing any transitions?\n",
    "gamekitty.find_absorbing_frames()"
   ]
  },
  {
   "cell_type": "code",
   "execution_count": 29,
   "metadata": {},
   "outputs": [
    {
     "data": {
      "image/gif": "[encoded data removed]",
      "text/html": [
       "<table><tr><th>Pikov</th><th></th></tr><tr><td>preview</td><td><img alt=\"clip preview\" src=\"data:image/gif;base64,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\" style=\"width: 5em; image-rendering: -moz-crisp-edges; image-rendering: crisp-edges; image-rendering: pixelated; \"></td></tr></table>"
      ],
      "text/plain": [
       "<pikov.pikov.Pikov at 0x105191438>"
      ]
     },
     "execution_count": 29,
     "metadata": {},
     "output_type": "execute_result"
    }
   ],
   "source": [
    "gamekitty"
   ]
  },
  {
   "cell_type": "code",
   "execution_count": null,
   "metadata": {},
   "outputs": [],
   "source": []
  }
 ],
 "metadata": {
  "kernelspec": {
   "display_name": "Python 3",
   "language": "python",
   "name": "python3"
  },
  "language_info": {
   "codemirror_mode": {
    "name": "ipython",
    "version": 3
   },
   "file_extension": ".py",
   "mimetype": "text/x-python",
   "name": "python",
   "nbconvert_exporter": "python",
   "pygments_lexer": "ipython3",
   "version": "3.6.4"
  }
 },
 "nbformat": 4,
 "nbformat_minor": 2
}
