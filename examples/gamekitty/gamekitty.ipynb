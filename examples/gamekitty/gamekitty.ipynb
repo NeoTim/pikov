{
 "cells": [
  {
   "cell_type": "code",
   "execution_count": 1,
   "metadata": {},
   "outputs": [],
   "source": [
    "from pikov import pikov\n",
    "gamekitty = pikov.Pikov.open('gamekitty.pikov')"
   ]
  },
  {
   "cell_type": "code",
   "execution_count": 2,
   "metadata": {},
   "outputs": [
    {
     "data": {
      "image/gif": "[encoded data removed]",
      "text/html": [
       "<table><tr><th>Clip</th><th></th></tr><tr><td>id</td><td>6</td></tr><tr><td>frames</td><td><img alt=\"clip preview\" src=\"data:image/gif;base64,R0lGODlhCAAIAIEAAF9XTx0rU4N2nAAAACH/C05FVFNDQVBFMi4wAwEAAAAsAAAAAAgACAAACD0AAQwAMKAggAEBAAQYwBDAAAAQBQwYAGDAAAAYMw4YAKCjxwEDAIgcOWAAgAEABgQAMGCAgAECBgQQMCAgACH/C05FVFNDQVBFMi4wAwEAAAAsBQAAAAIAAgCBX1dPHStTg3acAAAACAcAAQwAACAgADs=\" style=\"width: 5em; image-rendering: -moz-crisp-edges; image-rendering: crisp-edges; image-rendering: pixelated; \"></td></tr></table>"
      ],
      "text/plain": [
       "Clip(id='6')"
      ]
     },
     "execution_count": 2,
     "metadata": {},
     "output_type": "execute_result"
    }
   ],
   "source": [
    "clip = gamekitty.get_clip(6)\n",
    "clip"
   ]
  },
  {
   "cell_type": "code",
   "execution_count": 3,
   "metadata": {},
   "outputs": [
    {
     "data": {
      "image/gif": "[encoded data removed]",
      "text/html": [
       "<table><tr><th>Clip</th><th></th></tr><tr><td>id</td><td>23</td></tr><tr><td>frames</td><td><img alt=\"clip preview\" src=\"data:image/gif;base64,R0lGODlhCAAIAIEAAF9XTx0rU4N2nAAAACH/C05FVFNDQVBFMi4wAwEAAAAsAAAAAAgACAAACD0ABwAYQBDAAAADAAxYGABAgAEABgwQAKDiAAAYMw4YAKCjxwEDAIgcOWAAgAADAAwAMGCAgAADBAwQMCAgACH/C05FVFNDQVBFMi4wAwEAAAAsAQAAAAIAAgCBX1dPHStTg3acAAAACAYABwAYGBAAOw==\" style=\"width: 5em; image-rendering: -moz-crisp-edges; image-rendering: crisp-edges; image-rendering: pixelated; \"></td></tr></table>"
      ],
      "text/plain": [
       "Clip(id='23')"
      ]
     },
     "execution_count": 3,
     "metadata": {},
     "output_type": "execute_result"
    }
   ],
   "source": [
    "# Show the mirrored version of the same frames.\n",
    "TO_MIRROR = 17\n",
    "gamekitty.get_clip(6 + TO_MIRROR)"
   ]
  },
  {
   "cell_type": "code",
   "execution_count": 4,
   "metadata": {},
   "outputs": [
    {
     "data": {
      "image/png": "[encoded data removed]",
      "text/html": [
       "<table><tr><th>Frame</th><th></th></tr><tr><td>id</td><td>(6, 1)</td></tr><tr><td>duration</td><td>0.083333 seconds</td></tr><tr><td>image.key</td><td>md5-55bea535357482806ad24bf699c7941d</td></tr><tr><td>image.contents</td><td><img alt=\"image with key md5-55bea535357482806ad24bf699c7941d\" src=\"data:image/png;base64,iVBORw0KGgoAAAANSUhEUgAAAAgAAAAICAYAAADED76LAAAAZ0lEQVR4nGOID/f/z8DAwACj0dlM+66wMMSH+//fd4WFARnAFDE56fxhYGBgYHDS+cPQXDbnPwMDA8PClRsZYQoZ0Y1EBgtXbmRkwiaBDIhXALN34cqNjMgOZmJgYGBQkfdlQKaR2QD0Rx/wn9C1wQAAAABJRU5ErkJggg==\" style=\"width: 5em; image-rendering: -moz-crisp-edges; image-rendering: crisp-edges; image-rendering: pixelated; \"></td></tr></table>"
      ],
      "text/plain": [
       "Frame(id='(6, 1)')"
      ]
     },
     "execution_count": 4,
     "metadata": {},
     "output_type": "execute_result"
    }
   ],
   "source": [
    "clip.frames[1]"
   ]
  },
  {
   "cell_type": "code",
   "execution_count": 5,
   "metadata": {},
   "outputs": [
    {
     "data": {
      "image/png": "[encoded data removed]",
      "text/html": [
       "<table><tr><th>Image</th><th></th></tr><tr><td>key</td><td>md5-c28a87eda869e3329710b6e9cbb8cd76</td></tr><tr><td>content_type</td><td>image/png</td></tr><tr><td>contents</td><td><img alt=\"image with key md5-c28a87eda869e3329710b6e9cbb8cd76\" src=\"data:image/png;base64,iVBORw0KGgoAAAANSUhEUgAAAAgAAAAICAYAAADED76LAAAAX0lEQVR4nGOID/f/z8DAwACjYQDGZ9p3hYUhPtz//74rLAzYAJOTzh8GBgYGBiedPwzNZXP+oytgxGY8DCxcuZGRCau5yFYQrWDhyo2MMBrZwUwMDAwMKvK+DMg0MhsA85Yb8GJtyLkAAAAASUVORK5CYII=\" style=\"width: 5em; image-rendering: -moz-crisp-edges; image-rendering: crisp-edges; image-rendering: pixelated; \"></td></tr></table>"
      ],
      "text/plain": [
       "Image(key='md5-c28a87eda869e3329710b6e9cbb8cd76')"
      ]
     },
     "execution_count": 5,
     "metadata": {},
     "output_type": "execute_result"
    }
   ],
   "source": [
    "clip.frames[0].image"
   ]
  },
  {
   "cell_type": "code",
   "execution_count": 6,
   "metadata": {},
   "outputs": [
    {
     "data": {
      "image/png": "[encoded data removed]",
      "text/html": [
       "<table><tr><th>Image</th><th></th></tr><tr><td>key</td><td>md5-9b084a2f4cc7a7f940fac47ebe710c45</td></tr><tr><td>content_type</td><td>image/png</td></tr><tr><td>contents</td><td><img alt=\"image with key md5-9b084a2f4cc7a7f940fac47ebe710c45\" src=\"data:image/png;base64,iVBORw0KGgoAAAANSUhEUgAAAAgAAAAICAYAAADED76LAAAAXElEQVR4nGNgYGBgiA/3/49MIwMmBgYGhn1XWBjiw/3/77vCgi4PUeCk84cBRjeXzUExhRHGQDd+4cqNjHATsAGYBpwKUNwAA+iOlNUO/g9XoCLvC6dhbCedPwwAJgMa/Dg5AkIAAAAASUVORK5CYII=\" style=\"width: 5em; image-rendering: -moz-crisp-edges; image-rendering: crisp-edges; image-rendering: pixelated; \"></td></tr></table>"
      ],
      "text/plain": [
       "Image(key='md5-9b084a2f4cc7a7f940fac47ebe710c45')"
      ]
     },
     "execution_count": 6,
     "metadata": {},
     "output_type": "execute_result"
    }
   ],
   "source": [
    "gamekitty.get_image('md5-9b084a2f4cc7a7f940fac47ebe710c45')"
   ]
  },
  {
   "cell_type": "code",
   "execution_count": 7,
   "metadata": {},
   "outputs": [
    {
     "data": {
      "image/gif": "[encoded data removed]",
      "text/html": [
       "<table><tr><th>MultiClip</th><th></th></tr><tr><td>frames</td><td>Frame(id='(1, 0)')<br>Frame(id='(2, 0)')<br>Frame(id='(2, 1)')<br>Frame(id='(2, 2)')<br>Frame(id='(2, 3)')<br>Frame(id='(6, 0)')<br>Frame(id='(6, 1)')<br>Frame(id='(6, 0)')<br>Frame(id='(6, 1)')<br>Frame(id='(7, 0)')<br>Frame(id='(7, 1)')<br>Frame(id='(7, 2)')<br>Frame(id='(7, 3)')<br>Frame(id='(7, 4)')</td></tr><tr><td>preview</td><td><img alt=\"clip preview\" src=\"data:image/gif;base64,R0lGODlhCAAIAIEAAF9XTx0rU4N2nAAAACH/C05FVFNDQVBFMi4wAwEAAAAsAAAAAAgACAAACDkABwAYAGCAQYMBAAQYwJAhgIcCBkiUCKAigAEYBwDYuHGARwAgQQ4YCSAAgJMBBgwQEECAAAAAAgIAIf8LTkVUU0NBUEUyLjADAQAAACwDAAYAAgACAIFfV08dK1ODdpwAAAAIBwAFAAgQICAAIf8LTkVUU0NBUEUyLjADAQAAACwDAAIABQAGAIFfV08dK1ODdpwAAAAIHgABCAAwYACAgwACAFgIIACAhxAHAJgoIIAAAAMCAgAh/wtORVRTQ0FQRTIuMAMBAAAALAAAAAAIAAgAgV9XTx0rU4N2nAAAAAg8AAEMADCgYMEAAAIMWAhgAICHAgYMAABgAICLFwcAGACgo0cAAwIAGDlygEkBAAYEADCg5QABAQQAGBAQACH/C05FVFNDQVBFMi4wAwEAAAAsAQAAAAcACACBX1dPHStTg3acAAAACDgABwAYMADAgAEAAgwYAADAAAAABAwYAGAAgIsYBwDYyHEAgI8gBwAYAGBAAAADBAwQMCCAgAEBAQAh/wtORVRTQ0FQRTIuMAMBAAAALAUAAAACAAIAgV9XTx0rU4N2nAAAAAgHAAcAGAAgIAAh/wtORVRTQ0FQRTIuMAMBAAAALAUAAAACAAIAgV9XTx0rU4N2nAAAAAgHAAEMAAAgIAAh/wtORVRTQ0FQRTIuMAMBAAAALAUAAAACAAIAgV9XTx0rU4N2nAAAAAgHAAcAGAAgIAAh/wtORVRTQ0FQRTIuMAMBAAAALAUAAAACAAIAgV9XTx0rU4N2nAAAAAgHAAEMAAAgIAAh/wtORVRTQ0FQRTIuMAMBAAAALAEAAAAHAAgAgV9XTx0rU4N2nAAAAAgzAAcAGEAQwAAAAQYoBMAQgAAAAQYAmEgxAICLGC8GAMCR44ABAgAMCABggEkBAwIIGBAQACH/C05FVFNDQVBFMi4wAwEAAAAsAAAAAAcACACBX1dPHStTg3acAAAACDkABwAYAGDAAAADAgAIMGAAgAEAIgoAMKAigIsXBwwAwJHjgAEAQoYcMAAAgAEBAAwYIEDAgAACAgIAIf8LTkVUU0NBUEUyLjADAQAAACwDAAUAAQADAIFfV08dK1ODdpwAAAAIBwADABAwICAAIf8LTkVUU0NBUEUyLjADAQAAACwDAAAABQAIAIFfV08dK1ODdpwAAAAIKgABDBg4IMCAgwMACAAwIACAhwACAJgIIACAiwACDAAQAACAAQICCBgQEAAh/wtORVRTQ0FQRTIuMAMBAAAALAUAAgADAAYAgV9XTx0rU4N2nAAAAAgWAAcIBDBgAAAAAwAACAAAQAABAAAEBAA7\" style=\"width: 5em; image-rendering: -moz-crisp-edges; image-rendering: crisp-edges; image-rendering: pixelated; \"></td></tr></table>"
      ],
      "text/plain": [
       "MultiClip(frames=(Frame(id='(1, 0)'), Frame(id='(2, 0)'), Frame(id='(2, 1)'), Frame(id='(2, 2)'), Frame(id='(2, 3)'), Frame(id='(6, 0)'), Frame(id='(6, 1)'), Frame(id='(6, 0)'), Frame(id='(6, 1)'), Frame(id='(7, 0)'), Frame(id='(7, 1)'), Frame(id='(7, 2)'), Frame(id='(7, 3)'), Frame(id='(7, 4)'))')"
      ]
     },
     "execution_count": 7,
     "metadata": {},
     "output_type": "execute_result"
    }
   ],
   "source": [
    "sitting_clip = gamekitty.get_clip(1)\n",
    "stand_up_clip = gamekitty.get_clip(2)\n",
    "sit_and_paw_clip = gamekitty.get_clip(7)\n",
    "sitting_clip + stand_up_clip + clip + clip + sit_and_paw_clip"
   ]
  },
  {
   "cell_type": "code",
   "execution_count": null,
   "metadata": {},
   "outputs": [],
   "source": []
  }
 ],
 "metadata": {
  "kernelspec": {
   "display_name": "Python 3",
   "language": "python",
   "name": "python3"
  },
  "language_info": {
   "codemirror_mode": {
    "name": "ipython",
    "version": 3
   },
   "file_extension": ".py",
   "mimetype": "text/x-python",
   "name": "python",
   "nbconvert_exporter": "python",
   "pygments_lexer": "ipython3",
   "version": "3.6.1"
  }
 },
 "nbformat": 4,
 "nbformat_minor": 2
}
