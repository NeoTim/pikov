{
 "cells": [
  {
   "cell_type": "code",
   "execution_count": 1,
   "metadata": {},
   "outputs": [],
   "source": [
    "from pikov import pikov\n",
    "gamekitty = pikov.Pikov.open('gamekitty.pikov')"
   ]
  },
  {
   "cell_type": "code",
   "execution_count": 2,
   "metadata": {},
   "outputs": [
    {
     "data": {
      "image/gif": "[encoded data removed]",
      "text/html": [
       "<table><tr><th>Pikov</th><th></th></tr><tr><td>preview</td><td><img alt=\"clip preview\" src=\"data:image/gif;base64,R0lGODlhCAAIAIEAAF9XTx0rU4N2nAAAACH5BADwAwAAIf8LTkVUU0NBUEUyLjADAQAAACwAAAAACAAIAAAIOQAHABgAYIBBgwEABBjAkCGAhwIGSJQIoCKAARgHANi4cYBHACBBDhgJIACAkwEGDBAQQIAAAAACAgA7\" style=\"width: 5em; image-rendering: -moz-crisp-edges; image-rendering: crisp-edges; image-rendering: pixelated; \"></td></tr></table>"
      ],
      "text/plain": [
       "<pikov.pikov.Pikov at 0x109636c18>"
      ]
     },
     "execution_count": 2,
     "metadata": {},
     "output_type": "execute_result"
    }
   ],
   "source": [
    "gamekitty"
   ]
  },
  {
   "cell_type": "code",
   "execution_count": 3,
   "metadata": {},
   "outputs": [
    {
     "data": {
      "image/png": "[encoded data removed]",
      "text/html": [
       "<table><tr><th>Frame</th><th></th></tr><tr><td>id</td><td>stand_waggle_0</td></tr><tr><td>duration</td><td>0.083333 seconds</td></tr><tr><td>image.key</td><td>md5-c28a87eda869e3329710b6e9cbb8cd76</td></tr><tr><td>image.contents</td><td><img alt=\"image with key md5-c28a87eda869e3329710b6e9cbb8cd76\" src=\"data:image/png;base64,iVBORw0KGgoAAAANSUhEUgAAAAgAAAAICAYAAADED76LAAAAX0lEQVR4nGOID/f/z8DAwACjYQDGZ9p3hYUhPtz//74rLAzYAJOTzh8GBgYGBiedPwzNZXP+oytgxGY8DCxcuZGRCau5yFYQrWDhyo2MMBrZwUwMDAwMKvK+DMg0MhsA85Yb8GJtyLkAAAAASUVORK5CYII=\" style=\"width: 5em; image-rendering: -moz-crisp-edges; image-rendering: crisp-edges; image-rendering: pixelated; \"></td></tr><tr><td>properties</td><td style=\"text-align: left;\"><pre>{\n",
       "  \"originalImage\": {\n",
       "    \"path\": \"gamekitty.png\",\n",
       "    \"x\": 80,\n",
       "    \"y\": 8,\n",
       "    \"width\": 8,\n",
       "    \"height\": 8,\n",
       "    \"flipX\": false\n",
       "  },\n",
       "  \"clipId\": \"stand_waggle\"\n",
       "}</pre></td></tr></table>"
      ],
      "text/plain": [
       "Frame(id='stand_waggle_0')"
      ]
     },
     "execution_count": 3,
     "metadata": {},
     "output_type": "execute_result"
    }
   ],
   "source": [
    "stand_waggle = gamekitty.get_frame('stand_waggle_0')\n",
    "stand_waggle"
   ]
  },
  {
   "cell_type": "code",
   "execution_count": 4,
   "metadata": {},
   "outputs": [
    {
     "data": {
      "image/gif": "[encoded data removed]",
      "text/html": [
       "<table><tr><th>Transition</th><th></th></tr><tr><td>id</td><td>4</td></tr><tr><td>source.id</td><td>stand_waggle_0</td></tr><tr><td>source.image</td><td><img alt=\"image with key md5-c28a87eda869e3329710b6e9cbb8cd76\" src=\"data:image/png;base64,iVBORw0KGgoAAAANSUhEUgAAAAgAAAAICAYAAADED76LAAAAX0lEQVR4nGOID/f/z8DAwACjYQDGZ9p3hYUhPtz//74rLAzYAJOTzh8GBgYGBiedPwzNZXP+oytgxGY8DCxcuZGRCau5yFYQrWDhyo2MMBrZwUwMDAwMKvK+DMg0MhsA85Yb8GJtyLkAAAAASUVORK5CYII=\" style=\"width: 5em; image-rendering: -moz-crisp-edges; image-rendering: crisp-edges; image-rendering: pixelated; \"></td></tr><tr><td>target.id</td><td>stand_waggle_1</td></tr><tr><td>target.image</td><td><img alt=\"image with key md5-55bea535357482806ad24bf699c7941d\" src=\"data:image/png;base64,iVBORw0KGgoAAAANSUhEUgAAAAgAAAAICAYAAADED76LAAAAZ0lEQVR4nGOID/f/z8DAwACj0dlM+66wMMSH+//fd4WFARnAFDE56fxhYGBgYHDS+cPQXDbnPwMDA8PClRsZYQoZ0Y1EBgtXbmRkwiaBDIhXALN34cqNjMgOZmJgYGBQkfdlQKaR2QD0Rx/wn9C1wQAAAABJRU5ErkJggg==\" style=\"width: 5em; image-rendering: -moz-crisp-edges; image-rendering: crisp-edges; image-rendering: pixelated; \"></td></tr><tr><td>preview</td><td><img alt=\"clip preview\" src=\"data:image/gif;base64,R0lGODlhCAAIAIEAAF9XTx0rU4N2nAAAACH5BAAIAAAAIf8LTkVUU0NBUEUyLjADAQAAACwAAAAACAAIAAAIPQABDAAwoCCAAQEABBjAEMAAABAFDBgAYMAAABgzDhgAoKPHAQMAiBw5YACAAQAGBAAwYICAAQIGBBAwICAAIfkEAAgAAAAh/wtORVRTQ0FQRTIuMAMBAAAALAUAAAACAAIAgV9XTx0rU4N2nAAAAAgHAAEMAAAgIAA7\" style=\"width: 5em; image-rendering: -moz-crisp-edges; image-rendering: crisp-edges; image-rendering: pixelated; \"></td></tr></table>"
      ],
      "text/plain": [
       "Transition(id=4, source=Frame(id='stand_waggle_0'), targetFrame(id='stand_waggle_1'))"
      ]
     },
     "execution_count": 4,
     "metadata": {},
     "output_type": "execute_result"
    }
   ],
   "source": [
    "stand_waggle.transitions[0]"
   ]
  },
  {
   "cell_type": "code",
   "execution_count": 5,
   "metadata": {},
   "outputs": [
    {
     "data": {
      "image/png": "[encoded data removed]",
      "text/html": [
       "<table><tr><th>Frame</th><th></th></tr><tr><td>id</td><td>stand_waggle_1</td></tr><tr><td>duration</td><td>0.083333 seconds</td></tr><tr><td>image.key</td><td>md5-55bea535357482806ad24bf699c7941d</td></tr><tr><td>image.contents</td><td><img alt=\"image with key md5-55bea535357482806ad24bf699c7941d\" src=\"data:image/png;base64,iVBORw0KGgoAAAANSUhEUgAAAAgAAAAICAYAAADED76LAAAAZ0lEQVR4nGOID/f/z8DAwACj0dlM+66wMMSH+//fd4WFARnAFDE56fxhYGBgYHDS+cPQXDbnPwMDA8PClRsZYQoZ0Y1EBgtXbmRkwiaBDIhXALN34cqNjMgOZmJgYGBQkfdlQKaR2QD0Rx/wn9C1wQAAAABJRU5ErkJggg==\" style=\"width: 5em; image-rendering: -moz-crisp-edges; image-rendering: crisp-edges; image-rendering: pixelated; \"></td></tr><tr><td>properties</td><td style=\"text-align: left;\"><pre>{\n",
       "  \"originalImage\": {\n",
       "    \"path\": \"gamekitty.png\",\n",
       "    \"x\": 32,\n",
       "    \"y\": 0,\n",
       "    \"width\": 8,\n",
       "    \"height\": 8,\n",
       "    \"flipX\": false\n",
       "  },\n",
       "  \"clipId\": \"stand_waggle\"\n",
       "}</pre></td></tr></table>"
      ],
      "text/plain": [
       "Frame(id='stand_waggle_1')"
      ]
     },
     "execution_count": 5,
     "metadata": {},
     "output_type": "execute_result"
    }
   ],
   "source": [
    "stand_waggle.transitions[0].target"
   ]
  },
  {
   "cell_type": "code",
   "execution_count": 6,
   "metadata": {},
   "outputs": [
    {
     "data": {
      "image/png": "[encoded data removed]",
      "text/html": [
       "<table><tr><th>Image</th><th></th></tr><tr><td>key</td><td>md5-9b084a2f4cc7a7f940fac47ebe710c45</td></tr><tr><td>content_type</td><td>image/png</td></tr><tr><td>contents</td><td><img alt=\"image with key md5-9b084a2f4cc7a7f940fac47ebe710c45\" src=\"data:image/png;base64,iVBORw0KGgoAAAANSUhEUgAAAAgAAAAICAYAAADED76LAAAAXElEQVR4nGNgYGBgiA/3/49MIwMmBgYGhn1XWBjiw/3/77vCgi4PUeCk84cBRjeXzUExhRHGQDd+4cqNjHATsAGYBpwKUNwAA+iOlNUO/g9XoCLvC6dhbCedPwwAJgMa/Dg5AkIAAAAASUVORK5CYII=\" style=\"width: 5em; image-rendering: -moz-crisp-edges; image-rendering: crisp-edges; image-rendering: pixelated; \"></td></tr></table>"
      ],
      "text/plain": [
       "Image(key='md5-9b084a2f4cc7a7f940fac47ebe710c45')"
      ]
     },
     "execution_count": 6,
     "metadata": {},
     "output_type": "execute_result"
    }
   ],
   "source": [
    "gamekitty.get_image('md5-9b084a2f4cc7a7f940fac47ebe710c45')"
   ]
  },
  {
   "cell_type": "code",
   "execution_count": 7,
   "metadata": {},
   "outputs": [],
   "source": [
    "#sit = gamekitty.get_clip('sit')\n",
    "#sit_to_stand = gamekitty.get_clip('sit_to_stand')\n",
    "#sit_paw = gamekitty.get_clip('sit_paw')\n",
    "#stand_to_sit = gamekitty.get_clip('stand_to_sit')\n",
    "#sit + sit_to_stand + clip + clip + stand_to_sit + sit_paw"
   ]
  },
  {
   "cell_type": "code",
   "execution_count": 8,
   "metadata": {},
   "outputs": [
    {
     "data": {
      "text/plain": [
       "[Frame(id='crouch_0'),\n",
       " Frame(id='crouch_to_sit_0'),\n",
       " Frame(id='crouch_to_sit_1'),\n",
       " Frame(id='crouch_to_sit_2'),\n",
       " Frame(id='lie_down_0'),\n",
       " Frame(id='sit_0'),\n",
       " Frame(id='sit_paw_0'),\n",
       " Frame(id='sit_paw_1'),\n",
       " Frame(id='sit_paw_2'),\n",
       " Frame(id='sit_paw_3'),\n",
       " Frame(id='sit_to_crouch_0'),\n",
       " Frame(id='sit_to_crouch_1'),\n",
       " Frame(id='sit_to_crouch_2'),\n",
       " Frame(id='sit_to_stand_0'),\n",
       " Frame(id='sit_to_stand_1'),\n",
       " Frame(id='sit_to_stand_2'),\n",
       " Frame(id='sit_to_stand_3'),\n",
       " Frame(id='stand_to_sit_0'),\n",
       " Frame(id='stand_to_sit_1'),\n",
       " Frame(id='stand_to_sit_2'),\n",
       " Frame(id='stand_to_sit_3'),\n",
       " Frame(id='stand_to_sit_4'),\n",
       " Frame(id='stand_waggle_0'),\n",
       " Frame(id='stand_waggle_1')]"
      ]
     },
     "execution_count": 8,
     "metadata": {},
     "output_type": "execute_result"
    }
   ],
   "source": [
    "list(gamekitty.list_frames())"
   ]
  },
  {
   "cell_type": "code",
   "execution_count": null,
   "metadata": {},
   "outputs": [],
   "source": []
  }
 ],
 "metadata": {
  "kernelspec": {
   "display_name": "Python 3",
   "language": "python",
   "name": "python3"
  },
  "language_info": {
   "codemirror_mode": {
    "name": "ipython",
    "version": 3
   },
   "file_extension": ".py",
   "mimetype": "text/x-python",
   "name": "python",
   "nbconvert_exporter": "python",
   "pygments_lexer": "ipython3",
   "version": "3.6.4"
  }
 },
 "nbformat": 4,
 "nbformat_minor": 2
}
