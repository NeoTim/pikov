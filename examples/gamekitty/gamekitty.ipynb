{
 "cells": [
  {
   "cell_type": "code",
   "execution_count": 1,
   "metadata": {},
   "outputs": [],
   "source": [
    "from pikov import pikov"
   ]
  },
  {
   "cell_type": "code",
   "execution_count": 2,
   "metadata": {},
   "outputs": [],
   "source": [
    "gamekitty = pikov.Pikov.open('gamekitty.pikov')"
   ]
  },
  {
   "cell_type": "code",
   "execution_count": 3,
   "metadata": {},
   "outputs": [],
   "source": [
    "clip = gamekitty.get_clip(6)"
   ]
  },
  {
   "cell_type": "code",
   "execution_count": 4,
   "metadata": {},
   "outputs": [
    {
     "data": {
      "image/png": "[encoded data removed]",
      "text/html": [
       "<table><tr><td>frame_id</td><td>(6, 1)</td></tr><tr><td>duration</td><td>0.083333 seconds</td></tr><tr><td>image</td><td><table><tr><td>key</td><td>md5-5cd8240b4b2384413c868ce6e62a58ea</td></tr><tr><td>content_type</td><td>image/png</td></tr><tr><td>contents</td><td><img alt=\"image with key md5-5cd8240b4b2384413c868ce6e62a58ea\" src=\"data:image/png;base64,iVBORw0KGgoAAAANSUhEUgAAAAgAAAAIAgMAAAC5YVYYAAAADFBMVEUAAABfV08dK1ODdpzG7E2kAAAAGklEQVR4nGNwEWCYIcIQzsIgGgJFgioMxjoAKPsDK2UwvpwAAAAASUVORK5CYII=\" style=\"width: 5em; image-rendering: -moz-crisp-edges; image-rendering: crisp-edges; image-rendering: pixelated; \"></td></tr></table></td></tr></table>"
      ],
      "text/plain": [
       "Frame(frame_id='(6, 1)')"
      ]
     },
     "execution_count": 4,
     "metadata": {},
     "output_type": "execute_result"
    }
   ],
   "source": [
    "clip.frames[1]"
   ]
  },
  {
   "cell_type": "code",
   "execution_count": 5,
   "metadata": {},
   "outputs": [
    {
     "data": {
      "image/png": "[encoded data removed]",
      "text/html": [
       "<table><tr><td>key</td><td>md5-992b3e8f73a3d10574c9cc2a9e320475</td></tr><tr><td>content_type</td><td>image/png</td></tr><tr><td>contents</td><td><img alt=\"image with key md5-992b3e8f73a3d10574c9cc2a9e320475\" src=\"data:image/png;base64,iVBORw0KGgoAAAANSUhEUgAAAAgAAAAIAgMAAAC5YVYYAAAADFBMVEUAAABfV08dK1ODdpzG7E2kAAAAGklEQVR4nGNwYWGYwcIQzsIgGgJFgioMxjoAJsMDDxb1o+EAAAAASUVORK5CYII=\" style=\"width: 5em; image-rendering: -moz-crisp-edges; image-rendering: crisp-edges; image-rendering: pixelated; \"></td></tr></table>"
      ],
      "text/plain": [
       "Image(key='md5-992b3e8f73a3d10574c9cc2a9e320475')"
      ]
     },
     "execution_count": 5,
     "metadata": {},
     "output_type": "execute_result"
    }
   ],
   "source": [
    "clip.frames[0].image"
   ]
  },
  {
   "cell_type": "code",
   "execution_count": 6,
   "metadata": {},
   "outputs": [
    {
     "data": {
      "image/png": "[encoded data removed]",
      "text/html": [
       "<table><tr><td>key</td><td>md5-daa933078cce1a7374a20e52b1ddef8a</td></tr><tr><td>content_type</td><td>image/png</td></tr><tr><td>contents</td><td><img alt=\"image with key md5-daa933078cce1a7374a20e52b1ddef8a\" src=\"data:image/png;base64,iVBORw0KGgoAAAANSUhEUgAAAAgAAAAIAgMAAAC5YVYYAAAADFBMVEUAAABfV08dK1ODdpzG7E2kAAAAIElEQVR4nGMQZGBQY2AQPcDAWsDAGsPAGsLAFsbA9xUAILwDm0lloGcAAAAASUVORK5CYII=\" style=\"width: 5em; image-rendering: -moz-crisp-edges; image-rendering: crisp-edges; image-rendering: pixelated; \"></td></tr></table>"
      ],
      "text/plain": [
       "Image(key='md5-daa933078cce1a7374a20e52b1ddef8a')"
      ]
     },
     "execution_count": 6,
     "metadata": {},
     "output_type": "execute_result"
    }
   ],
   "source": [
    "gamekitty.get_image('md5-daa933078cce1a7374a20e52b1ddef8a')"
   ]
  },
  {
   "cell_type": "code",
   "execution_count": null,
   "metadata": {},
   "outputs": [],
   "source": [
    "import importlib\n",
    "importlib.reload(pikov)"
   ]
  },
  {
   "cell_type": "code",
   "execution_count": null,
   "metadata": {},
   "outputs": [],
   "source": []
  }
 ],
 "metadata": {
  "kernelspec": {
   "display_name": "Python 3",
   "language": "python",
   "name": "python3"
  },
  "language_info": {
   "codemirror_mode": {
    "name": "ipython",
    "version": 3
   },
   "file_extension": ".py",
   "mimetype": "text/x-python",
   "name": "python",
   "nbconvert_exporter": "python",
   "pygments_lexer": "ipython3",
   "version": "3.6.1"
  }
 },
 "nbformat": 4,
 "nbformat_minor": 2
}
