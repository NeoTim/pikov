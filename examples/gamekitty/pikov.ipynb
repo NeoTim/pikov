{
 "cells": [
  {
   "cell_type": "code",
   "execution_count": 1,
   "metadata": {},
   "outputs": [],
   "source": [
    "import collections\n",
    "import json\n",
    "import uuid"
   ]
  },
  {
   "cell_type": "code",
   "execution_count": 2,
   "metadata": {},
   "outputs": [],
   "source": [
    "with open(\"pikov.json\") as f:\n",
    "    core = json.load(f)\n",
    "\n",
    "guid_map = core[\"guidMap\"]"
   ]
  },
  {
   "cell_type": "code",
   "execution_count": 3,
   "metadata": {},
   "outputs": [],
   "source": [
    "#json.dumps(core, indent=2, sort_keys=True)"
   ]
  },
  {
   "cell_type": "markdown",
   "metadata": {},
   "source": [
    "## Build names mapping\n",
    "\n",
    "To make it a little easier to check that I'm using the correct guids, construct a mapping from names back to `guid`.\n",
    "\n",
    "Note: this adds a constraint that no two nodes have the same name, which should not be enforced for general semantic graphs."
   ]
  },
  {
   "cell_type": "code",
   "execution_count": 4,
   "metadata": {},
   "outputs": [],
   "source": [
    "names = {}\n",
    "for key, edges in guid_map.items():\n",
    "    for edge, value in edges.items():\n",
    "        if edge == \"169a81aefca74e92b45e3fa03c7021df\":\n",
    "            if value[\"string\"] in names:\n",
    "                raise ValueError('name: \"{}\" defined twice'.format(value[\"string\"]))\n",
    "            names[value[\"string\"]] = key\n",
    "     \n",
    "# names"
   ]
  },
  {
   "cell_type": "markdown",
   "metadata": {},
   "source": [
    "## Semantic Graph Helper Classes\n",
    "\n",
    "We want to wrap our semantic graph with Python classes. This allows us to interact with Python objects to modify the `guid_map`."
   ]
  },
  {
   "cell_type": "code",
   "execution_count": 5,
   "metadata": {},
   "outputs": [],
   "source": [
    "class SemanticGraphNode(object):\n",
    "    def __init__(self, ctor, guid_map, guid=None):\n",
    "        if guid is None:\n",
    "            guid = uuid.uuid4().hex\n",
    "        self._guid = guid\n",
    "        self._guid_map = guid_map\n",
    "\n",
    "        if guid in self._guid_map:\n",
    "            self._edges = self._guid_map[guid]\n",
    "        else:\n",
    "            self._edges = {\n",
    "                names[\"ctor\"]: {\"guid\": ctor},\n",
    "            }\n",
    "            self._guid_map[guid] = self._edges\n",
    "    \n",
    "    def __repr__(self):\n",
    "        return '\"{}\": {}'.format(\n",
    "            self._guid,\n",
    "            json.dumps(self._edges, indent=2, sort_keys=True))\n",
    "\n",
    "\n",
    "class AbstractSemanticGraphProperty(object):\n",
    "    def __init__(self, label_guid):\n",
    "        self._label_guid = label_guid\n",
    "\n",
    "    def __get__(self, obj, type=None):\n",
    "        return self.from_json(obj, obj._edges.get(self._label_guid, {}))\n",
    "\n",
    "    def __set__(self, obj, value):\n",
    "        obj._edges[self._label_guid] = self.to_json(value)"
   ]
  },
  {
   "cell_type": "markdown",
   "metadata": {},
   "source": [
    "### Semantic Graph Properties\n",
    "\n",
    "These classes encode the core types used in the semantic graph. When classes use these properties, the `guid_map` is updated with the correct serialization of the property."
   ]
  },
  {
   "cell_type": "code",
   "execution_count": 6,
   "metadata": {},
   "outputs": [],
   "source": [
    "class GuidProperty(AbstractSemanticGraphProperty):\n",
    "    def __init__(self, label_guid, cls):\n",
    "        super().__init__(label_guid)\n",
    "        self._cls = cls\n",
    "\n",
    "    def from_json(self, obj, value):\n",
    "        guid = value.get(\"guid\")\n",
    "        if guid is None:\n",
    "            return None\n",
    "        return self._cls(obj._guid_map, guid=guid)\n",
    "    \n",
    "    def to_json(self, value):\n",
    "        return {\"guid\": value._guid}\n",
    "\n",
    "    \n",
    "def make_guid_property(wrapped):\n",
    "    def __init__(self, label_guid):\n",
    "        GuidProperty.__init__(self, label_guid, wrapped)\n",
    "\n",
    "    return type(\n",
    "        wrapped.__name__ + \"Property\",\n",
    "        (GuidProperty,),\n",
    "        {\n",
    "            \"__init__\": __init__,\n",
    "        }\n",
    "    )\n",
    "\n",
    "        \n",
    "class Int64Property(AbstractSemanticGraphProperty):\n",
    "    def from_json(self, obj, value):\n",
    "        out = value.get(\"int64\")\n",
    "        if out is None:\n",
    "            return None\n",
    "        return int(out)\n",
    "\n",
    "    def to_json(self, value):\n",
    "        return {\"int64\": str(value)}\n",
    "            \n",
    "        \n",
    "class StringProperty(AbstractSemanticGraphProperty):\n",
    "    def from_json(self, obj, value):\n",
    "        return value.get(\"string\")\n",
    "\n",
    "    def to_json(self, value):\n",
    "        return {\"string\": value}"
   ]
  },
  {
   "cell_type": "markdown",
   "metadata": {},
   "source": [
    "## Pikov Classes\n",
    "\n",
    "These classes are the core resources used in defining a \"Pikov\" file.\n",
    "\n",
    "Note: ideally these classes could be derived from the graph itself, but I don't (yet) encode type or field information in the `pikov.json` semantic graph."
   ]
  },
  {
   "cell_type": "code",
   "execution_count": 7,
   "metadata": {},
   "outputs": [],
   "source": [
    "class Resource(SemanticGraphNode):\n",
    "    def __init__(self, guid_map, guid=None):\n",
    "        super().__init__(names[\"resource\"], guid_map, guid=guid)\n",
    "    \n",
    "    relative_path = StringProperty(names[\"resource.relative_path\"])\n",
    "\n",
    "\n",
    "ResourceProperty = make_guid_property(Resource)"
   ]
  },
  {
   "cell_type": "code",
   "execution_count": 8,
   "metadata": {},
   "outputs": [],
   "source": [
    "class Coordinate(SemanticGraphNode):\n",
    "    def __init__(self, guid_map, guid=None):\n",
    "        super().__init__(names[\"coordinate\"], guid_map, guid=guid)\n",
    "    \n",
    "    x = Int64Property(names[\"coordinate.x\"])\n",
    "    y = Int64Property(names[\"coordinate.y\"])\n",
    "\n",
    "\n",
    "CoordinateProperty = make_guid_property(Coordinate)"
   ]
  },
  {
   "cell_type": "code",
   "execution_count": 9,
   "metadata": {},
   "outputs": [],
   "source": [
    "class Vector(SemanticGraphNode):\n",
    "    def __init__(self, guid_map, guid=None):\n",
    "        super().__init__(names[\"vector\"], guid_map, guid=guid)\n",
    "    \n",
    "    x = Int64Property(names[\"vector.x\"])\n",
    "    y = Int64Property(names[\"vector.y\"])\n",
    "\n",
    "\n",
    "VectorProperty = make_guid_property(Vector)"
   ]
  },
  {
   "cell_type": "code",
   "execution_count": 10,
   "metadata": {},
   "outputs": [],
   "source": [
    "class Rectangle(SemanticGraphNode):\n",
    "    def __init__(self, guid_map, guid=None):\n",
    "        super().__init__(names[\"rectangle\"], guid_map, guid=guid)\n",
    "    \n",
    "    anchor = CoordinateProperty(names[\"rectangle.anchor\"])\n",
    "    width = Int64Property(names[\"rectangle.width\"])\n",
    "    height = Int64Property(names[\"rectangle.height\"])\n",
    "\n",
    "\n",
    "RectangleProperty = make_guid_property(Rectangle)"
   ]
  },
  {
   "cell_type": "code",
   "execution_count": 11,
   "metadata": {},
   "outputs": [],
   "source": [
    "class Bitmap(SemanticGraphNode):\n",
    "    def __init__(self, guid_map, guid=None):\n",
    "        super().__init__(names[\"bitmap\"], guid_map, guid=guid)\n",
    "    \n",
    "    resource = ResourceProperty(names[\"bitmap.resource\"])\n",
    "    rectangle = RectangleProperty(names[\"bitmap.rectangle\"])\n",
    "    \n",
    "    \n",
    "BitmapProperty = make_guid_property(Bitmap)"
   ]
  },
  {
   "cell_type": "code",
   "execution_count": 12,
   "metadata": {},
   "outputs": [],
   "source": [
    "class Frame(SemanticGraphNode):\n",
    "    def __init__(self, guid_map, guid=None):\n",
    "        super().__init__(names[\"frame\"], guid_map, guid=guid)\n",
    "    \n",
    "    duration_microseconds = Int64Property(names[\"frame.duration_microseconds\"])\n",
    "    bitmap = ResourceProperty(names[\"frame.bitmap\"])\n",
    "\n",
    "\n",
    "FrameProperty = make_guid_property(Frame)"
   ]
  },
  {
   "cell_type": "code",
   "execution_count": 13,
   "metadata": {},
   "outputs": [],
   "source": [
    "class Sprite(SemanticGraphNode):\n",
    "    def __init__(self, guid_map, guid=None):\n",
    "        super().__init__(names[\"sprite\"], guid_map, guid=guid)\n",
    "    \n",
    "    frame = FrameProperty(names[\"sprite.frame\"])\n",
    "    position = CoordinateProperty(names[\"sprite.position\"])\n",
    "    \n",
    "SpriteProperty = make_guid_property(Sprite)"
   ]
  },
  {
   "cell_type": "markdown",
   "metadata": {},
   "source": [
    "## Gamekitty\n",
    "\n",
    "Create instances of the Pikov classes to define a concrete Pikov graph, based on my \"gamekitty\" animations."
   ]
  },
  {
   "cell_type": "code",
   "execution_count": 14,
   "metadata": {},
   "outputs": [
    {
     "data": {
      "text/plain": [
       "\"650eeac69efb4d9096964e3c3fb4e13e\": {\n",
       "  \"4e09f9df1fdf4eb4964ff9ed1b375dbb\": {\n",
       "    \"string\": \"./gamekitty.png\"\n",
       "  },\n",
       "  \"aba6ac79fd3d409da860a77c90942852\": {\n",
       "    \"guid\": \"6ecf1345ea0b4865b92569971b100b09\"\n",
       "  }\n",
       "}"
      ]
     },
     "execution_count": 14,
     "metadata": {},
     "output_type": "execute_result"
    }
   ],
   "source": [
    "resource = Resource(guid_map, guid=\"650eeac69efb4d9096964e3c3fb4e13e\")\n",
    "resource.relative_path = \"./gamekitty.png\"\n",
    "resource"
   ]
  },
  {
   "cell_type": "code",
   "execution_count": 15,
   "metadata": {},
   "outputs": [
    {
     "data": {
      "text/plain": [
       "\"1c3e3474bf5b456d9bc1e9591f126167\": {\n",
       "  \"66b25e276cfb4d83a7032baaa4369b6f\": {\n",
       "    \"int64\": \"0\"\n",
       "  },\n",
       "  \"825142afc2934fbcb5126e149ac5ba31\": {\n",
       "    \"int64\": \"0\"\n",
       "  },\n",
       "  \"aba6ac79fd3d409da860a77c90942852\": {\n",
       "    \"guid\": \"bfa8113cb5e5436ebd76ab5418b7efd1\"\n",
       "  }\n",
       "}"
      ]
     },
     "execution_count": 15,
     "metadata": {},
     "output_type": "execute_result"
    }
   ],
   "source": [
    "origin = Coordinate(guid_map, \"1c3e3474bf5b456d9bc1e9591f126167\")\n",
    "origin.x = 0\n",
    "origin.y = 0\n",
    "origin"
   ]
  },
  {
   "cell_type": "code",
   "execution_count": 16,
   "metadata": {},
   "outputs": [
    {
     "data": {
      "text/plain": [
       "\"4148508493084e4f9e51e8c3e75cea9a\": {\n",
       "  \"2175a23088d347cb9256b7f6c6eae310\": {\n",
       "    \"guid\": \"1c3e3474bf5b456d9bc1e9591f126167\"\n",
       "  },\n",
       "  \"aba6ac79fd3d409da860a77c90942852\": {\n",
       "    \"guid\": \"158aafa594b44474a7da66a8cfa419f0\"\n",
       "  }\n",
       "}"
      ]
     },
     "execution_count": 16,
     "metadata": {},
     "output_type": "execute_result"
    }
   ],
   "source": [
    "sprite = Sprite(guid_map, guid=\"4148508493084e4f9e51e8c3e75cea9a\")\n",
    "core[\"root\"] = \"4148508493084e4f9e51e8c3e75cea9a\"\n",
    "sprite.position = origin\n",
    "sprite"
   ]
  },
  {
   "cell_type": "code",
   "execution_count": null,
   "metadata": {},
   "outputs": [],
   "source": []
  }
 ],
 "metadata": {
  "kernelspec": {
   "display_name": "Python 3",
   "language": "python",
   "name": "python3"
  },
  "language_info": {
   "codemirror_mode": {
    "name": "ipython",
    "version": 3
   },
   "file_extension": ".py",
   "mimetype": "text/x-python",
   "name": "python",
   "nbconvert_exporter": "python",
   "pygments_lexer": "ipython3",
   "version": "3.6.4"
  }
 },
 "nbformat": 4,
 "nbformat_minor": 2
}
