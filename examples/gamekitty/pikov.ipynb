{
 "cells": [
  {
   "cell_type": "code",
   "execution_count": 11,
   "metadata": {},
   "outputs": [],
   "source": [
    "import collections\n",
    "import json\n",
    "import uuid"
   ]
  },
  {
   "cell_type": "code",
   "execution_count": 33,
   "metadata": {},
   "outputs": [],
   "source": [
    "with open(\"pikov.json\") as f:\n",
    "    core = json.load(f)"
   ]
  },
  {
   "cell_type": "code",
   "execution_count": 34,
   "metadata": {},
   "outputs": [
    {
     "data": {
      "text/plain": [
       "dict_keys(['169a81aefca74e92b45e3fa03c7021df', 'aba6ac79fd3d409da860a77c90942852', '8b057dd7a9c84b7180cb2d8d6015b833', 'c6b725e0c8bb419ca9408eec5febbde8', 'a2be632d888143e89ddfd4b1b8c8492d', '8fe06c0750344322bd773f56bdd73b0a', '8ea9b7bc02e748ae9dc2e169590e71e3', 'ff7abe687a764f9d80d67a70424c329a', '6ecf1345ea0b4865b92569971b100b09', '4e09f9df1fdf4eb4964ff9ed1b375dbb', 'bc7e9e34c3464292ba39c2b1b9dc8902', '0de9d2d0679945ca9e6957f049cc982c', '995607dcd31e477994333565511c1de2', 'c5f33d38b1104896ba54d09dba3d0acf', 'bfa8113cb5e5436ebd76ab5418b7efd1', '825142afc2934fbcb5126e149ac5ba31', '66b25e276cfb4d83a7032baaa4369b6f', '667901a1e1c54035b7e586a05fffed2e', '1f22dbb5504344fb93f57f0f0eb0ba6f', '68b5d34bb7954ad6850cd55cbae05ccf'])"
      ]
     },
     "execution_count": 34,
     "metadata": {},
     "output_type": "execute_result"
    }
   ],
   "source": [
    "core[\"guidMap\"].keys()"
   ]
  },
  {
   "cell_type": "code",
   "execution_count": 29,
   "metadata": {},
   "outputs": [
    {
     "data": {
      "text/plain": [
       "{'169a81aefca74e92b45e3fa03c7021df': {'169a81aefca74e92b45e3fa03c7021df': {'string': 'name'}},\n",
       " 'aba6ac79fd3d409da860a77c90942852': {'169a81aefca74e92b45e3fa03c7021df': {'string': 'ctor'}},\n",
       " '8b057dd7a9c84b7180cb2d8d6015b833': {'169a81aefca74e92b45e3fa03c7021df': {'string': 'frame'}},\n",
       " 'c6b725e0c8bb419ca9408eec5febbde8': {'169a81aefca74e92b45e3fa03c7021df': {'string': 'frame.bitmap'}},\n",
       " 'a2be632d888143e89ddfd4b1b8c8492d': {'169a81aefca74e92b45e3fa03c7021df': {'string': 'frame.duration_microseconds'}},\n",
       " '8fe06c0750344322bd773f56bdd73b0a': {'169a81aefca74e92b45e3fa03c7021df': {'string': 'transition'}},\n",
       " '8ea9b7bc02e748ae9dc2e169590e71e3': {'169a81aefca74e92b45e3fa03c7021df': {'string': 'transition.source'}},\n",
       " 'ff7abe687a764f9d80d67a70424c329a': {'169a81aefca74e92b45e3fa03c7021df': {'string': 'transition.target'}},\n",
       " '6ecf1345ea0b4865b92569971b100b09': {'169a81aefca74e92b45e3fa03c7021df': {'string': 'resource'}},\n",
       " '4e09f9df1fdf4eb4964ff9ed1b375dbb': {'169a81aefca74e92b45e3fa03c7021df': {'string': 'resource.relative_path'}},\n",
       " 'bc7e9e34c3464292ba39c2b1b9dc8902': {'169a81aefca74e92b45e3fa03c7021df': {'string': 'bitmap'}},\n",
       " '0de9d2d0679945ca9e6957f049cc982c': {'169a81aefca74e92b45e3fa03c7021df': {'string': 'bitmap.resource'}},\n",
       " '995607dcd31e477994333565511c1de2': {'169a81aefca74e92b45e3fa03c7021df': {'string': 'bitmap.rectangle'}},\n",
       " 'c5f33d38b1104896ba54d09dba3d0acf': {'169a81aefca74e92b45e3fa03c7021df': {'string': 'rectangle'}},\n",
       " 'bfa8113cb5e5436ebd76ab5418b7efd1': {'169a81aefca74e92b45e3fa03c7021df': {'string': 'coordinate'}},\n",
       " '825142afc2934fbcb5126e149ac5ba31': {'169a81aefca74e92b45e3fa03c7021df': {'string': 'coordinate.x'}},\n",
       " '66b25e276cfb4d83a7032baaa4369b6f': {'169a81aefca74e92b45e3fa03c7021df': {'string': 'coordinate.y'}},\n",
       " '667901a1e1c54035b7e586a05fffed2e': {'169a81aefca74e92b45e3fa03c7021df': {'string': 'rectangle.anchor'}},\n",
       " '1f22dbb5504344fb93f57f0f0eb0ba6f': {'169a81aefca74e92b45e3fa03c7021df': {'string': 'rectangle.width'}},\n",
       " '68b5d34bb7954ad6850cd55cbae05ccf': {'169a81aefca74e92b45e3fa03c7021df': {'string': 'rectangle.height'}}}"
      ]
     },
     "execution_count": 29,
     "metadata": {},
     "output_type": "execute_result"
    }
   ],
   "source": [
    "remapped = {}\n",
    "for key, edges in core[\"guidMap\"].items():\n",
    "    node = {}\n",
    "    remapped[key] = node\n",
    "    for edge in edges:\n",
    "        node[edge[\"label\"][\"guid\"]] = edge[\"to\"]\n",
    "remapped"
   ]
  },
  {
   "cell_type": "code",
   "execution_count": 32,
   "metadata": {},
   "outputs": [],
   "source": [
    "o = {\"guidMap\": remapped}\n",
    "# print(json.dumps(o, indent=2))"
   ]
  },
  {
   "cell_type": "code",
   "execution_count": 36,
   "metadata": {},
   "outputs": [],
   "source": [
    "names = collections.defaultdict(list)\n",
    "for key, edges in core[\"guidMap\"].items():\n",
    "    for edge, value in edges.items():\n",
    "        if edge == \"169a81aefca74e92b45e3fa03c7021df\":\n",
    "            names[value[\"string\"]].append(key)"
   ]
  },
  {
   "cell_type": "code",
   "execution_count": 37,
   "metadata": {},
   "outputs": [
    {
     "data": {
      "text/plain": [
       "defaultdict(list,\n",
       "            {'name': ['169a81aefca74e92b45e3fa03c7021df'],\n",
       "             'ctor': ['aba6ac79fd3d409da860a77c90942852'],\n",
       "             'frame': ['8b057dd7a9c84b7180cb2d8d6015b833'],\n",
       "             'frame.bitmap': ['c6b725e0c8bb419ca9408eec5febbde8'],\n",
       "             'frame.duration_microseconds': ['a2be632d888143e89ddfd4b1b8c8492d'],\n",
       "             'transition': ['8fe06c0750344322bd773f56bdd73b0a'],\n",
       "             'transition.source': ['8ea9b7bc02e748ae9dc2e169590e71e3'],\n",
       "             'transition.target': ['ff7abe687a764f9d80d67a70424c329a'],\n",
       "             'resource': ['6ecf1345ea0b4865b92569971b100b09'],\n",
       "             'resource.relative_path': ['4e09f9df1fdf4eb4964ff9ed1b375dbb'],\n",
       "             'bitmap': ['bc7e9e34c3464292ba39c2b1b9dc8902'],\n",
       "             'bitmap.resource': ['0de9d2d0679945ca9e6957f049cc982c'],\n",
       "             'bitmap.rectangle': ['995607dcd31e477994333565511c1de2'],\n",
       "             'rectangle': ['c5f33d38b1104896ba54d09dba3d0acf'],\n",
       "             'coordinate': ['bfa8113cb5e5436ebd76ab5418b7efd1'],\n",
       "             'coordinate.x': ['825142afc2934fbcb5126e149ac5ba31'],\n",
       "             'coordinate.y': ['66b25e276cfb4d83a7032baaa4369b6f'],\n",
       "             'rectangle.anchor': ['667901a1e1c54035b7e586a05fffed2e'],\n",
       "             'rectangle.width': ['1f22dbb5504344fb93f57f0f0eb0ba6f'],\n",
       "             'rectangle.height': ['68b5d34bb7954ad6850cd55cbae05ccf']})"
      ]
     },
     "execution_count": 37,
     "metadata": {},
     "output_type": "execute_result"
    }
   ],
   "source": [
    "names"
   ]
  },
  {
   "cell_type": "code",
   "execution_count": 59,
   "metadata": {},
   "outputs": [],
   "source": [
    "class SemanticGraphNode(object):\n",
    "    def __init__(self, ctor, guid_map, guid=None):\n",
    "        if guid is None:\n",
    "            guid = uuid.uuid4().hex\n",
    "        self._guid = guid\n",
    "        self._guid_map = guid_map\n",
    "\n",
    "        if guid in self._guid_map:\n",
    "            self._edges = self._guid_map[guid]\n",
    "        else:\n",
    "            self._edges = {\n",
    "                names[\"ctor\"][0]: ctor,\n",
    "            }\n",
    "            self._guid_map[guid] = self._edges\n",
    "\n",
    "\n",
    "class AbstractSemanticGraphProperty(object):\n",
    "    def __init__(self, label_guid):\n",
    "        self._label_guid = label_guid\n",
    "\n",
    "    def __get__(self, obj, type=None):\n",
    "        return self.from_json(obj, obj._edges.get(self._label_guid, {}))\n",
    "\n",
    "    def __set__(self, obj, value):\n",
    "        self._edges[self._label_guid] = self.to_json(value)\n",
    "\n",
    "\n",
    "class GuidProperty(AbstractSemanticGraphProperty):\n",
    "    def __init__(self, label_guid, cls):\n",
    "        super().__init__(label_guid)\n",
    "        self._cls = cls\n",
    "\n",
    "    def from_json(self, obj, value):\n",
    "        guid = value.get(\"guid\")\n",
    "        if guid is None:\n",
    "            return None\n",
    "        return self._cls(obj._guid_map, guid=guid)\n",
    "    \n",
    "    def to_json(self, value):\n",
    "        return {\"guid\": value._guid}\n",
    "\n",
    "    \n",
    "def make_guid_property(wrapped):\n",
    "    def __init__(self, label_guid):\n",
    "        GuidProperty.__init__(self, label_guid, wrapped)\n",
    "\n",
    "    return type(\n",
    "        wrapped.__name__ + \"Property\",\n",
    "        (GuidProperty,),\n",
    "        {\n",
    "            \"__init__\": __init__,\n",
    "        }\n",
    "    )\n",
    "\n",
    "        \n",
    "class Int64Property(AbstractSemanticGraphProperty):\n",
    "    def from_json(self, obj, value):\n",
    "        out = value.get(\"int64\")\n",
    "        if out is None:\n",
    "            return None\n",
    "        return int(out)\n",
    "\n",
    "    def to_json(self, value):\n",
    "        return {\"int64\": str(value)}\n",
    "            \n",
    "        \n",
    "class StringProperty(AbstractSemanticGraphProperty):\n",
    "    def from_json(self, obj, value):\n",
    "        return value.get(\"string\")\n",
    "\n",
    "    def to_json(self, value):\n",
    "        return {\"string\": value}"
   ]
  },
  {
   "cell_type": "code",
   "execution_count": 60,
   "metadata": {},
   "outputs": [],
   "source": [
    "class Resource(SemanticGraphNode):\n",
    "    def __init__(self, guid_map, guid=None):\n",
    "        super().__init__(names[\"coordinate\"][0], guid_map, guid=guid)\n",
    "    \n",
    "    relative_path = StringProperty(names[\"resource.relative_path\"])\n",
    "\n",
    "\n",
    "ResourceProperty = make_guid_property(Resource)"
   ]
  },
  {
   "cell_type": "code",
   "execution_count": 61,
   "metadata": {},
   "outputs": [],
   "source": [
    "class Coordinate(SemanticGraphNode):\n",
    "    def __init__(self, guid_map, guid=None):\n",
    "        super().__init__(names[\"resource\"][0], guid_map, guid=guid)\n",
    "    \n",
    "    x = Int64Property(names[\"coordinate.x\"])\n",
    "    y = Int64Property(names[\"coordinate.y\"])\n",
    "\n",
    "\n",
    "CoordinateProperty = make_guid_property(Coordinate)"
   ]
  },
  {
   "cell_type": "code",
   "execution_count": 62,
   "metadata": {},
   "outputs": [],
   "source": [
    "class Rectangle(SemanticGraphNode):\n",
    "    def __init__(self, guid_map, guid=None):\n",
    "        super().__init__(names[\"rectangle\"][0], guid_map, guid=guid)\n",
    "    \n",
    "    anchor = CoordinateProperty(names[\"coordinate\"])\n",
    "    width = Int64Property(names[\"rectangle.width\"])\n",
    "    height = Int64Property(names[\"rectangle.height\"])\n",
    "\n",
    "\n",
    "RectangleProperty = make_guid_property(Rectangle)"
   ]
  },
  {
   "cell_type": "code",
   "execution_count": 64,
   "metadata": {},
   "outputs": [],
   "source": [
    "class Bitmap(SemanticGraphNode):\n",
    "    def __init__(self, guid_map, guid=None):\n",
    "        super().__init__(self, names[\"bitmap\"][0], guid_map, guid=guid)\n",
    "    \n",
    "    resource = ResourceProperty(names[\"bitmap.resource\"])\n",
    "    rectangle = RectangleProperty(names[\"bitmap.rectangle\"])\n",
    "    \n",
    "    \n",
    "BitmapProperty = make_guid_property(Bitmap)"
   ]
  },
  {
   "cell_type": "code",
   "execution_count": 66,
   "metadata": {},
   "outputs": [],
   "source": [
    "class Frame(SemanticGraphNode):\n",
    "    def __init__(self, guid_map, guid=None):\n",
    "        super().__init__(self, names[\"frame\"][0], guid_map, guid=guid)\n",
    "    \n",
    "    duration_microseconds = Int64Property(names[\"frame.duration_microsecond\"])\n",
    "    bitmap = ResourceProperty(names[\"frame.duration_microsecond\"])\n",
    "\n",
    "\n",
    "FrameProperty = make_guid_property(Frame)"
   ]
  },
  {
   "cell_type": "code",
   "execution_count": null,
   "metadata": {},
   "outputs": [],
   "source": []
  }
 ],
 "metadata": {
  "kernelspec": {
   "display_name": "Python 3",
   "language": "python",
   "name": "python3"
  },
  "language_info": {
   "codemirror_mode": {
    "name": "ipython",
    "version": 3
   },
   "file_extension": ".py",
   "mimetype": "text/x-python",
   "name": "python",
   "nbconvert_exporter": "python",
   "pygments_lexer": "ipython3",
   "version": "3.6.4"
  }
 },
 "nbformat": 4,
 "nbformat_minor": 2
}
