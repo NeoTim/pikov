{
 "cells": [
  {
   "cell_type": "code",
   "execution_count": 1,
   "metadata": {},
   "outputs": [],
   "source": [
    "import collections\n",
    "import json\n",
    "import uuid\n",
    "\n",
    "from PIL import Image"
   ]
  },
  {
   "cell_type": "code",
   "execution_count": 2,
   "metadata": {},
   "outputs": [],
   "source": [
    "# Helper for displaying images.\n",
    "\n",
    "# source: http://nbviewer.ipython.org/gist/deeplook/5162445\n",
    "from io import BytesIO\n",
    "\n",
    "from IPython import display\n",
    "from PIL import Image\n",
    "\n",
    "\n",
    "def display_pil_image(im):\n",
    "   \"\"\"Displayhook function for PIL Images, rendered as PNG.\"\"\"\n",
    "\n",
    "   b = BytesIO()\n",
    "   im.save(b, format='png')\n",
    "   data = b.getvalue()\n",
    "\n",
    "   ip_img = display.Image(data=data, format='png', embed=True)\n",
    "   return ip_img._repr_png_()\n",
    "\n",
    "\n",
    "# register display func with PNG formatter:\n",
    "png_formatter = get_ipython().display_formatter.formatters['image/png']\n",
    "dpi = png_formatter.for_type(Image.Image, display_pil_image)"
   ]
  },
  {
   "cell_type": "code",
   "execution_count": null,
   "metadata": {},
   "outputs": [],
   "source": [
    "class Edge:\n",
    "    def __init__(self, graph, label, target):\n",
    "        pass\n",
    "\n",
    "\n",
    "class Node:\n",
    "    def __init__(self, graph, guid=None):\n",
    "        if guid is None:\n",
    "            guid = uuid.uuid4().hex\n",
    "        self.guid = guid\n",
    "        self._graph = graph\n",
    "    \n",
    "    @property\n",
    "    def edges(self):\n",
    "        return self.graph.get_edges(self)\n",
    "\n",
    "\n",
    "class JSONGraph:\n",
    "    def __init__(self):\n",
    "        self._properties = {'guidMap': {}}\n",
    "    \n",
    "    @property\n",
    "    def _guid_map(self):\n",
    "        return self._properties['guidMap']\n",
    "    \n",
    "    @classmethod\n",
    "    def load(cls, fp):\n",
    "        graph = cls()\n",
    "        graph._properties = json.load(f)\n",
    "    \n",
    "    def save(self, fp):\n",
    "        json.dump(core, f, indent=2, sort_keys=True)\n",
    "\n",
    "    def _to_json(self, target):\n",
    "        # TODO: switch on type\n",
    "\n",
    "    def get_edges(self, node):\n",
    "        pass\n",
    "        \n",
    "    def add_edge(self, source, target, label):\n",
    "        if source.guid not in self._guid_map:\n",
    "            self._guid_map[source.guid] = {}    \n",
    "        self._guid_map[source.guid][label.guid] = self._to_json(target)\n",
    "        "
   ]
  },
  {
   "cell_type": "code",
   "execution_count": 3,
   "metadata": {},
   "outputs": [],
   "source": [
    "with open(\"pikov.json\") as f:\n",
    "    core = json.load(f)\n",
    "\n",
    "guid_map = core[\"guidMap\"]"
   ]
  },
  {
   "cell_type": "code",
   "execution_count": 40,
   "metadata": {},
   "outputs": [],
   "source": [
    "#json.dumps(core, indent=2, sort_keys=True)\n",
    "\n",
    "with open(\"pikov.json\", \"w\") as f:\n",
    "    json.dump(core, f, indent=2, sort_keys=True)"
   ]
  },
  {
   "cell_type": "markdown",
   "metadata": {},
   "source": [
    "## Build names mapping\n",
    "\n",
    "To make it a little easier to check that I'm using the correct guids, construct a mapping from names back to `guid`.\n",
    "\n",
    "Note: this adds a constraint that no two nodes have the same name, which should not be enforced for general semantic graphs."
   ]
  },
  {
   "cell_type": "code",
   "execution_count": 5,
   "metadata": {},
   "outputs": [],
   "source": [
    "names = {}\n",
    "for key, edges in guid_map.items():\n",
    "    for edge, value in edges.items():\n",
    "        if edge == \"169a81aefca74e92b45e3fa03c7021df\":\n",
    "            if value[\"string\"] in names:\n",
    "                raise ValueError('name: \"{}\" defined twice'.format(value[\"string\"]))\n",
    "            names[value[\"string\"]] = key\n",
    "     \n",
    "# names"
   ]
  },
  {
   "cell_type": "markdown",
   "metadata": {},
   "source": [
    "## Semantic Graph Helper Classes\n",
    "\n",
    "We want to wrap our semantic graph with Python classes. This allows us to interact with Python objects to modify the `guid_map`."
   ]
  },
  {
   "cell_type": "markdown",
   "metadata": {},
   "source": [
    "### Semantic Graph Properties\n",
    "\n",
    "These classes encode the core types used in the semantic graph. When classes use these properties, the `guid_map` is updated with the correct serialization of the property."
   ]
  },
  {
   "cell_type": "code",
   "execution_count": 6,
   "metadata": {},
   "outputs": [],
   "source": [
    "class AbstractSemanticGraphProperty(object):\n",
    "    def __init__(self, label_guid):\n",
    "        self._label_guid = label_guid\n",
    "\n",
    "    def __get__(self, obj, type=None):\n",
    "        return self.from_json(obj, obj._edges.get(self._label_guid, {}))\n",
    "\n",
    "    def __set__(self, obj, value):\n",
    "        obj._edges[self._label_guid] = self.to_json(value)\n",
    "\n",
    "\n",
    "class GuidProperty(AbstractSemanticGraphProperty):\n",
    "    def __init__(self, label_guid, cls):\n",
    "        super().__init__(label_guid)\n",
    "        self._cls = cls\n",
    "\n",
    "    def from_json(self, obj, value):\n",
    "        guid = value.get(\"guid\")\n",
    "        if guid is None:\n",
    "            return None\n",
    "        return self._cls(obj._guid_map, guid=guid)\n",
    "    \n",
    "    def to_json(self, value):\n",
    "        return {\"guid\": value.guid}\n",
    "\n",
    "    \n",
    "def make_guid_property(wrapped):\n",
    "    def __init__(self, label_guid):\n",
    "        GuidProperty.__init__(self, label_guid, wrapped)\n",
    "\n",
    "    return type(\n",
    "        wrapped.__name__ + \"Property\",\n",
    "        (GuidProperty,),\n",
    "        {\n",
    "            \"__init__\": __init__,\n",
    "        }\n",
    "    )\n",
    "\n",
    "        \n",
    "class Int64Property(AbstractSemanticGraphProperty):\n",
    "    def from_json(self, obj, value):\n",
    "        out = value.get(\"int64\")\n",
    "        if out is None:\n",
    "            return None\n",
    "        return int(out)\n",
    "\n",
    "    def to_json(self, value):\n",
    "        return {\"int64\": str(value)}\n",
    "            \n",
    "        \n",
    "class StringProperty(AbstractSemanticGraphProperty):\n",
    "    def from_json(self, obj, value):\n",
    "        return value.get(\"string\")\n",
    "\n",
    "    def to_json(self, value):\n",
    "        return {\"string\": value}"
   ]
  },
  {
   "cell_type": "markdown",
   "metadata": {},
   "source": [
    "I want all nodes to have an (optional) name property, so define the node class after we've defined the property classes."
   ]
  },
  {
   "cell_type": "code",
   "execution_count": 7,
   "metadata": {},
   "outputs": [],
   "source": [
    "class SemanticGraphNode(object):\n",
    "    def __init__(self, ctor, guid_map, guid=None):\n",
    "        if guid is None:\n",
    "            guid = uuid.uuid4().hex\n",
    "        self.guid = guid\n",
    "        self._guid_map = guid_map\n",
    "\n",
    "        if guid in self._guid_map:\n",
    "            self._edges = self._guid_map[guid]\n",
    "        else:\n",
    "            self._edges = {\n",
    "                names[\"ctor\"]: {\"guid\": ctor},\n",
    "            }\n",
    "            self._guid_map[guid] = self._edges\n",
    "    \n",
    "    name = StringProperty(names[\"name\"])\n",
    "    \n",
    "    def __repr__(self):\n",
    "        return '\"{}\": {}'.format(\n",
    "            self.guid,\n",
    "            json.dumps(self._edges, indent=2, sort_keys=True))\n"
   ]
  },
  {
   "cell_type": "markdown",
   "metadata": {},
   "source": [
    "## Pikov Classes\n",
    "\n",
    "These classes are the core resources used in defining a \"Pikov\" file.\n",
    "\n",
    "Note: ideally these classes could be derived from the graph itself, but I don't (yet) encode type or field information in the `pikov.json` semantic graph."
   ]
  },
  {
   "cell_type": "code",
   "execution_count": 8,
   "metadata": {},
   "outputs": [],
   "source": [
    "class Resource(SemanticGraphNode):\n",
    "    def __init__(self, guid_map, guid=None):\n",
    "        super().__init__(names[\"resource\"], guid_map, guid=guid)\n",
    "        self._image = None\n",
    "\n",
    "    relative_path = StringProperty(names[\"resource.relative_path\"])\n",
    "    \n",
    "    @property\n",
    "    def image(self):\n",
    "        if self._image is None:\n",
    "            self._image = Image.open(self.relative_path)\n",
    "        return self._image\n",
    "\n",
    "\n",
    "ResourceProperty = make_guid_property(Resource)"
   ]
  },
  {
   "cell_type": "code",
   "execution_count": 9,
   "metadata": {},
   "outputs": [],
   "source": [
    "class Coordinate(SemanticGraphNode):\n",
    "    def __init__(self, guid_map, guid=None):\n",
    "        super().__init__(names[\"coordinate\"], guid_map, guid=guid)\n",
    "    \n",
    "    x = Int64Property(names[\"coordinate.x\"])\n",
    "    y = Int64Property(names[\"coordinate.y\"])\n",
    "\n",
    "\n",
    "CoordinateProperty = make_guid_property(Coordinate)"
   ]
  },
  {
   "cell_type": "code",
   "execution_count": 10,
   "metadata": {},
   "outputs": [],
   "source": [
    "class Vector(SemanticGraphNode):\n",
    "    def __init__(self, guid_map, guid=None):\n",
    "        super().__init__(names[\"vector\"], guid_map, guid=guid)\n",
    "    \n",
    "    x = Int64Property(names[\"vector.x\"])\n",
    "    y = Int64Property(names[\"vector.y\"])\n",
    "\n",
    "\n",
    "VectorProperty = make_guid_property(Vector)"
   ]
  },
  {
   "cell_type": "code",
   "execution_count": 11,
   "metadata": {},
   "outputs": [],
   "source": [
    "class Rectangle(SemanticGraphNode):\n",
    "    def __init__(self, guid_map, guid=None):\n",
    "        super().__init__(names[\"rectangle\"], guid_map, guid=guid)\n",
    "    \n",
    "    anchor = CoordinateProperty(names[\"rectangle.anchor\"])\n",
    "    width = Int64Property(names[\"rectangle.width\"])\n",
    "    height = Int64Property(names[\"rectangle.height\"])\n",
    "\n",
    "\n",
    "RectangleProperty = make_guid_property(Rectangle)"
   ]
  },
  {
   "cell_type": "code",
   "execution_count": 12,
   "metadata": {},
   "outputs": [],
   "source": [
    "class Bitmap(SemanticGraphNode):\n",
    "    def __init__(self, guid_map, guid=None):\n",
    "        super().__init__(names[\"bitmap\"], guid_map, guid=guid)\n",
    "        self._image = None\n",
    "    \n",
    "    resource = ResourceProperty(names[\"bitmap.resource\"])\n",
    "    crop = RectangleProperty(names[\"bitmap.crop\"])\n",
    "        \n",
    "    @property\n",
    "    def image(self):\n",
    "        if self._image is None:\n",
    "            left = self.crop.anchor.x\n",
    "            top = self.crop.anchor.y\n",
    "            right = left + self.crop.width\n",
    "            bottom = top + self.crop.height\n",
    "            self._image = self.resource.image.crop(\n",
    "                (left, top, right, bottom)\n",
    "            )\n",
    "        return self._image\n",
    "    \n",
    "    \n",
    "BitmapProperty = make_guid_property(Bitmap)"
   ]
  },
  {
   "cell_type": "code",
   "execution_count": 13,
   "metadata": {},
   "outputs": [],
   "source": [
    "class Frame(SemanticGraphNode):\n",
    "    def __init__(self, guid_map, guid=None):\n",
    "        super().__init__(names[\"frame\"], guid_map, guid=guid)\n",
    "    \n",
    "    duration_microseconds = Int64Property(names[\"frame.duration_microseconds\"])\n",
    "    bitmap = BitmapProperty(names[\"frame.bitmap\"])\n",
    "\n",
    "\n",
    "FrameProperty = make_guid_property(Frame)"
   ]
  },
  {
   "cell_type": "code",
   "execution_count": 14,
   "metadata": {},
   "outputs": [],
   "source": [
    "class Transition(SemanticGraphNode):\n",
    "    def __init__(self, guid_map, guid=None):\n",
    "        super().__init__(names[\"transition\"], guid_map, guid=guid)\n",
    "    \n",
    "    source = FrameProperty(names[\"transition.source\"])\n",
    "    target = FrameProperty(names[\"transition.target\"])\n",
    "\n",
    "\n",
    "TransitionProperty = make_guid_property(Transition)"
   ]
  },
  {
   "cell_type": "code",
   "execution_count": 15,
   "metadata": {},
   "outputs": [],
   "source": [
    "class Sprite(SemanticGraphNode):\n",
    "    def __init__(self, guid_map, guid=None):\n",
    "        super().__init__(names[\"sprite\"], guid_map, guid=guid)\n",
    "    \n",
    "    frame = FrameProperty(names[\"sprite.frame\"])\n",
    "    position = CoordinateProperty(names[\"sprite.position\"])\n",
    "    \n",
    "SpriteProperty = make_guid_property(Sprite)"
   ]
  },
  {
   "cell_type": "markdown",
   "metadata": {},
   "source": [
    "## Gamekitty\n",
    "\n",
    "Create instances of the Pikov classes to define a concrete Pikov graph, based on my \"gamekitty\" animations."
   ]
  },
  {
   "cell_type": "code",
   "execution_count": 16,
   "metadata": {},
   "outputs": [
    {
     "data": {
      "text/plain": [
       "\"710af736fb3945e28b07e0ac3a8e53d6\": {\n",
       "  \"169a81aefca74e92b45e3fa03c7021df\": {\n",
       "    \"string\": \"spritesheet\"\n",
       "  },\n",
       "  \"4e09f9df1fdf4eb4964ff9ed1b375dbb\": {\n",
       "    \"string\": \"./gamekitty.png\"\n",
       "  },\n",
       "  \"aba6ac79fd3d409da860a77c90942852\": {\n",
       "    \"guid\": \"6ecf1345ea0b4865b92569971b100b09\"\n",
       "  }\n",
       "}"
      ]
     },
     "execution_count": 16,
     "metadata": {},
     "output_type": "execute_result"
    }
   ],
   "source": [
    "resource = Resource(guid_map, guid=names.get(\"spritesheet\"))\n",
    "resource.name = \"spritesheet\"\n",
    "resource.relative_path = \"./gamekitty.png\"\n",
    "resource"
   ]
  },
  {
   "cell_type": "code",
   "execution_count": 17,
   "metadata": {},
   "outputs": [
    {
     "data": {
      "image/png": "[encoded data removed]",
      "text/plain": [
       "<PIL.PngImagePlugin.PngImageFile image mode=RGBA size=128x128 at 0x104C59F60>"
      ]
     },
     "execution_count": 17,
     "metadata": {},
     "output_type": "execute_result"
    }
   ],
   "source": [
    "resource.image"
   ]
  },
  {
   "cell_type": "markdown",
   "metadata": {},
   "source": [
    "### Chop image into 8x8 sprites\n",
    "\n",
    "By creating an array of 8x8 images, we make it easier to map from PICO-8 sprite number (from my original gamekitty cart) to a Bitmap."
   ]
  },
  {
   "cell_type": "code",
   "execution_count": 18,
   "metadata": {},
   "outputs": [],
   "source": [
    "spritesheet = []\n",
    "for row in range(16):\n",
    "    for column in range(16):\n",
    "        sprite_number = row * 16 + column\n",
    "        \n",
    "        crop_name = \"crop[{}]\".format(sprite_number)\n",
    "        crop = Rectangle(guid_map, guid=names.get(crop_name))\n",
    "        crop.name = crop_name\n",
    "        \n",
    "        anchor_name = \"anchor[{}]\".format(sprite_number)\n",
    "        anchor = Coordinate(guid_map, guid=names.get(anchor_name))\n",
    "        anchor.name = anchor_name\n",
    "        anchor.x = row * 8\n",
    "        anchor.y = row * 8\n",
    "\n",
    "        crop.anchor = anchor\n",
    "        crop.width = 8\n",
    "        crop.height = 8\n",
    "        \n",
    "        bitmap_name = \"bitmap[{}]\".format(sprite_number)\n",
    "        bitmap = Bitmap(guid_map, guid=names.get(bitmap_name))\n",
    "        bitmap.name = bitmap_name\n",
    "        bitmap.resource = resource\n",
    "        bitmap.crop = crop\n",
    "        \n",
    "        spritesheet.append(bitmap)"
   ]
  },
  {
   "cell_type": "markdown",
   "metadata": {},
   "source": [
    "### Create frames for each \"clip\"\n",
    "\n",
    "Each animation is defined in terms of sprite numbers. Sometimes a clip should loop, but sometimes it's only used as a transition between looping clips."
   ]
  },
  {
   "cell_type": "code",
   "execution_count": 19,
   "metadata": {},
   "outputs": [],
   "source": [
    "MICROS_12_FPS = int(1e6 / 12)  # 12 frames per second\n",
    "MICROS_24_FPS = int(1e6 / 24)"
   ]
  },
  {
   "cell_type": "code",
   "execution_count": 38,
   "metadata": {},
   "outputs": [],
   "source": [
    "def find_nodes(guid_map, ctor, cls):\n",
    "    nodes = {}\n",
    "    for guid, edges in guid_map.items():\n",
    "        if edges.get(names[\"ctor\"]) == ctor:\n",
    "            nodes = cls(guid_map, guid=guid)\n",
    "            nodes[node.name] = node\n",
    "    return nodes\n",
    "\n",
    "\n",
    "def find_frames(guid_map):\n",
    "    return find_nodes(guid_map, names[\"frame\"], Frame)\n",
    "\n",
    "\n",
    "def find_transitions(guid_map):\n",
    "    return find_nodes(guid_map, names[\"transition\"], Transition)\n",
    "\n",
    "\n",
    "def find_absorbing_frames(guid_map):\n",
    "    transitions = find_transitions(guid_map)\n",
    "    target_frames = set()\n",
    "    source_frames = set()\n",
    "    for transition in transitions:\n",
    "        target_frames.add(transition.target.guid)\n",
    "        source_frames.add(transition.source.guid)\n",
    "    return target_frames - source_frames  # In but not out. Dead end!"
   ]
  },
  {
   "cell_type": "code",
   "execution_count": 21,
   "metadata": {},
   "outputs": [],
   "source": [
    "def connect_frames(guid_map, transition_name, source, target):\n",
    "    transition = Transition(guid_map, guid=names.get(transition_name))\n",
    "    transition.name = transition_name\n",
    "    transition.source = source\n",
    "    transition.target = target\n",
    "    return transition\n",
    "\n",
    "\n",
    "def make_clip(guid_map, name, sprite_numbers, loop=False, duration=MICROS_12_FPS):\n",
    "    clip = []\n",
    "    previous_sprite_name = None\n",
    "    for sequence, sprite_number in enumerate(sprite_numbers):\n",
    "        sprite_name = \"{}[{}]\".format(name, sequence)\n",
    "        frame_name = \"frames[{}]\".format(sprite_name)\n",
    "        frame = Frame(guid_map, guid=names.get(frame_name))\n",
    "        frame.name = frame_name\n",
    "        frame.bitmap = spritesheet[sprite_number]\n",
    "        frame.duration = duration\n",
    "        \n",
    "        if clip:\n",
    "            transition_name = \"transitions[{}, {}]\".format(\n",
    "                previous_sprite_name,\n",
    "                sprite_name)\n",
    "            connect_frames(guid_map, transition_name, clip[-1], frame)\n",
    "        \n",
    "        previous_sprite_name = sprite_name\n",
    "        clip.append(frame)\n",
    "    \n",
    "    if loop:\n",
    "        transition_name = \"transitions[{}, {}]\".format(\n",
    "            previous_sprite_name,\n",
    "            \"{}[0]\".format(name))\n",
    "        connect_frames(guid_map, transition_name, clip[-1], clip[0])\n",
    "    \n",
    "    return clip     "
   ]
  },
  {
   "cell_type": "code",
   "execution_count": 22,
   "metadata": {},
   "outputs": [
    {
     "data": {
      "image/png": "[encoded data removed]",
      "text/plain": [
       "<PIL.Image.Image image mode=RGBA size=8x8 at 0x1046A6320>"
      ]
     },
     "execution_count": 22,
     "metadata": {},
     "output_type": "execute_result"
    }
   ],
   "source": [
    "sit = make_clip(guid_map, \"sit\", [0], loop=True)\n",
    "sit[0].bitmap.image"
   ]
  },
  {
   "cell_type": "code",
   "execution_count": 23,
   "metadata": {},
   "outputs": [],
   "source": [
    "sit_to_stand = make_clip(guid_map, \"sit_to_stand\", [1,2,3,4])"
   ]
  },
  {
   "cell_type": "code",
   "execution_count": 24,
   "metadata": {},
   "outputs": [],
   "source": [
    "stand_waggle = make_clip(guid_map, \"stand_waggle\", [26,4], loop=True)"
   ]
  },
  {
   "cell_type": "code",
   "execution_count": 25,
   "metadata": {},
   "outputs": [
    {
     "data": {
      "text/plain": [
       "\"406ac656142a45c0a1ff3f1716e84fac\": {\n",
       "  \"169a81aefca74e92b45e3fa03c7021df\": {\n",
       "    \"string\": \"transitions[sit_to_stand, stand_waggle]\"\n",
       "  },\n",
       "  \"8ea9b7bc02e748ae9dc2e169590e71e3\": {\n",
       "    \"guid\": \"f6a2db33bca64aa799d3690ced24b187\"\n",
       "  },\n",
       "  \"aba6ac79fd3d409da860a77c90942852\": {\n",
       "    \"guid\": \"8fe06c0750344322bd773f56bdd73b0a\"\n",
       "  },\n",
       "  \"ff7abe687a764f9d80d67a70424c329a\": {\n",
       "    \"guid\": \"e78112cca4b847528b93a8decd55db22\"\n",
       "  }\n",
       "}"
      ]
     },
     "execution_count": 25,
     "metadata": {},
     "output_type": "execute_result"
    }
   ],
   "source": [
    "connect_frames(\n",
    "    guid_map,\n",
    "    \"transitions[sit_to_stand, stand_waggle]\",\n",
    "    sit_to_stand[-1],\n",
    "    stand_waggle[0])"
   ]
  },
  {
   "cell_type": "code",
   "execution_count": 26,
   "metadata": {},
   "outputs": [],
   "source": [
    "stand_to_sit = make_clip(guid_map, \"stand_to_sit\", [57, 58, 59, 60, 61])"
   ]
  },
  {
   "cell_type": "code",
   "execution_count": 27,
   "metadata": {},
   "outputs": [
    {
     "data": {
      "text/plain": [
       "\"63ba4e0ceac74fd6aa351f00d08d20c2\": {\n",
       "  \"169a81aefca74e92b45e3fa03c7021df\": {\n",
       "    \"string\": \"transitions[stand_waggle, stand_to_sit]\"\n",
       "  },\n",
       "  \"8ea9b7bc02e748ae9dc2e169590e71e3\": {\n",
       "    \"guid\": \"0f61052c26164f6dbb9adc9a64570e89\"\n",
       "  },\n",
       "  \"aba6ac79fd3d409da860a77c90942852\": {\n",
       "    \"guid\": \"8fe06c0750344322bd773f56bdd73b0a\"\n",
       "  },\n",
       "  \"ff7abe687a764f9d80d67a70424c329a\": {\n",
       "    \"guid\": \"cade35be593249d68b22a0d7d80db055\"\n",
       "  }\n",
       "}"
      ]
     },
     "execution_count": 27,
     "metadata": {},
     "output_type": "execute_result"
    }
   ],
   "source": [
    "connect_frames(\n",
    "    guid_map,\n",
    "    \"transitions[stand_waggle, stand_to_sit]\",\n",
    "    stand_waggle[-1],\n",
    "    stand_to_sit[0])"
   ]
  },
  {
   "cell_type": "markdown",
   "metadata": {},
   "source": [
    "### Create the root node\n",
    "\n",
    "`gamekitty` should be our root node. It's the only object in our scene right now."
   ]
  },
  {
   "cell_type": "code",
   "execution_count": 28,
   "metadata": {},
   "outputs": [
    {
     "data": {
      "text/plain": [
       "\"01188e000bae49ec8c08891e16d25091\": {\n",
       "  \"169a81aefca74e92b45e3fa03c7021df\": {\n",
       "    \"string\": \"origin\"\n",
       "  },\n",
       "  \"66b25e276cfb4d83a7032baaa4369b6f\": {\n",
       "    \"int64\": \"0\"\n",
       "  },\n",
       "  \"825142afc2934fbcb5126e149ac5ba31\": {\n",
       "    \"int64\": \"0\"\n",
       "  },\n",
       "  \"aba6ac79fd3d409da860a77c90942852\": {\n",
       "    \"guid\": \"bfa8113cb5e5436ebd76ab5418b7efd1\"\n",
       "  }\n",
       "}"
      ]
     },
     "execution_count": 28,
     "metadata": {},
     "output_type": "execute_result"
    }
   ],
   "source": [
    "origin = Coordinate(guid_map, guid=names.get(\"origin\"))\n",
    "origin.name = \"origin\"\n",
    "origin.x = 0\n",
    "origin.y = 0\n",
    "origin"
   ]
  },
  {
   "cell_type": "code",
   "execution_count": 30,
   "metadata": {},
   "outputs": [
    {
     "data": {
      "text/plain": [
       "\"b463421ad4374bda8e088b9602fd8794\": {\n",
       "  \"169a81aefca74e92b45e3fa03c7021df\": {\n",
       "    \"string\": \"gamekitty\"\n",
       "  },\n",
       "  \"2175a23088d347cb9256b7f6c6eae310\": {\n",
       "    \"guid\": \"01188e000bae49ec8c08891e16d25091\"\n",
       "  },\n",
       "  \"4b079607f347492c8250059b5c0b2ef6\": {\n",
       "    \"guid\": \"61bf1365bb8b40cbac34d30f7b8c1ac5\"\n",
       "  },\n",
       "  \"aba6ac79fd3d409da860a77c90942852\": {\n",
       "    \"guid\": \"158aafa594b44474a7da66a8cfa419f0\"\n",
       "  }\n",
       "}"
      ]
     },
     "execution_count": 30,
     "metadata": {},
     "output_type": "execute_result"
    }
   ],
   "source": [
    "sprite = Sprite(guid_map, guid=names.get(\"gamekitty\"))\n",
    "sprite.name = \"gamekitty\"\n",
    "core[\"root\"] = sprite.guid\n",
    "sprite.position = origin\n",
    "sprite.frame = sit[0]\n",
    "sprite"
   ]
  },
  {
   "cell_type": "markdown",
   "metadata": {},
   "source": [
    "### More clips and transitions"
   ]
  },
  {
   "cell_type": "code",
   "execution_count": 31,
   "metadata": {},
   "outputs": [],
   "source": [
    "sit_paw = make_clip(guid_map, \"sit_paw\", [62, 63, 64, 65])"
   ]
  },
  {
   "cell_type": "code",
   "execution_count": 32,
   "metadata": {},
   "outputs": [
    {
     "data": {
      "text/plain": [
       "\"1b42a000d15742a1a49e2e6f3e6193be\": {\n",
       "  \"169a81aefca74e92b45e3fa03c7021df\": {\n",
       "    \"string\": \"transitions[sit, sit_paw]\"\n",
       "  },\n",
       "  \"8ea9b7bc02e748ae9dc2e169590e71e3\": {\n",
       "    \"guid\": \"61bf1365bb8b40cbac34d30f7b8c1ac5\"\n",
       "  },\n",
       "  \"aba6ac79fd3d409da860a77c90942852\": {\n",
       "    \"guid\": \"8fe06c0750344322bd773f56bdd73b0a\"\n",
       "  },\n",
       "  \"ff7abe687a764f9d80d67a70424c329a\": {\n",
       "    \"guid\": \"ef8dafd0bb294811b1d16653e25db192\"\n",
       "  }\n",
       "}"
      ]
     },
     "execution_count": 32,
     "metadata": {},
     "output_type": "execute_result"
    }
   ],
   "source": [
    "connect_frames(\n",
    "    guid_map,\n",
    "    \"transitions[sit_paw, sit]\",\n",
    "    sit_paw[-1],\n",
    "    sit[0])\n",
    "connect_frames(\n",
    "    guid_map,\n",
    "    \"transitions[sit, sit_paw]\",\n",
    "    sit[-1],\n",
    "    sit_paw[0])"
   ]
  },
  {
   "cell_type": "code",
   "execution_count": 33,
   "metadata": {},
   "outputs": [
    {
     "data": {
      "text/plain": [
       "\"a4d39c1cca4742ba8d06cae39a6f1ea2\": {\n",
       "  \"169a81aefca74e92b45e3fa03c7021df\": {\n",
       "    \"string\": \"transitions[sit, sit_to_crouch]\"\n",
       "  },\n",
       "  \"8ea9b7bc02e748ae9dc2e169590e71e3\": {\n",
       "    \"guid\": \"61bf1365bb8b40cbac34d30f7b8c1ac5\"\n",
       "  },\n",
       "  \"aba6ac79fd3d409da860a77c90942852\": {\n",
       "    \"guid\": \"8fe06c0750344322bd773f56bdd73b0a\"\n",
       "  },\n",
       "  \"ff7abe687a764f9d80d67a70424c329a\": {\n",
       "    \"guid\": \"92772921661b432988dfaeb4b7be75ed\"\n",
       "  }\n",
       "}"
      ]
     },
     "execution_count": 33,
     "metadata": {},
     "output_type": "execute_result"
    }
   ],
   "source": [
    "sit_to_crouch = make_clip(guid_map, \"sit_to_crouch\", [69, 70, 71])\n",
    "connect_frames(\n",
    "    guid_map,\n",
    "    \"transitions[sit, sit_to_crouch]\",\n",
    "    sit[-1],\n",
    "    sit_to_crouch[0])"
   ]
  },
  {
   "cell_type": "code",
   "execution_count": 34,
   "metadata": {},
   "outputs": [
    {
     "data": {
      "text/plain": [
       "\"3d62b1f49c7a43209b2693f54e94b791\": {\n",
       "  \"169a81aefca74e92b45e3fa03c7021df\": {\n",
       "    \"string\": \"transitions[crouch, sit_to_crouch]\"\n",
       "  },\n",
       "  \"8ea9b7bc02e748ae9dc2e169590e71e3\": {\n",
       "    \"guid\": \"f0465488f13445b991ec2bbf47f931d8\"\n",
       "  },\n",
       "  \"aba6ac79fd3d409da860a77c90942852\": {\n",
       "    \"guid\": \"8fe06c0750344322bd773f56bdd73b0a\"\n",
       "  },\n",
       "  \"ff7abe687a764f9d80d67a70424c329a\": {\n",
       "    \"guid\": \"92772921661b432988dfaeb4b7be75ed\"\n",
       "  }\n",
       "}"
      ]
     },
     "execution_count": 34,
     "metadata": {},
     "output_type": "execute_result"
    }
   ],
   "source": [
    "crouch = make_clip(guid_map, \"crouch\", [72])\n",
    "connect_frames(\n",
    "    guid_map,\n",
    "    \"transitions[crouch, sit_to_crouch]\",\n",
    "    crouch[-1],\n",
    "    sit_to_crouch[0])"
   ]
  },
  {
   "cell_type": "code",
   "execution_count": 35,
   "metadata": {},
   "outputs": [
    {
     "data": {
      "text/plain": [
       "\"41dc084c788044a083a963d649a58100\": {\n",
       "  \"169a81aefca74e92b45e3fa03c7021df\": {\n",
       "    \"string\": \"transitions[crouch_to_sit, sit]\"\n",
       "  },\n",
       "  \"8ea9b7bc02e748ae9dc2e169590e71e3\": {\n",
       "    \"guid\": \"9fc1ab9be057424b936ecdd10949bca9\"\n",
       "  },\n",
       "  \"aba6ac79fd3d409da860a77c90942852\": {\n",
       "    \"guid\": \"8fe06c0750344322bd773f56bdd73b0a\"\n",
       "  },\n",
       "  \"ff7abe687a764f9d80d67a70424c329a\": {\n",
       "    \"guid\": \"61bf1365bb8b40cbac34d30f7b8c1ac5\"\n",
       "  }\n",
       "}"
      ]
     },
     "execution_count": 35,
     "metadata": {},
     "output_type": "execute_result"
    }
   ],
   "source": [
    "crouch_to_sit = make_clip(guid_map, \"crouch_to_sit\", [75, 76, 77])\n",
    "connect_frames(\n",
    "    guid_map,\n",
    "    \"transitions[crouch_to_sit, sit]\",\n",
    "    crouch_to_sit[-1],\n",
    "    sit[0])"
   ]
  },
  {
   "cell_type": "code",
   "execution_count": 39,
   "metadata": {},
   "outputs": [
    {
     "data": {
      "text/plain": [
       "set()"
      ]
     },
     "execution_count": 39,
     "metadata": {},
     "output_type": "execute_result"
    }
   ],
   "source": [
    "find_absorbing_frames(guid_map)"
   ]
  },
  {
   "cell_type": "code",
   "execution_count": null,
   "metadata": {},
   "outputs": [],
   "source": []
  },
  {
   "cell_type": "code",
   "execution_count": null,
   "metadata": {},
   "outputs": [],
   "source": []
  }
 ],
 "metadata": {
  "kernelspec": {
   "display_name": "Python 3",
   "language": "python",
   "name": "python3"
  },
  "language_info": {
   "codemirror_mode": {
    "name": "ipython",
    "version": 3
   },
   "file_extension": ".py",
   "mimetype": "text/x-python",
   "name": "python",
   "nbconvert_exporter": "python",
   "pygments_lexer": "ipython3",
   "version": "3.6.4"
  }
 },
 "nbformat": 4,
 "nbformat_minor": 2
}
