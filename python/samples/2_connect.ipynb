{
 "cells": [
  {
   "cell_type": "code",
   "execution_count": null,
   "metadata": {},
   "outputs": [],
   "source": [
    "import json\n",
    "import pathlib\n",
    "\n",
    "from pikov import JSONGraph\n",
    "from pikov import sprite"
   ]
  },
  {
   "cell_type": "code",
   "execution_count": null,
   "metadata": {},
   "outputs": [],
   "source": [
    "# Helper for displaying images.\n",
    "\n",
    "# source: http://nbviewer.ipython.org/gist/deeplook/5162445\n",
    "from io import BytesIO\n",
    "\n",
    "from IPython import display\n",
    "from PIL import Image\n",
    "\n",
    "\n",
    "def display_pil_image(im):\n",
    "   \"\"\"Displayhook function for PIL Images, rendered as PNG.\"\"\"\n",
    "\n",
    "   b = BytesIO()\n",
    "   im.save(b, format='png')\n",
    "   data = b.getvalue()\n",
    "\n",
    "   ip_img = display.Image(data=data, format='png', embed=True)\n",
    "   return ip_img._repr_png_()\n",
    "\n",
    "\n",
    "# register display func with PNG formatter:\n",
    "png_formatter = get_ipython().display_formatter.formatters['image/png']\n",
    "dpi = png_formatter.for_type(Image.Image, display_pil_image)\n"
   ]
  },
  {
   "cell_type": "code",
   "execution_count": null,
   "metadata": {},
   "outputs": [],
   "source": [
    "sample_dir = (pathlib.Path(\"..\") / \"..\" / \"samples\").resolve()\n",
    "\n",
    "with open(sample_dir / \"pikov-core.json\") as fp:\n",
    "    core_types = json.load(fp)\n",
    "    #graph = JSONGraph.load(fp)"
   ]
  },
  {
   "cell_type": "code",
   "execution_count": null,
   "metadata": {},
   "outputs": [],
   "source": [
    "sample_path = sample_dir / \"gamekitty.json\"\n",
    "\n",
    "# Merge core types into pikov.json\n",
    "graph = JSONGraph.load(sample_path)\n",
    "for key, item in core_types[\"guidMap\"].items():\n",
    "    graph._guid_map[key] = item"
   ]
  },
  {
   "cell_type": "markdown",
   "metadata": {},
   "source": [
    "## Build names mapping\n",
    "\n",
    "To make it a little easier to check that I'm using the correct guids, construct a mapping from names back to `guid`.\n",
    "\n",
    "Note: this adds a constraint that no two nodes have the same name, which should not be enforced for general semantic graphs."
   ]
  },
  {
   "cell_type": "code",
   "execution_count": 5,
   "metadata": {},
   "outputs": [],
   "source": [
    "names = {}\n",
    "for node in graph:\n",
    "    for edge in node:\n",
    "        if edge.guid == \"169a81aefca74e92b45e3fa03c7021df\":\n",
    "            value = node[edge].value\n",
    "            if value in names:\n",
    "                raise ValueError('name: \"{}\" defined twice'.format(value))\n",
    "            names[value] = node\n",
    "     \n",
    "names[\"ctor\"]"
   ]
  },
  {
   "cell_type": "code",
   "execution_count": 6,
   "metadata": {},
   "outputs": [],
   "source": [
    "def name_to_guid(name):\n",
    "    if name not in names:\n",
    "        return None\n",
    "    node = names[name]\n",
    "    if not hasattr(node, \"guid\"):\n",
    "        return None\n",
    "    return node.guid"
   ]
  },
  {
   "cell_type": "markdown",
   "metadata": {},
   "source": [
    "## Pikov Classes\n",
    "\n",
    "These classes are the core resources used in defining a \"Pikov\" file.\n",
    "\n",
    "Note: ideally these classes could be derived from the graph itself, but I don't (yet) encode type or field information in the `pikov.json` semantic graph."
   ]
  },
  {
   "cell_type": "code",
   "execution_count": 7,
   "metadata": {},
   "outputs": [],
   "source": [
    "from pikov.sprite import Bitmap, Clip, Frame, FrameList, Resource, Transition"
   ]
  },
  {
   "cell_type": "markdown",
   "metadata": {},
   "source": [
    "## Gamekitty\n",
    "\n",
    "Create instances of the Pikov classes to define a concrete Pikov graph, based on my \"gamekitty\" animations.\n",
    "\n",
    "### Load the spritesheet\n",
    "\n",
    "In the previous notebook, we chopped the spritesheet into bitmaps. Find those and save them to an array so that they can be indexed as they were in the original PICO-8 gamekitty doodle."
   ]
  },
  {
   "cell_type": "code",
   "execution_count": 8,
   "metadata": {},
   "outputs": [],
   "source": [
    "resource = Resource(graph, guid=name_to_guid(\"spritesheet\"))\n",
    "\n",
    "spritesheet = []\n",
    "for row in range(16):\n",
    "    for column in range(16):\n",
    "        sprite_number = row * 16 + column\n",
    "        bitmap_name = \"bitmap[{}]\".format(sprite_number)\n",
    "        bitmap = Bitmap(graph, guid=name_to_guid(bitmap_name))\n",
    "        spritesheet.append(bitmap)"
   ]
  },
  {
   "cell_type": "markdown",
   "metadata": {},
   "source": [
    "### Create frames for each \"clip\"\n",
    "\n",
    "Each animation is defined in terms of sprite numbers. Sometimes a clip should loop, but sometimes it's only used as a transition between looping clips."
   ]
  },
  {
   "cell_type": "code",
   "execution_count": 9,
   "metadata": {},
   "outputs": [],
   "source": [
    "def find_nodes(graph, ctor, cls):\n",
    "    nodes = set()\n",
    "    # TODO: With graph formats that have indexes, there should be a faster way.\n",
    "    for node in graph:\n",
    "        if node[names[\"ctor\"]] == ctor:\n",
    "            node = cls(graph, guid=node.guid)\n",
    "            nodes.add(node)\n",
    "    return nodes\n",
    "\n",
    "\n",
    "def find_frames(graph):\n",
    "    return find_nodes(graph, names[\"frame\"], Frame)\n",
    "\n",
    "\n",
    "def find_transitions(graph):\n",
    "    return find_nodes(graph, names[\"transition\"], Transition)\n",
    "\n",
    "\n",
    "def find_absorbing_frames(graph):\n",
    "    transitions = find_transitions(graph)\n",
    "    target_frames = set()\n",
    "    source_frames = set()\n",
    "    for transition in transitions:\n",
    "        target_frames.add(transition.target.guid)\n",
    "        source_frames.add(transition.source.guid)\n",
    "    return target_frames - source_frames  # In but not out. Dead end!"
   ]
  },
  {
   "cell_type": "code",
   "execution_count": 10,
   "metadata": {},
   "outputs": [],
   "source": [
    "MICROS_12_FPS = int(1e6 / 12)  # 12 frames per second\n",
    "MICROS_24_FPS = int(1e6 / 24)\n",
    "\n",
    "\n",
    "def connect_frames(graph, transition_name, source, target):\n",
    "    transition = Transition(graph, guid=name_to_guid(transition_name))\n",
    "    transition.name = transition_name\n",
    "    transition.source = source\n",
    "    transition.target = target\n",
    "    return transition\n"
   ]
  },
  {
   "cell_type": "code",
   "execution_count": 11,
   "metadata": {},
   "outputs": [
    {
     "data": {
      "image/gif": "[encoded data removed]",
      "text/html": [
       "<table><tr><th>Clip</th><th></th></tr><tr><td>preview</td><td><img alt=\"clip preview\" src=\"data:image/gif;base64,R0lGODlhCAAIAIEAAF9XTx0rU4N2nAAAACH5BAAIAAAAIf8LTkVUU0NBUEUyLjADAQAAACwAAAAACAAIAAAIOQAHABgAYIBBgwEABBjAkCGAhwIGSJQIoCKAARgHANi4cYBHACBBDhgJIACAkwEGDBAQQIAAAAACAgA7\" style=\"width: 5em; image-rendering: -moz-crisp-edges; image-rendering: crisp-edges; image-rendering: pixelated; \"></td></tr></table>"
      ],
      "text/plain": [
       "Clip(guid=\"c0904d1ed9f840e49c41bf97ef6c64ab\")"
      ]
     },
     "execution_count": 11,
     "metadata": {},
     "output_type": "execute_result"
    }
   ],
   "source": [
    "sit = Clip(graph, guid=name_to_guid(\"clip[sit]\"))\n",
    "sit"
   ]
  },
  {
   "cell_type": "code",
   "execution_count": 13,
   "metadata": {},
   "outputs": [
    {
     "data": {
      "image/gif": "[encoded data removed]",
      "text/html": [
       "<table><tr><th>Clip</th><th></th></tr><tr><td>preview</td><td><img alt=\"clip preview\" src=\"data:image/gif;base64,R0lGODlhCAAIAIEAAF9XTx0rU4N2nAAAACH5BAAIAAAAIf8LTkVUU0NBUEUyLjADAQAAACwAAAAACAAIAAAIOQAHABgAYIBBgwEABBjAkCGAhwIGSJQIoCKAARgHANi4cYBHACBBDhgJQACAkwEGDBAQIIAAAAACAgAh+QQACAAAACH/C05FVFNDQVBFMi4wAwEAAAAsAwACAAUABgCBX1dPHStTg3acAAAACB4AAQgAMGAAgIMAAgBYCCAAgIcQBwCYKCCAAAADAgIAIfkEAAgAAAAh/wtORVRTQ0FQRTIuMAMBAAAALAAAAAAIAAgAgV9XTx0rU4N2nAAAAAg8AAEMADCgYMEAAAIMWAhgAICHAgYMAABgAICLFwcAGACgo0cAAwIAGDlygEkBAAYEADCg5QABAQQAGBAQACH5BAAIAAAAIf8LTkVUU0NBUEUyLjADAQAAACwBAAAABwAIAIFfV08dK1ODdpwAAAAIOAAHABgwAMCAAQACDBgAAMAAAAAEDBgAYACAixgHANjIcQCAjyAHABgAYEAAAAMEDBAwIICAAQEBADs=\" style=\"width: 5em; image-rendering: -moz-crisp-edges; image-rendering: crisp-edges; image-rendering: pixelated; \"></td></tr></table>"
      ],
      "text/plain": [
       "Clip(guid=\"da495d7dd763481cb396b724308d9ddc\")"
      ]
     },
     "execution_count": 13,
     "metadata": {},
     "output_type": "execute_result"
    }
   ],
   "source": [
    "sit_to_stand = Clip(graph, guid=name_to_guid(\"clip[sit_to_stand]\"))\n",
    "sit_to_stand"
   ]
  },
  {
   "cell_type": "code",
   "execution_count": 15,
   "metadata": {},
   "outputs": [
    {
     "data": {
      "image/gif": "[encoded data removed]",
      "text/html": [
       "<table><tr><th>Clip</th><th></th></tr><tr><td>preview</td><td><img alt=\"clip preview\" src=\"data:image/gif;base64,R0lGODlhCAAIAIEAAF9XTx0rU4N2nAAAACH5BAAIAAAAIf8LTkVUU0NBUEUyLjADAQAAACwAAAAACAAIAAAIPQABDAAwoCCAAQEABBjAEMAAABAFDBgAYMAAABgzDhgAoKPHAQMAiBw5YACAAQAGBAAwYICAAQIGBBAwICAAIfkEAAgAAAAh/wtORVRTQ0FQRTIuMAMBAAAALAUAAAACAAIAgV9XTx0rU4N2nAAAAAgHAAEMAAAgIAA7\" style=\"width: 5em; image-rendering: -moz-crisp-edges; image-rendering: crisp-edges; image-rendering: pixelated; \"></td></tr></table>"
      ],
      "text/plain": [
       "Clip(guid=\"9d0882e0b7f7406e97723469ba25d564\")"
      ]
     },
     "execution_count": 15,
     "metadata": {},
     "output_type": "execute_result"
    }
   ],
   "source": [
    "stand_waggle= Clip(graph, guid=name_to_guid(\"clip[stand_waggle]\"))\n",
    "stand_waggle"
   ]
  },
  {
   "cell_type": "code",
   "execution_count": 16,
   "metadata": {},
   "outputs": [
    {
     "data": {
      "text/html": [
       "<table><tr><th>Transition</th><th></th></tr><tr><td>guid</td><td>406ac656142a45c0a1ff3f1716e84fac</td></tr><tr><td>name</td><td>transitions[sit_to_stand, stand_waggle]</td></tr><tr><td>source.guid</td><td>f6a2db33bca64aa799d3690ced24b187</td></tr><tr><td>source.image</td><td><img alt=\"clip preview\" src=\"data:image/png;base64,iVBORw0KGgoAAAANSUhEUgAAAAgAAAAICAYAAADED76LAAAAZ0lEQVR4nGOID/f/z8DAwACj0dlM+66wMMSH+//fd4WFARnAFDE56fxhYGBgYHDS+cPQXDbnPwMDA8PClRsZYQoZ0Y1EBgtXbmRkwiaBDIhXALN34cqNjMgOZmJgYGBQkfdlQKaR2QD0Rx/wn9C1wQAAAABJRU5ErkJggg==\" style=\"width: 5em; image-rendering: -moz-crisp-edges; image-rendering: crisp-edges; image-rendering: pixelated; \"></td></tr><tr><td>target.guid</td><td>e78112cca4b847528b93a8decd55db22</td></tr><tr><td>target.image</td><td><img alt=\"clip preview\" src=\"data:image/png;base64,iVBORw0KGgoAAAANSUhEUgAAAAgAAAAICAYAAADED76LAAAAX0lEQVR4nGOID/f/z8DAwACjYQDGZ9p3hYUhPtz//74rLAzYAJOTzh8GBgYGBiedPwzNZXP+oytgxGY8DCxcuZGRCau5yFYQrWDhyo2MMBrZwUwMDAwMKvK+DMg0MhsA85Yb8GJtyLkAAAAASUVORK5CYII=\" style=\"width: 5em; image-rendering: -moz-crisp-edges; image-rendering: crisp-edges; image-rendering: pixelated; \"></td></tr></table>"
      ],
      "text/plain": [
       "Transition(id='406ac656142a45c0a1ff3f1716e84fac', source=Frame(guid=\"f6a2db33bca64aa799d3690ced24b187\"), targetFrame(guid=\"e78112cca4b847528b93a8decd55db22\"))"
      ]
     },
     "execution_count": 16,
     "metadata": {},
     "output_type": "execute_result"
    }
   ],
   "source": [
    "connect_frames(\n",
    "    graph,\n",
    "    \"transitions[sit_to_stand, stand_waggle]\",\n",
    "    sit_to_stand[-1],\n",
    "    stand_waggle[0])"
   ]
  },
  {
   "cell_type": "code",
   "execution_count": 17,
   "metadata": {},
   "outputs": [
    {
     "data": {
      "image/gif": "[encoded data removed]",
      "text/html": [
       "<table><tr><th>Clip</th><th></th></tr><tr><td>preview</td><td><img alt=\"clip preview\" src=\"data:image/gif;base64,R0lGODlhCAAIAIEAAF9XTx0rU4N2nAAAACH5BAAIAAAAIf8LTkVUU0NBUEUyLjADAQAAACwAAAAACAAIAAAIPAABDAAwoCCAAQEABBjAEIBDhwIABBgAYACAixcDABgAoKNHAAMCABg5coBJAQAGBAAwoOUAAQMCCBgQEAAh+QQACAAAACH/C05FVFNDQVBFMi4wAwEAAAAsAAAAAAcACACBX1dPHStTg3acAAAACDkABwAYAGDAAAADAgAIMGAAgAEAIgoAMKAigIsXBwwAwJHjgAEAQoYcMAAAgAEBAAwYIEDAgAACAgIAIfkEAAgAAAAh/wtORVRTQ0FQRTIuMAMBAAAALAMABQABAAMAgV9XTx0rU4N2nAAAAAgHAAMAEDAgIAAh+QQACAAAACH/C05FVFNDQVBFMi4wAwEAAAAsAwAAAAUACACBX1dPHStTg3acAAAACCoAAQwYOCDAgIMDAAgAMCAAgIcAAgCYCCAAgIsAAgwAEAAAgAECAggYEBAAIfkEAAgAAAAh/wtORVRTQ0FQRTIuMAMBAAAALAUAAgADAAYAgV9XTx0rU4N2nAAAAAgWAAcIBDBgAAAAAwAACAAAQAABAAAEBAA7\" style=\"width: 5em; image-rendering: -moz-crisp-edges; image-rendering: crisp-edges; image-rendering: pixelated; \"></td></tr></table>"
      ],
      "text/plain": [
       "Clip(guid=\"9e164314fa90430cbbc6206b17299b55\")"
      ]
     },
     "execution_count": 17,
     "metadata": {},
     "output_type": "execute_result"
    }
   ],
   "source": [
    "stand_to_sit = Clip(graph, guid=name_to_guid(\"clip[stand_to_sit]\"))\n",
    "stand_to_sit"
   ]
  },
  {
   "cell_type": "code",
   "execution_count": 18,
   "metadata": {},
   "outputs": [
    {
     "data": {
      "text/html": [
       "<table><tr><th>Transition</th><th></th></tr><tr><td>guid</td><td>b8449c8ee4a84e5bab83d05388bb1a01</td></tr><tr><td>name</td><td>transitions[stand_to_sit, sit]</td></tr><tr><td>source.guid</td><td>7f00ace6eca1457f9eb90cb657708a7c</td></tr><tr><td>source.image</td><td><img alt=\"clip preview\" src=\"data:image/png;base64,iVBORw0KGgoAAAANSUhEUgAAAAgAAAAICAYAAADED76LAAAAY0lEQVR4nGNgYGBgiA/3/49MIwMmBgYGhn1XWBjiw/3/77vCgi4PUeCk84cBRjeXzUExhRHGQDd+4cqNjHATsAGYBpwKGBgYGGS1g/+jKIAZi+FIBgYGBhV5XzgNYzvp/GEAAG7JG2J6oHfZAAAAAElFTkSuQmCC\" style=\"width: 5em; image-rendering: -moz-crisp-edges; image-rendering: crisp-edges; image-rendering: pixelated; \"></td></tr><tr><td>target.guid</td><td>61bf1365bb8b40cbac34d30f7b8c1ac5</td></tr><tr><td>target.image</td><td><img alt=\"clip preview\" src=\"data:image/png;base64,iVBORw0KGgoAAAANSUhEUgAAAAgAAAAICAYAAADED76LAAAAXElEQVR4nGNgYGBgiA/3/49MIwMmBgYGhn1XWBjiw/3/77vCgi4PUeCk84cBRjeXzUExhRHGQDd+4cqNjHATsAGYBpwKUNwAA+iOlNUO/g9XoCLvC6dhbCedPwwAJgMa/Dg5AkIAAAAASUVORK5CYII=\" style=\"width: 5em; image-rendering: -moz-crisp-edges; image-rendering: crisp-edges; image-rendering: pixelated; \"></td></tr></table>"
      ],
      "text/plain": [
       "Transition(id='b8449c8ee4a84e5bab83d05388bb1a01', source=Frame(guid=\"7f00ace6eca1457f9eb90cb657708a7c\"), targetFrame(guid=\"61bf1365bb8b40cbac34d30f7b8c1ac5\"))"
      ]
     },
     "execution_count": 18,
     "metadata": {},
     "output_type": "execute_result"
    }
   ],
   "source": [
    "connect_frames(\n",
    "    graph,\n",
    "    \"transitions[stand_waggle, stand_to_sit]\",\n",
    "    stand_waggle[-1],\n",
    "    stand_to_sit[0])\n",
    "connect_frames(\n",
    "    graph,\n",
    "    \"transitions[stand_to_sit, sit]\",\n",
    "    stand_to_sit[-1],\n",
    "    sit[0])"
   ]
  },
  {
   "cell_type": "code",
   "execution_count": 21,
   "metadata": {},
   "outputs": [
    {
     "data": {
      "image/gif": "[encoded data removed]",
      "text/html": [
       "<table><tr><th>Clip</th><th></th></tr><tr><td>preview</td><td><img alt=\"clip preview\" src=\"data:image/gif;base64,R0lGODlhCAAIAIEAAF9XTx0rU4N2nAAAACH5BAAIAAAAIf8LTkVUU0NBUEUyLjADAQAAACwAAAAACAAIAAAIOgAHABgAYIBBgwEABBjAkCGAhwIGSJQIoCKAARgHANi4ccAAACBDBhggYEAAACgDDBgQIIAAAQAABAQAIfkEAAgAAAAh/wtORVRTQ0FQRTIuMAMBAAAALAAABAACAAMAgV9XTx0rU4N2nAAAAAgJAAcAEABgwICAACH5BAAIAAAAIf8LTkVUU0NBUEUyLjADAQAAACwAAAQAAwADAIFfV08dK1ODdpwAAAAIDQAHDAAwAACAAQMEBAQAIfkEAAgAAAAh/wtORVRTQ0FQRTIuMAMBAAAALAEABQADAAIAgV9XTx0rU4N2nAAAAAgJAAcAADBggICAADs=\" style=\"width: 5em; image-rendering: -moz-crisp-edges; image-rendering: crisp-edges; image-rendering: pixelated; \"></td></tr></table>"
      ],
      "text/plain": [
       "Clip(guid=\"1e1a32736db4448a8ec4e316cd6f47b4\")"
      ]
     },
     "execution_count": 21,
     "metadata": {},
     "output_type": "execute_result"
    }
   ],
   "source": [
    "sit_paw = Clip(graph, guid=name_to_guid(\"clip[sit_paw]\"))\n",
    "sit_paw"
   ]
  },
  {
   "cell_type": "code",
   "execution_count": 22,
   "metadata": {},
   "outputs": [
    {
     "data": {
      "text/html": [
       "<table><tr><th>Transition</th><th></th></tr><tr><td>guid</td><td>1b42a000d15742a1a49e2e6f3e6193be</td></tr><tr><td>name</td><td>transitions[sit, sit_paw]</td></tr><tr><td>source.guid</td><td>61bf1365bb8b40cbac34d30f7b8c1ac5</td></tr><tr><td>source.image</td><td><img alt=\"clip preview\" src=\"data:image/png;base64,iVBORw0KGgoAAAANSUhEUgAAAAgAAAAICAYAAADED76LAAAAXElEQVR4nGNgYGBgiA/3/49MIwMmBgYGhn1XWBjiw/3/77vCgi4PUeCk84cBRjeXzUExhRHGQDd+4cqNjHATsAGYBpwKUNwAA+iOlNUO/g9XoCLvC6dhbCedPwwAJgMa/Dg5AkIAAAAASUVORK5CYII=\" style=\"width: 5em; image-rendering: -moz-crisp-edges; image-rendering: crisp-edges; image-rendering: pixelated; \"></td></tr><tr><td>target.guid</td><td>ef8dafd0bb294811b1d16653e25db192</td></tr><tr><td>target.image</td><td><img alt=\"clip preview\" src=\"data:image/png;base64,iVBORw0KGgoAAAANSUhEUgAAAAgAAAAICAYAAADED76LAAAAdElEQVR4nGNgYGBgiA/3/49MIwMmBgYGhn1XWBjiw/3/77vCgi4PUeCk84cBRjeXzUExhRHGQDd+4cqNjHATsAGYBkZcjoO5jYmBgYFBRd6XYeHKjYzYHAl3g6x28H8GBgaGNG9PBgYGBoY7DzczMDAwMAAAynIhcFzYUD4AAAAASUVORK5CYII=\" style=\"width: 5em; image-rendering: -moz-crisp-edges; image-rendering: crisp-edges; image-rendering: pixelated; \"></td></tr></table>"
      ],
      "text/plain": [
       "Transition(id='1b42a000d15742a1a49e2e6f3e6193be', source=Frame(guid=\"61bf1365bb8b40cbac34d30f7b8c1ac5\"), targetFrame(guid=\"ef8dafd0bb294811b1d16653e25db192\"))"
      ]
     },
     "execution_count": 22,
     "metadata": {},
     "output_type": "execute_result"
    }
   ],
   "source": [
    "connect_frames(\n",
    "    graph,\n",
    "    \"transitions[sit_paw, sit]\",\n",
    "    sit_paw[-1],\n",
    "    sit[0])\n",
    "connect_frames(\n",
    "    graph,\n",
    "    \"transitions[sit, sit_paw]\",\n",
    "    sit[-1],\n",
    "    sit_paw[0])"
   ]
  },
  {
   "cell_type": "code",
   "execution_count": 23,
   "metadata": {},
   "outputs": [
    {
     "data": {
      "text/html": [
       "<table><tr><th>Transition</th><th></th></tr><tr><td>guid</td><td>a4d39c1cca4742ba8d06cae39a6f1ea2</td></tr><tr><td>name</td><td>transitions[sit, sit_to_crouch]</td></tr><tr><td>source.guid</td><td>61bf1365bb8b40cbac34d30f7b8c1ac5</td></tr><tr><td>source.image</td><td><img alt=\"clip preview\" src=\"data:image/png;base64,iVBORw0KGgoAAAANSUhEUgAAAAgAAAAICAYAAADED76LAAAAXElEQVR4nGNgYGBgiA/3/49MIwMmBgYGhn1XWBjiw/3/77vCgi4PUeCk84cBRjeXzUExhRHGQDd+4cqNjHATsAGYBpwKUNwAA+iOlNUO/g9XoCLvC6dhbCedPwwAJgMa/Dg5AkIAAAAASUVORK5CYII=\" style=\"width: 5em; image-rendering: -moz-crisp-edges; image-rendering: crisp-edges; image-rendering: pixelated; \"></td></tr><tr><td>target.guid</td><td>92772921661b432988dfaeb4b7be75ed</td></tr><tr><td>target.image</td><td><img alt=\"clip preview\" src=\"data:image/png;base64,iVBORw0KGgoAAAANSUhEUgAAAAgAAAAICAYAAADED76LAAAAY0lEQVR4nGNgYGBgiA/3/49MIwMmBgYGhn1XWBjiw/3/77vCgi4PUeCk84cBRjeXzUExhRHGQDd+4cqNjHATsAGYBpwKUNwAA+iOlNUO/g9XoCLvy5Dm7cmw7woLg4q8L9zRAEjrHPwUhutBAAAAAElFTkSuQmCC\" style=\"width: 5em; image-rendering: -moz-crisp-edges; image-rendering: crisp-edges; image-rendering: pixelated; \"></td></tr></table>"
      ],
      "text/plain": [
       "Transition(id='a4d39c1cca4742ba8d06cae39a6f1ea2', source=Frame(guid=\"61bf1365bb8b40cbac34d30f7b8c1ac5\"), targetFrame(guid=\"92772921661b432988dfaeb4b7be75ed\"))"
      ]
     },
     "execution_count": 23,
     "metadata": {},
     "output_type": "execute_result"
    }
   ],
   "source": [
    "sit_to_crouch = Clip(graph, guid=name_to_guid(\"clip[sit_to_crouch]\"))\n",
    "connect_frames(\n",
    "    graph,\n",
    "    \"transitions[sit, sit_to_crouch]\",\n",
    "    sit[-1],\n",
    "    sit_to_crouch[0])"
   ]
  },
  {
   "cell_type": "code",
   "execution_count": 24,
   "metadata": {},
   "outputs": [
    {
     "data": {
      "text/html": [
       "<table><tr><th>Transition</th><th></th></tr><tr><td>guid</td><td>40305fe387364850bd5aa34faf0de5f1</td></tr><tr><td>name</td><td>transitions[sit_to_crouch, crouch]</td></tr><tr><td>source.guid</td><td>4567bc3641bb410483b5478f32cf480a</td></tr><tr><td>source.image</td><td><img alt=\"clip preview\" src=\"data:image/png;base64,iVBORw0KGgoAAAANSUhEUgAAAAgAAAAICAYAAADED76LAAAAa0lEQVR4nGNgIATiw/3/I9PogGnfFRaG+HD///uusGA1gMlJ5w8DAwMDg5POH4bmsjkYpjDiMn7fFRaGx1fXMmI3F2riPobg/0z4POCk84eBiYGBgUFF3pdBRd6XYd8VFoZ9V1gYVOR94YoAzf0ebhITEXwAAAAASUVORK5CYII=\" style=\"width: 5em; image-rendering: -moz-crisp-edges; image-rendering: crisp-edges; image-rendering: pixelated; \"></td></tr><tr><td>target.guid</td><td>f0465488f13445b991ec2bbf47f931d8</td></tr><tr><td>target.image</td><td><img alt=\"clip preview\" src=\"data:image/png;base64,iVBORw0KGgoAAAANSUhEUgAAAAgAAAAICAYAAADED76LAAAAVUlEQVR4nGNgoBjEh/v/R6bRAdO+KywM8eH+//ddYcFqACOyThV5X4Y7DzfDJReu3MjIiM94BgYGBiZCbmRqLpvzf98VFgYVeV8GBgYGBmQ2AwMDAwDD+BklVYPU7gAAAABJRU5ErkJggg==\" style=\"width: 5em; image-rendering: -moz-crisp-edges; image-rendering: crisp-edges; image-rendering: pixelated; \"></td></tr></table>"
      ],
      "text/plain": [
       "Transition(id='40305fe387364850bd5aa34faf0de5f1', source=Frame(guid=\"4567bc3641bb410483b5478f32cf480a\"), targetFrame(guid=\"f0465488f13445b991ec2bbf47f931d8\"))"
      ]
     },
     "execution_count": 24,
     "metadata": {},
     "output_type": "execute_result"
    }
   ],
   "source": [
    "crouch = Clip(graph, guid=name_to_guid(\"clip[crouch]\"))\n",
    "connect_frames(\n",
    "    graph,\n",
    "    \"transitions[sit_to_crouch, crouch]\",\n",
    "    sit_to_crouch[-1],\n",
    "    crouch[0])"
   ]
  },
  {
   "cell_type": "code",
   "execution_count": 26,
   "metadata": {},
   "outputs": [
    {
     "data": {
      "text/html": [
       "<table><tr><th>Transition</th><th></th></tr><tr><td>guid</td><td>41dc084c788044a083a963d649a58100</td></tr><tr><td>name</td><td>transitions[crouch_to_sit, sit]</td></tr><tr><td>source.guid</td><td>9fc1ab9be057424b936ecdd10949bca9</td></tr><tr><td>source.image</td><td><img alt=\"clip preview\" src=\"data:image/png;base64,iVBORw0KGgoAAAANSUhEUgAAAAgAAAAICAYAAADED76LAAAAY0lEQVR4nGNgYGBgiA/3/49MIwMmBgYGhn1XWBjiw/3/77vCgi4PUeCk84cBRjeXzUExhRHGQDd+4cqNjHATsAGYBpwKUNwAA+iOlNUO/g9XoCLvy5Dm7cmw7woLg4q8L9zRAEjrHPwUhutBAAAAAElFTkSuQmCC\" style=\"width: 5em; image-rendering: -moz-crisp-edges; image-rendering: crisp-edges; image-rendering: pixelated; \"></td></tr><tr><td>target.guid</td><td>61bf1365bb8b40cbac34d30f7b8c1ac5</td></tr><tr><td>target.image</td><td><img alt=\"clip preview\" src=\"data:image/png;base64,iVBORw0KGgoAAAANSUhEUgAAAAgAAAAICAYAAADED76LAAAAXElEQVR4nGNgYGBgiA/3/49MIwMmBgYGhn1XWBjiw/3/77vCgi4PUeCk84cBRjeXzUExhRHGQDd+4cqNjHATsAGYBpwKUNwAA+iOlNUO/g9XoCLvC6dhbCedPwwAJgMa/Dg5AkIAAAAASUVORK5CYII=\" style=\"width: 5em; image-rendering: -moz-crisp-edges; image-rendering: crisp-edges; image-rendering: pixelated; \"></td></tr></table>"
      ],
      "text/plain": [
       "Transition(id='41dc084c788044a083a963d649a58100', source=Frame(guid=\"9fc1ab9be057424b936ecdd10949bca9\"), targetFrame(guid=\"61bf1365bb8b40cbac34d30f7b8c1ac5\"))"
      ]
     },
     "execution_count": 26,
     "metadata": {},
     "output_type": "execute_result"
    }
   ],
   "source": [
    "crouch_to_sit = Clip(graph, guid=name_to_guid(\"clip[crouch_to_sit]\"))\n",
    "connect_frames(\n",
    "    graph,\n",
    "    \"transitions[crouch_to_sit, sit]\",\n",
    "    crouch[-1],\n",
    "    crouch_to_sit[0])\n",
    "connect_frames(\n",
    "    graph,\n",
    "    \"transitions[crouch_to_sit, sit]\",\n",
    "    crouch_to_sit[-1],\n",
    "    sit[0])"
   ]
  },
  {
   "cell_type": "code",
   "execution_count": 27,
   "metadata": {},
   "outputs": [
    {
     "data": {
      "text/plain": [
       "set()"
      ]
     },
     "execution_count": 27,
     "metadata": {},
     "output_type": "execute_result"
    }
   ],
   "source": [
    "find_absorbing_frames(graph)"
   ]
  },
  {
   "cell_type": "code",
   "execution_count": 30,
   "metadata": {},
   "outputs": [],
   "source": [
    "graph.save()"
   ]
  },
  {
   "cell_type": "code",
   "execution_count": null,
   "metadata": {},
   "outputs": [],
   "source": []
  }
 ],
 "metadata": {
  "kernelspec": {
   "display_name": "Python 3",
   "language": "python",
   "name": "python3"
  },
  "language_info": {
   "codemirror_mode": {
    "name": "ipython",
    "version": 3
   },
   "file_extension": ".py",
   "mimetype": "text/x-python",
   "name": "python",
   "nbconvert_exporter": "python",
   "pygments_lexer": "ipython3",
   "version": "3.6.4"
  }
 },
 "nbformat": 4,
 "nbformat_minor": 2
}
