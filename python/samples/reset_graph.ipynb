{
 "cells": [
  {
   "cell_type": "code",
   "execution_count": null,
   "metadata": {},
   "outputs": [],
   "source": [
    "import pathlib\n",
    "import json\n",
    "\n",
    "from pikov import JSONGraph"
   ]
  },
  {
   "cell_type": "code",
   "execution_count": null,
   "metadata": {},
   "outputs": [],
   "source": [
    "sample_dir = (pathlib.Path(\"..\") / \"..\" / \"samples\").resolve()\n",
    "\n",
    "with open(sample_dir / \"pikov-core.json\") as fp:\n",
    "    core_types = json.load(fp)\n",
    "    #graph = JSONGraph.load(fp)\n",
    "\n",
    "sample_path = sample_dir / \"gamekitty.json\"\n",
    "\n",
    "# Merge core types into pikov.json\n",
    "graph = JSONGraph.load(sample_path)\n",
    "for key, item in core_types[\"guidMap\"].items():\n",
    "    graph._guid_map[key] = item"
   ]
  },
  {
   "cell_type": "code",
   "execution_count": null,
   "metadata": {},
   "outputs": [],
   "source": [
    "# Find every node that doesn't have a name.\n",
    "def find_all_nameless(graph):\n",
    "    nameless = []\n",
    "    for node in graph:\n",
    "        is_nameless = True\n",
    "        for edge in node:\n",
    "            if edge.guid == \"169a81aefca74e92b45e3fa03c7021df\":\n",
    "                is_nameless = False\n",
    "        if is_nameless:\n",
    "            nameless.append(node.guid)\n",
    "    return nameless\n",
    "\n",
    "nameless = find_all_nameless(graph)\n",
    "len(nameless)"
   ]
  },
  {
   "cell_type": "code",
   "execution_count": null,
   "metadata": {},
   "outputs": [],
   "source": [
    "# Delete every node that doesn't have a name.\n",
    "for guid in nameless:\n",
    "    graph.delete_node(guid)"
   ]
  },
  {
   "cell_type": "code",
   "execution_count": null,
   "metadata": {},
   "outputs": [],
   "source": [
    "graph.save()"
   ]
  },
  {
   "cell_type": "code",
   "execution_count": null,
   "metadata": {},
   "outputs": [],
   "source": []
  }
 ],
 "metadata": {
  "kernelspec": {
   "display_name": "Python 3",
   "language": "python",
   "name": "python3"
  },
  "language_info": {
   "codemirror_mode": {
    "name": "ipython",
    "version": 3
   },
   "file_extension": ".py",
   "mimetype": "text/x-python",
   "name": "python",
   "nbconvert_exporter": "python",
   "pygments_lexer": "ipython3",
   "version": "3.6.4"
  }
 },
 "nbformat": 4,
 "nbformat_minor": 2
}
