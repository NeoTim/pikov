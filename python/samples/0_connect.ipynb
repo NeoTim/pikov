{
 "cells": [
  {
   "cell_type": "code",
   "execution_count": 1,
   "metadata": {},
   "outputs": [],
   "source": [
    "import base64\n",
    "import collections\n",
    "import functools\n",
    "import io\n",
    "import json\n",
    "import logging\n",
    "import pathlib\n",
    "import typing\n",
    "import uuid\n",
    "\n",
    "from PIL import Image\n",
    "from PIL import ImageChops\n",
    "\n",
    "from pikov import GuidNode, StringNode, Int64Node, JSONGraph\n",
    "from pikov.pikov import SemanticGraphNode\n",
    "from pikov.properties import make_guid_property, StringProperty, Int64Property"
   ]
  },
  {
   "cell_type": "code",
   "execution_count": 2,
   "metadata": {},
   "outputs": [],
   "source": [
    "# Helper for displaying images.\n",
    "\n",
    "# source: http://nbviewer.ipython.org/gist/deeplook/5162445\n",
    "from io import BytesIO\n",
    "\n",
    "from IPython import display\n",
    "from PIL import Image\n",
    "\n",
    "\n",
    "def display_pil_image(im):\n",
    "   \"\"\"Displayhook function for PIL Images, rendered as PNG.\"\"\"\n",
    "\n",
    "   b = BytesIO()\n",
    "   im.save(b, format='png')\n",
    "   data = b.getvalue()\n",
    "\n",
    "   ip_img = display.Image(data=data, format='png', embed=True)\n",
    "   return ip_img._repr_png_()\n",
    "\n",
    "\n",
    "# register display func with PNG formatter:\n",
    "png_formatter = get_ipython().display_formatter.formatters['image/png']\n",
    "dpi = png_formatter.for_type(Image.Image, display_pil_image)\n",
    "\n",
    "\n",
    "PIXEL_ART_CSS = (\n",
    "    'image-rendering: -moz-crisp-edges; '\n",
    "    'image-rendering: crisp-edges; '\n",
    "    'image-rendering: pixelated; '\n",
    ")\n",
    "\n",
    "\n",
    "# https://stackoverflow.com/a/6204954/101923\n",
    "def equal_images(im1, im2):\n",
    "    return ImageChops.difference(im1, im2).getbbox() is None\n"
   ]
  },
  {
   "cell_type": "code",
   "execution_count": 3,
   "metadata": {},
   "outputs": [],
   "source": [
    "sample_dir = (pathlib.Path(\"..\") / \"..\" / \"samples\").resolve()\n",
    "\n",
    "with open(sample_dir / \"pikov-core.json\") as fp:\n",
    "    core_types = json.load(fp)\n",
    "    #graph = JSONGraph.load(fp)"
   ]
  },
  {
   "cell_type": "code",
   "execution_count": 4,
   "metadata": {},
   "outputs": [],
   "source": [
    "sample_path = sample_dir / \"gamekitty.json\"\n",
    "\n",
    "# Merge core types into pikov.json\n",
    "graph = JSONGraph.load(sample_path)\n",
    "for key, item in core_types[\"guidMap\"].items():\n",
    "    graph._guid_map[key] = item"
   ]
  },
  {
   "cell_type": "markdown",
   "metadata": {},
   "source": [
    "## Build names mapping\n",
    "\n",
    "To make it a little easier to check that I'm using the correct guids, construct a mapping from names back to `guid`.\n",
    "\n",
    "Note: this adds a constraint that no two nodes have the same name, which should not be enforced for general semantic graphs."
   ]
  },
  {
   "cell_type": "code",
   "execution_count": 5,
   "metadata": {},
   "outputs": [
    {
     "data": {
      "text/plain": [
       "GuidNode(guid=\"aba6ac79fd3d409da860a77c90942852\")"
      ]
     },
     "execution_count": 5,
     "metadata": {},
     "output_type": "execute_result"
    }
   ],
   "source": [
    "names = {}\n",
    "for node in graph:\n",
    "    for edge in node:\n",
    "        if edge.guid == \"169a81aefca74e92b45e3fa03c7021df\":\n",
    "            value = node[edge].value\n",
    "            if value in names:\n",
    "                raise ValueError('name: \"{}\" defined twice'.format(value))\n",
    "            names[value] = node\n",
    "     \n",
    "names[\"ctor\"]"
   ]
  },
  {
   "cell_type": "code",
   "execution_count": 6,
   "metadata": {},
   "outputs": [],
   "source": [
    "def name_to_guid(name):\n",
    "    if name not in names:\n",
    "        return None\n",
    "    node = names[name]\n",
    "    if not hasattr(node, \"guid\"):\n",
    "        return None\n",
    "    return node.guid"
   ]
  },
  {
   "cell_type": "markdown",
   "metadata": {},
   "source": [
    "## Pikov Classes\n",
    "\n",
    "These classes are the core resources used in defining a \"Pikov\" file.\n",
    "\n",
    "Note: ideally these classes could be derived from the graph itself, but I don't (yet) encode type or field information in the `pikov.json` semantic graph."
   ]
  },
  {
   "cell_type": "code",
   "execution_count": 7,
   "metadata": {},
   "outputs": [],
   "source": [
    "MICROS_12_FPS = int(1e6 / 12)  # 12 frames per second\n",
    "MICROS_24_FPS = int(1e6 / 24)"
   ]
  },
  {
   "cell_type": "code",
   "execution_count": 8,
   "metadata": {},
   "outputs": [],
   "source": [
    "class Resource(SemanticGraphNode):\n",
    "    def __init__(self, graph, guid=None):\n",
    "        super().__init__(names[\"resource\"], graph, guid=guid)\n",
    "        self._image = None\n",
    "\n",
    "    relative_path = StringProperty(names[\"resource.relative_path\"])\n",
    "    \n",
    "    @property\n",
    "    def image(self):\n",
    "        if self._image is None:\n",
    "            self._image = Image.open(self._graph.filepath.parent / self.relative_path)\n",
    "        return self._image\n",
    "\n",
    "\n",
    "ResourceProperty = make_guid_property(Resource)"
   ]
  },
  {
   "cell_type": "code",
   "execution_count": 9,
   "metadata": {},
   "outputs": [],
   "source": [
    "class Point(SemanticGraphNode):\n",
    "    def __init__(self, guid_map, guid=None):\n",
    "        super().__init__(names[\"point\"], guid_map, guid=guid)\n",
    "    \n",
    "    x = Int64Property(names[\"point.x\"])\n",
    "    y = Int64Property(names[\"point.y\"])\n",
    "    \n",
    "    def __repr__(self):\n",
    "        return \"Point(guid='{}', x={}, y={})\".format(\n",
    "            self.guid,\n",
    "            repr(self.x),\n",
    "            repr(self.y),\n",
    "        )\n",
    "\n",
    "\n",
    "PointProperty = make_guid_property(Point)"
   ]
  },
  {
   "cell_type": "code",
   "execution_count": 10,
   "metadata": {},
   "outputs": [],
   "source": [
    "class Vector(SemanticGraphNode):\n",
    "    def __init__(self, guid_map, guid=None):\n",
    "        super().__init__(names[\"vector\"], guid_map, guid=guid)\n",
    "    \n",
    "    x = Int64Property(names[\"vector.x\"])\n",
    "    y = Int64Property(names[\"vector.y\"])\n",
    "\n",
    "\n",
    "VectorProperty = make_guid_property(Vector)"
   ]
  },
  {
   "cell_type": "code",
   "execution_count": 11,
   "metadata": {},
   "outputs": [],
   "source": [
    "class Rectangle(SemanticGraphNode):\n",
    "    def __init__(self, guid_map, guid=None):\n",
    "        super().__init__(names[\"rectangle\"], guid_map, guid=guid)\n",
    "    \n",
    "    anchor = PointProperty(names[\"rectangle.anchor\"])\n",
    "    width = Int64Property(names[\"rectangle.width\"])\n",
    "    height = Int64Property(names[\"rectangle.height\"])\n",
    "    \n",
    "    def __repr__(self):\n",
    "        return \"Rectangle(guid='{}', anchor={}, width={}, height={})\".format(\n",
    "            self.guid,\n",
    "            repr(self.anchor),\n",
    "            repr(self.width),\n",
    "            repr(self.height),\n",
    "        )\n",
    "\n",
    "\n",
    "RectangleProperty = make_guid_property(Rectangle)"
   ]
  },
  {
   "cell_type": "code",
   "execution_count": 12,
   "metadata": {},
   "outputs": [],
   "source": [
    "class Bitmap(SemanticGraphNode):\n",
    "    def __init__(self, guid_map, guid=None):\n",
    "        super().__init__(names[\"bitmap\"], guid_map, guid=guid)\n",
    "        self._image = None\n",
    "    \n",
    "    resource = ResourceProperty(names[\"bitmap.resource\"])\n",
    "    crop = RectangleProperty(names[\"bitmap.crop\"])\n",
    "        \n",
    "    @property\n",
    "    def image(self):\n",
    "        if self._image is None:\n",
    "            left = self.crop.anchor.x\n",
    "            top = self.crop.anchor.y\n",
    "            right = left + self.crop.width\n",
    "            bottom = top + self.crop.height\n",
    "            box = (left, top, right, bottom)\n",
    "            self._image = self.resource.image.crop(\n",
    "                box\n",
    "            )\n",
    "        return self._image\n",
    "\n",
    "    def _to_data_url(self):\n",
    "        image = self.image\n",
    "        if not image:\n",
    "            return None\n",
    "        \n",
    "        buffer = io.BytesIO()\n",
    "        image.save(buffer, format=\"PNG\")\n",
    "        contents_base64 = base64.b64encode(buffer.getvalue()).decode(\"utf-8\")\n",
    "        return f\"data:image/png;base64,{contents_base64}\"\n",
    "    \n",
    "    \n",
    "BitmapProperty = make_guid_property(Bitmap)"
   ]
  },
  {
   "cell_type": "code",
   "execution_count": 13,
   "metadata": {},
   "outputs": [],
   "source": [
    "class Frame(SemanticGraphNode):\n",
    "    def __init__(self, guid_map, guid=None):\n",
    "        super().__init__(names[\"frame\"], guid_map, guid=guid)\n",
    "    \n",
    "    duration_microseconds = Int64Property(names[\"frame.duration_microseconds\"])\n",
    "    bitmap = BitmapProperty(names[\"frame.bitmap\"])\n",
    "\n",
    "    def _to_img(self):\n",
    "        image_url = self.bitmap._to_data_url()\n",
    "        if not image_url:\n",
    "            return None\n",
    "\n",
    "        return (\n",
    "            f'<img alt=\"clip preview\" '\n",
    "            f'src=\"{image_url}\" '\n",
    "            f'style=\"width: 5em; {PIXEL_ART_CSS}\">'\n",
    "        )\n",
    "\n",
    "\n",
    "FrameProperty = make_guid_property(Frame)"
   ]
  },
  {
   "cell_type": "code",
   "execution_count": 14,
   "metadata": {},
   "outputs": [],
   "source": [
    "class FrameList(GuidNode):\n",
    "    def __init__(self, graph, guid=None):\n",
    "        super().__init__(graph, guid=guid)\n",
    "        \n",
    "        graph.set_value(\n",
    "            self,\n",
    "            names[\"ctor\"],\n",
    "            GuidNode(graph, guid=names[\"EmptyList\"].guid))\n",
    "        \n",
    "        # Cache list so we can index by integer.\n",
    "        #self._nodes = [self]\n",
    "\n",
    "    head = FrameProperty(names[\"NonemptyList.head\"])\n",
    "    \n",
    "    @property\n",
    "    def tail(self):\n",
    "        node = self._graph.get_value(self, names[\"NonemptyList.tail\"])\n",
    "        if node is None:\n",
    "            return None\n",
    "        return FrameList(self._graph, node.guid)\n",
    "    \n",
    "    def _set_tail(self, value):\n",
    "        self._graph.set_value(\n",
    "            self,\n",
    "            names[\"NonemptyList.tail\"],\n",
    "            value)\n",
    "    \n",
    "    def append(self, value, guid=None):\n",
    "        end_node = list(self._nodes())[-1]\n",
    "        \n",
    "        self._graph.set_value(\n",
    "            end_node,\n",
    "            names[\"ctor\"],\n",
    "            GuidNode(graph, guid=names[\"NonemptyList\"].guid))\n",
    "        end_node.head = value\n",
    "\n",
    "        # New end node.\n",
    "        new_end_node = FrameList(self._graph, guid=guid)\n",
    "        end_node._set_tail(new_end_node)\n",
    "        return new_end_node\n",
    "    \n",
    "    def __bool__(self):\n",
    "        return self.tail is not None\n",
    "    \n",
    "    __nonzero__ = __bool__\n",
    "    \n",
    "    def __getitem__(self, key):\n",
    "        if isinstance(key, int):\n",
    "            frames = [frame for frame in self]\n",
    "            return frames[key]\n",
    "        return super().__getitem__(key)\n",
    "    \n",
    "    def _nodes(self):\n",
    "        current_node = self\n",
    "        while current_node:\n",
    "            yield current_node\n",
    "        yield current_node\n",
    "    \n",
    "    def __iter__(self):\n",
    "        current_node = self\n",
    "        while current_node:\n",
    "            yield current_node.head\n",
    "            current_node = current_node.tail\n",
    "\n",
    "            \n",
    "FrameListProperty = make_guid_property(FrameList)"
   ]
  },
  {
   "cell_type": "code",
   "execution_count": 15,
   "metadata": {},
   "outputs": [],
   "source": [
    "class Transition(SemanticGraphNode):\n",
    "    def __init__(self, guid_map, guid=None):\n",
    "        super().__init__(names[\"transition\"], guid_map, guid=guid)\n",
    "    \n",
    "    source = FrameProperty(names[\"transition.source\"])\n",
    "    target = FrameProperty(names[\"transition.target\"])\n",
    "\n",
    "    def _to_html(self) -> str:\n",
    "        source_img = self.source._to_img()\n",
    "        target_img = self.target._to_img()\n",
    "        return (\n",
    "            '<table>'\n",
    "            '<tr><th>Transition</th><th></th></tr>'\n",
    "            f'<tr><td>guid</td><td>{self.guid}</td></tr>'\n",
    "            f'<tr><td>name</td><td>{self.name}</td></tr>'\n",
    "            f'<tr><td>source.guid</td><td>{self.source.guid}</td></tr>'\n",
    "            f'<tr><td>source.image</td><td>{source_img}</td></tr>'\n",
    "            f'<tr><td>target.guid</td><td>{self.target.guid}</td></tr>'\n",
    "            f'<tr><td>target.image</td><td>{target_img}</td></tr>'\n",
    "            '</table>'\n",
    "        )\n",
    "\n",
    "    def __repr__(self) -> str:\n",
    "        return (\n",
    "            'Transition('\n",
    "            f'id={repr(self.guid)}, '\n",
    "            f'source={repr(self.source)}, '\n",
    "            f'target{repr(self.target)})'\n",
    "        )\n",
    "\n",
    "    def _repr_mimebundle_(self, include=None, exclude=None, **kwargs):\n",
    "        data = {}\n",
    "        should_include = functools.partial(\n",
    "            _should_include, include=include, exclude=exclude)\n",
    "\n",
    "        if should_include('text/html'):\n",
    "            data['text/html'] = self._to_html()\n",
    "\n",
    "        return data\n",
    "    \n",
    "\n",
    "TransitionProperty = make_guid_property(Transition)"
   ]
  },
  {
   "cell_type": "code",
   "execution_count": 16,
   "metadata": {},
   "outputs": [],
   "source": [
    "class Sprite(SemanticGraphNode):\n",
    "    def __init__(self, guid_map, guid=None):\n",
    "        super().__init__(names[\"sprite\"], guid_map, guid=guid)\n",
    "    \n",
    "    frame = FrameProperty(names[\"sprite.frame\"])\n",
    "    position = PointProperty(names[\"sprite.position\"])\n",
    "\n",
    "    \n",
    "SpriteProperty = make_guid_property(Sprite)"
   ]
  },
  {
   "cell_type": "code",
   "execution_count": 17,
   "metadata": {},
   "outputs": [],
   "source": [
    "def _should_include(mime, include=None, exclude=None):\n",
    "    if not mime:\n",
    "        return False\n",
    "    included = not include or mime in include\n",
    "    not_excluded = not exclude or mime not in exclude\n",
    "    return included and not_excluded\n",
    "\n",
    "\n",
    "class Clip(SemanticGraphNode):\n",
    "    def __init__(self, guid_map, guid=None):\n",
    "        super().__init__(names[\"Clip\"], guid_map, guid=guid)\n",
    "    \n",
    "    frames = FrameListProperty(names[\"Clip.frames\"])\n",
    "    \n",
    "    def save_gif(self, fp):\n",
    "        \"\"\"Save this clip as a GIF to file pointer ``fp``.\"\"\"\n",
    "        if not self.frames:\n",
    "            raise NotFound('No frames to write to GIF.')\n",
    "\n",
    "        imgs = []\n",
    "        durations = []\n",
    "        previous_image = None\n",
    "        for frame in self.frames:\n",
    "            duration_microseconds = frame.duration_microseconds or MICROS_12_FPS\n",
    "            duration = duration_microseconds / 1000  # Micros to millis\n",
    "\n",
    "            # Increase the duration if the image is the same as the previous.\n",
    "            # The GIF renderer crashes if it gets two duplicate frames.\n",
    "            current_image = frame.bitmap.image\n",
    "            if previous_image and equal_images(previous_image, current_image):\n",
    "                durations[-1] = durations[-1] + duration\n",
    "                #print(\"got duplicate image\")\n",
    "                continue\n",
    "            #if previous_image == frame.image.key:\n",
    "            #    durations[-1] = durations[-1] + duration\n",
    "            #    continue\n",
    "            #previous_image = frame.image.key\n",
    "\n",
    "            # New image, add it to the list.\n",
    "            previous_image = current_image\n",
    "            imgs.append(current_image)\n",
    "            durations.append(duration)\n",
    "            \n",
    "        #print(\"got {} imgs\".format(len(imgs)))\n",
    "        imgs[0].save(\n",
    "            fp, format='gif', save_all=(len(imgs) > 1), append_images=imgs[1:],\n",
    "            duration=durations if len(durations) > 1 else durations[0],\n",
    "            # Always loop since this the GIF is used to preview the clip.\n",
    "            loop=0)\n",
    "    \n",
    "    def _to_gif(self) -> typing.Optional[bytes]:\n",
    "        \"\"\"Write a sequence of frames to a GIF (requires Pillow).\n",
    "\n",
    "        Returns:\n",
    "            Optional[bytes]:\n",
    "                Contents of a GIF rendering of the clip or ``None`` if the clip\n",
    "                contains no image frames.\n",
    "        \"\"\"\n",
    "        if not self.frames:\n",
    "            return None\n",
    "\n",
    "        output = io.BytesIO()\n",
    "        self.save_gif(output)\n",
    "        return output.getvalue()\n",
    "\n",
    "    def _to_img(self):\n",
    "        gif_contents = self._to_gif()\n",
    "        if not gif_contents:\n",
    "            return None\n",
    "\n",
    "        contents_base64 = base64.b64encode(gif_contents).decode('utf-8')\n",
    "        return (\n",
    "            f'<img alt=\"clip preview\" '\n",
    "            f'src=\"data:image/gif;base64,{contents_base64}\" '\n",
    "            f'style=\"width: 5em; {PIXEL_ART_CSS}\">'\n",
    "        )\n",
    "\n",
    "    def _to_html(self):\n",
    "        #frames_repr = ', '.join((repr(frame) for frame in self.frames))\n",
    "        return (\n",
    "            '<table>'\n",
    "            f'<tr><th>Clip</th><th></th></tr>'\n",
    "            #f'<tr><td>frames</td><td>{frames_repr}</td></tr>'\n",
    "            f'<tr><td>preview</td><td>{self._to_img()}</td></tr>'\n",
    "            '</table>'\n",
    "        )\n",
    "\n",
    "        \n",
    "    def __getitem__(self, key):\n",
    "        if isinstance(key, int):\n",
    "            return self.frames[key]\n",
    "        return super().__getitem__(key)\n",
    "    \n",
    "    #def __repr__(self):\n",
    "    #    return f\"Clip(frames={repr(self.frames)}')\"\n",
    "\n",
    "    def _repr_mimebundle_(self, include=None, exclude=None, **kwargs):\n",
    "        data = {}\n",
    "        should_include = functools.partial(\n",
    "            _should_include, include=include, exclude=exclude)\n",
    "\n",
    "        # Clip can be represented by just a GIF.\n",
    "        if should_include('image/gif'):\n",
    "            gif_contents = self._to_gif()\n",
    "            if gif_contents:\n",
    "                data['image/gif'] = gif_contents\n",
    "\n",
    "        if should_include('text/html'):\n",
    "            data['text/html'] = self._to_html()\n",
    "\n",
    "        return data"
   ]
  },
  {
   "cell_type": "markdown",
   "metadata": {},
   "source": [
    "## Gamekitty\n",
    "\n",
    "Create instances of the Pikov classes to define a concrete Pikov graph, based on my \"gamekitty\" animations."
   ]
  },
  {
   "cell_type": "code",
   "execution_count": 18,
   "metadata": {},
   "outputs": [
    {
     "data": {
      "text/plain": [
       "Resource(guid=\"710af736fb3945e28b07e0ac3a8e53d6\")"
      ]
     },
     "execution_count": 18,
     "metadata": {},
     "output_type": "execute_result"
    }
   ],
   "source": [
    "resource = Resource(graph, guid=name_to_guid(\"spritesheet\"))\n",
    "resource.name = \"spritesheet\"\n",
    "resource.relative_path = \"./gamekitty.png\"\n",
    "resource"
   ]
  },
  {
   "cell_type": "code",
   "execution_count": 19,
   "metadata": {},
   "outputs": [
    {
     "data": {
      "image/png": "[encoded data removed]",
      "text/plain": [
       "<PIL.PngImagePlugin.PngImageFile image mode=RGBA size=128x128 at 0x111FC0080>"
      ]
     },
     "execution_count": 19,
     "metadata": {},
     "output_type": "execute_result"
    }
   ],
   "source": [
    "resource.image"
   ]
  },
  {
   "cell_type": "markdown",
   "metadata": {},
   "source": [
    "### Chop image into 8x8 sprites\n",
    "\n",
    "By creating an array of 8x8 images, we make it easier to map from PICO-8 sprite number (from my original gamekitty cart) to a Bitmap."
   ]
  },
  {
   "cell_type": "code",
   "execution_count": 20,
   "metadata": {},
   "outputs": [],
   "source": [
    "spritesheet = []\n",
    "for row in range(16):\n",
    "    for column in range(16):\n",
    "        sprite_number = row * 16 + column\n",
    "        \n",
    "        crop_name = \"crop[{}]\".format(sprite_number)\n",
    "        crop = Rectangle(graph, guid=name_to_guid(crop_name))\n",
    "        crop.name = crop_name\n",
    "        \n",
    "        anchor_name = \"anchor[{}]\".format(sprite_number)\n",
    "        anchor = Point(graph, guid=name_to_guid(anchor_name))\n",
    "        anchor.name = anchor_name\n",
    "        anchor.x = column * 8\n",
    "        anchor.y = row * 8\n",
    "\n",
    "        crop.anchor = anchor\n",
    "        crop.width = 8\n",
    "        crop.height = 8\n",
    "        \n",
    "        bitmap_name = \"bitmap[{}]\".format(sprite_number)\n",
    "        bitmap = Bitmap(graph, guid=name_to_guid(bitmap_name))\n",
    "        bitmap.name = bitmap_name\n",
    "        bitmap.resource = resource\n",
    "        bitmap.crop = crop\n",
    "        \n",
    "        spritesheet.append(bitmap)"
   ]
  },
  {
   "cell_type": "code",
   "execution_count": 21,
   "metadata": {},
   "outputs": [
    {
     "data": {
      "image/png": "[encoded data removed]",
      "text/plain": [
       "<PIL.Image.Image image mode=RGBA size=8x8 at 0x11204EEB8>"
      ]
     },
     "execution_count": 21,
     "metadata": {},
     "output_type": "execute_result"
    }
   ],
   "source": [
    "list(graph.get_labels(spritesheet[4]))\n",
    "spritesheet[1].image"
   ]
  },
  {
   "cell_type": "markdown",
   "metadata": {},
   "source": [
    "### Create frames for each \"clip\"\n",
    "\n",
    "Each animation is defined in terms of sprite numbers. Sometimes a clip should loop, but sometimes it's only used as a transition between looping clips."
   ]
  },
  {
   "cell_type": "code",
   "execution_count": 22,
   "metadata": {},
   "outputs": [],
   "source": [
    "def find_nodes(graph, ctor, cls):\n",
    "    nodes = set()\n",
    "    # TODO: With graph formats that have indexes, there should be a faster way.\n",
    "    for node in graph:\n",
    "        if node[names[\"ctor\"]] == ctor:\n",
    "            node = cls(graph, guid=node.guid)\n",
    "            nodes.add(node)\n",
    "    return nodes\n",
    "\n",
    "\n",
    "def find_frames(graph):\n",
    "    return find_nodes(graph, names[\"frame\"], Frame)\n",
    "\n",
    "\n",
    "def find_transitions(graph):\n",
    "    return find_nodes(graph, names[\"transition\"], Transition)\n",
    "\n",
    "\n",
    "def find_absorbing_frames(graph):\n",
    "    transitions = find_transitions(graph)\n",
    "    target_frames = set()\n",
    "    source_frames = set()\n",
    "    for transition in transitions:\n",
    "        target_frames.add(transition.target.guid)\n",
    "        source_frames.add(transition.source.guid)\n",
    "    return target_frames - source_frames  # In but not out. Dead end!"
   ]
  },
  {
   "cell_type": "code",
   "execution_count": 23,
   "metadata": {},
   "outputs": [],
   "source": [
    "def connect_frames(graph, transition_name, source, target):\n",
    "    transition = Transition(graph, guid=name_to_guid(transition_name))\n",
    "    transition.name = transition_name\n",
    "    transition.source = source\n",
    "    transition.target = target\n",
    "    return transition\n",
    "\n",
    "\n",
    "def make_clip(graph, name, sprite_numbers, loop=False, duration=MICROS_12_FPS, guid=None):\n",
    "    clip = Clip(graph, guid=guid)\n",
    "    if clip.frames:\n",
    "        logging.warning(\"Clip already has frames\")\n",
    "        return clip\n",
    "\n",
    "    frame_list_name = \"framelist[{}, 0]\".format(name)\n",
    "    end_of_clip = FrameList(graph, guid=name_to_guid(frame_list_name))\n",
    "    clip.frames = end_of_clip\n",
    "    previous_sprite_name = None\n",
    "    previous_frame = None\n",
    "    for sequence, sprite_number in enumerate(sprite_numbers):\n",
    "        sprite_name = \"{}[{}]\".format(name, sequence)\n",
    "        frame_name = \"frames[{}]\".format(sprite_name)\n",
    "        frame = Frame(graph, guid=name_to_guid(frame_name))\n",
    "        frame.name = frame_name\n",
    "        frame.bitmap = spritesheet[sprite_number]\n",
    "        frame.duration_microsections = duration\n",
    "        \n",
    "        if previous_sprite_name:\n",
    "            transition_name = \"transitions[{}, {}]\".format(\n",
    "                previous_sprite_name,\n",
    "                sprite_name)\n",
    "            connect_frames(graph, transition_name, previous_frame, frame)\n",
    "        \n",
    "        previous_sprite_name = sprite_name\n",
    "        previous_frame = frame\n",
    "        frame_list_name = \"framelist[{}, {}]\".format(name, sequence + 1)\n",
    "        end_of_clip = end_of_clip.append(frame, guid=name_to_guid(frame_list_name))\n",
    "    \n",
    "    if loop:\n",
    "        transition_name = \"transitions[{}, {}]\".format(\n",
    "            previous_sprite_name,\n",
    "            \"{}[0]\".format(name))\n",
    "        connect_frames(graph, transition_name, previous_frame, clip.frames.head)\n",
    "    \n",
    "    return clip     "
   ]
  },
  {
   "cell_type": "code",
   "execution_count": 24,
   "metadata": {},
   "outputs": [
    {
     "data": {
      "image/gif": "[encoded data removed]",
      "text/html": [
       "<table><tr><th>Clip</th><th></th></tr><tr><td>preview</td><td><img alt=\"clip preview\" src=\"data:image/gif;base64,R0lGODlhCAAIAIEAAF9XTx0rU4N2nAAAACH5BAAIAAAAIf8LTkVUU0NBUEUyLjADAQAAACwAAAAACAAIAAAIOQAHABgAYIBBgwEABBjAkCGAhwIGSJQIoCKAARgHANi4cYBHACBBDhgJIACAkwEGDBAQQIAAAAACAgA7\" style=\"width: 5em; image-rendering: -moz-crisp-edges; image-rendering: crisp-edges; image-rendering: pixelated; \"></td></tr></table>"
      ],
      "text/plain": [
       "Clip(guid=\"3b17a5b679e840e1be13c0fa9f06793b\")"
      ]
     },
     "execution_count": 24,
     "metadata": {},
     "output_type": "execute_result"
    }
   ],
   "source": [
    "sit = make_clip(graph, \"sit\", [0], loop=True)\n",
    "#sit[0].bitmap.image\n",
    "sit"
   ]
  },
  {
   "cell_type": "code",
   "execution_count": 25,
   "metadata": {},
   "outputs": [
    {
     "data": {
      "image/gif": "[encoded data removed]",
      "text/html": [
       "<table><tr><th>Clip</th><th></th></tr><tr><td>preview</td><td><img alt=\"clip preview\" src=\"data:image/gif;base64,R0lGODlhCAAIAIEAAF9XTx0rU4N2nAAAACH5BAAIAAAAIf8LTkVUU0NBUEUyLjADAQAAACwAAAAACAAIAAAIOQAHABgAYIBBgwEABBjAkCGAhwIGSJQIoCKAARgHANi4cYBHACBBDhgJQACAkwEGDBAQIIAAAAACAgAh+QQACAAAACH/C05FVFNDQVBFMi4wAwEAAAAsAwACAAUABgCBX1dPHStTg3acAAAACB4AAQgAMGAAgIMAAgBYCCAAgIcQBwCYKCCAAAADAgIAIfkEAAgAAAAh/wtORVRTQ0FQRTIuMAMBAAAALAAAAAAIAAgAgV9XTx0rU4N2nAAAAAg8AAEMADCgYMEAAAIMWAhgAICHAgYMAABgAICLFwcAGACgo0cAAwIAGDlygEkBAAYEADCg5QABAQQAGBAQACH5BAAIAAAAIf8LTkVUU0NBUEUyLjADAQAAACwBAAAABwAIAIFfV08dK1ODdpwAAAAIOAAHABgwAMCAAQACDBgAAMAAAAAEDBgAYACAixgHANjIcQCAjyAHABgAYEAAAAMEDBAwIICAAQEBADs=\" style=\"width: 5em; image-rendering: -moz-crisp-edges; image-rendering: crisp-edges; image-rendering: pixelated; \"></td></tr></table>"
      ],
      "text/plain": [
       "Clip(guid=\"a1ca6a2ded2148838f867190b90a9925\")"
      ]
     },
     "execution_count": 25,
     "metadata": {},
     "output_type": "execute_result"
    }
   ],
   "source": [
    "sit_to_stand = make_clip(graph, \"sit_to_stand\", [1,2,3,4])\n",
    "sit_to_stand"
   ]
  },
  {
   "cell_type": "code",
   "execution_count": 26,
   "metadata": {},
   "outputs": [
    {
     "data": {
      "image/gif": "[encoded data removed]",
      "text/html": [
       "<table><tr><th>Clip</th><th></th></tr><tr><td>preview</td><td><img alt=\"clip preview\" src=\"data:image/gif;base64,R0lGODlhCAAIAIEAAF9XTx0rU4N2nAAAACH5BAAIAAAAIf8LTkVUU0NBUEUyLjADAQAAACwAAAAACAAIAAAIPQABDAAwoCCAAQEABBjAEMAAABAFDBgAYMAAABgzDhgAoKPHAQMAiBw5YACAAQAGBAAwYICAAQIGBBAwICAAIfkEAAgAAAAh/wtORVRTQ0FQRTIuMAMBAAAALAUAAAACAAIAgV9XTx0rU4N2nAAAAAgHAAEMAAAgIAA7\" style=\"width: 5em; image-rendering: -moz-crisp-edges; image-rendering: crisp-edges; image-rendering: pixelated; \"></td></tr></table>"
      ],
      "text/plain": [
       "Clip(guid=\"b4d4fa0e412d49e8a28ed43b83533224\")"
      ]
     },
     "execution_count": 26,
     "metadata": {},
     "output_type": "execute_result"
    }
   ],
   "source": [
    "stand_waggle = make_clip(graph, \"stand_waggle\", [26,4], loop=True)\n",
    "stand_waggle"
   ]
  },
  {
   "cell_type": "code",
   "execution_count": 27,
   "metadata": {},
   "outputs": [
    {
     "data": {
      "text/html": [
       "<table><tr><th>Transition</th><th></th></tr><tr><td>guid</td><td>406ac656142a45c0a1ff3f1716e84fac</td></tr><tr><td>name</td><td>transitions[sit_to_stand, stand_waggle]</td></tr><tr><td>source.guid</td><td>f6a2db33bca64aa799d3690ced24b187</td></tr><tr><td>source.image</td><td><img alt=\"clip preview\" src=\"data:image/png;base64,iVBORw0KGgoAAAANSUhEUgAAAAgAAAAICAYAAADED76LAAAAZ0lEQVR4nGOID/f/z8DAwACj0dlM+66wMMSH+//fd4WFARnAFDE56fxhYGBgYHDS+cPQXDbnPwMDA8PClRsZYQoZ0Y1EBgtXbmRkwiaBDIhXALN34cqNjMgOZmJgYGBQkfdlQKaR2QD0Rx/wn9C1wQAAAABJRU5ErkJggg==\" style=\"width: 5em; image-rendering: -moz-crisp-edges; image-rendering: crisp-edges; image-rendering: pixelated; \"></td></tr><tr><td>target.guid</td><td>e78112cca4b847528b93a8decd55db22</td></tr><tr><td>target.image</td><td><img alt=\"clip preview\" src=\"data:image/png;base64,iVBORw0KGgoAAAANSUhEUgAAAAgAAAAICAYAAADED76LAAAAX0lEQVR4nGOID/f/z8DAwACjYQDGZ9p3hYUhPtz//74rLAzYAJOTzh8GBgYGBiedPwzNZXP+oytgxGY8DCxcuZGRCau5yFYQrWDhyo2MMBrZwUwMDAwMKvK+DMg0MhsA85Yb8GJtyLkAAAAASUVORK5CYII=\" style=\"width: 5em; image-rendering: -moz-crisp-edges; image-rendering: crisp-edges; image-rendering: pixelated; \"></td></tr></table>"
      ],
      "text/plain": [
       "Transition(id='406ac656142a45c0a1ff3f1716e84fac', source=Frame(guid=\"f6a2db33bca64aa799d3690ced24b187\"), targetFrame(guid=\"e78112cca4b847528b93a8decd55db22\"))"
      ]
     },
     "execution_count": 27,
     "metadata": {},
     "output_type": "execute_result"
    }
   ],
   "source": [
    "connect_frames(\n",
    "    graph,\n",
    "    \"transitions[sit_to_stand, stand_waggle]\",\n",
    "    sit_to_stand[-1],\n",
    "    stand_waggle[0])"
   ]
  },
  {
   "cell_type": "code",
   "execution_count": 28,
   "metadata": {},
   "outputs": [
    {
     "data": {
      "image/gif": "[encoded data removed]",
      "text/html": [
       "<table><tr><th>Clip</th><th></th></tr><tr><td>preview</td><td><img alt=\"clip preview\" src=\"data:image/gif;base64,R0lGODlhCAAIAIEAAF9XTx0rU4N2nAAAACH5BAAIAAAAIf8LTkVUU0NBUEUyLjADAQAAACwAAAAACAAIAAAIPAABDAAwoCCAAQEABBjAEIBDhwIABBgAYACAixcDABgAoKNHAAMCABg5coBJAQAGBAAwoOUAAQMCCBgQEAAh+QQACAAAACH/C05FVFNDQVBFMi4wAwEAAAAsAAAAAAcACACBX1dPHStTg3acAAAACDkABwAYAGDAAAADAgAIMGAAgAEAIgoAMKAigIsXBwwAwJHjgAEAQoYcMAAAgAEBAAwYIEDAgAACAgIAIfkEAAgAAAAh/wtORVRTQ0FQRTIuMAMBAAAALAMABQABAAMAgV9XTx0rU4N2nAAAAAgHAAMAEDAgIAAh+QQACAAAACH/C05FVFNDQVBFMi4wAwEAAAAsAwAAAAUACACBX1dPHStTg3acAAAACCoAAQwYOCDAgIMDAAgAMCAAgIcAAgCYCCAAgIsAAgwAEAAAgAECAggYEBAAIfkEAAgAAAAh/wtORVRTQ0FQRTIuMAMBAAAALAUAAgADAAYAgV9XTx0rU4N2nAAAAAgWAAcIBDBgAAAAAwAACAAAQAABAAAEBAA7\" style=\"width: 5em; image-rendering: -moz-crisp-edges; image-rendering: crisp-edges; image-rendering: pixelated; \"></td></tr></table>"
      ],
      "text/plain": [
       "Clip(guid=\"80ab8ae7c6bf465d8567278d6984e5b8\")"
      ]
     },
     "execution_count": 28,
     "metadata": {},
     "output_type": "execute_result"
    }
   ],
   "source": [
    "stand_to_sit = make_clip(graph, \"stand_to_sit\", [57, 58, 59, 60, 61])\n",
    "stand_to_sit"
   ]
  },
  {
   "cell_type": "code",
   "execution_count": 29,
   "metadata": {},
   "outputs": [
    {
     "data": {
      "text/html": [
       "<table><tr><th>Transition</th><th></th></tr><tr><td>guid</td><td>b8449c8ee4a84e5bab83d05388bb1a01</td></tr><tr><td>name</td><td>transitions[stand_to_sit, sit]</td></tr><tr><td>source.guid</td><td>7f00ace6eca1457f9eb90cb657708a7c</td></tr><tr><td>source.image</td><td><img alt=\"clip preview\" src=\"data:image/png;base64,iVBORw0KGgoAAAANSUhEUgAAAAgAAAAICAYAAADED76LAAAAY0lEQVR4nGNgYGBgiA/3/49MIwMmBgYGhn1XWBjiw/3/77vCgi4PUeCk84cBRjeXzUExhRHGQDd+4cqNjHATsAGYBpwKGBgYGGS1g/+jKIAZi+FIBgYGBhV5XzgNYzvp/GEAAG7JG2J6oHfZAAAAAElFTkSuQmCC\" style=\"width: 5em; image-rendering: -moz-crisp-edges; image-rendering: crisp-edges; image-rendering: pixelated; \"></td></tr><tr><td>target.guid</td><td>61bf1365bb8b40cbac34d30f7b8c1ac5</td></tr><tr><td>target.image</td><td><img alt=\"clip preview\" src=\"data:image/png;base64,iVBORw0KGgoAAAANSUhEUgAAAAgAAAAICAYAAADED76LAAAAXElEQVR4nGNgYGBgiA/3/49MIwMmBgYGhn1XWBjiw/3/77vCgi4PUeCk84cBRjeXzUExhRHGQDd+4cqNjHATsAGYBpwKUNwAA+iOlNUO/g9XoCLvC6dhbCedPwwAJgMa/Dg5AkIAAAAASUVORK5CYII=\" style=\"width: 5em; image-rendering: -moz-crisp-edges; image-rendering: crisp-edges; image-rendering: pixelated; \"></td></tr></table>"
      ],
      "text/plain": [
       "Transition(id='b8449c8ee4a84e5bab83d05388bb1a01', source=Frame(guid=\"7f00ace6eca1457f9eb90cb657708a7c\"), targetFrame(guid=\"61bf1365bb8b40cbac34d30f7b8c1ac5\"))"
      ]
     },
     "execution_count": 29,
     "metadata": {},
     "output_type": "execute_result"
    }
   ],
   "source": [
    "connect_frames(\n",
    "    graph,\n",
    "    \"transitions[stand_waggle, stand_to_sit]\",\n",
    "    stand_waggle[-1],\n",
    "    stand_to_sit[0])\n",
    "connect_frames(\n",
    "    graph,\n",
    "    \"transitions[stand_to_sit, sit]\",\n",
    "    stand_to_sit[-1],\n",
    "    sit[0])"
   ]
  },
  {
   "cell_type": "markdown",
   "metadata": {},
   "source": [
    "### Create the root node\n",
    "\n",
    "`gamekitty` should be our root node. It's the only object in our scene right now."
   ]
  },
  {
   "cell_type": "code",
   "execution_count": 30,
   "metadata": {},
   "outputs": [
    {
     "data": {
      "text/plain": [
       "Point(guid='01188e000bae49ec8c08891e16d25091', x=0, y=0)"
      ]
     },
     "execution_count": 30,
     "metadata": {},
     "output_type": "execute_result"
    }
   ],
   "source": [
    "origin = Point(graph, guid=name_to_guid(\"origin\"))\n",
    "origin.name = \"origin\"\n",
    "origin.x = 0\n",
    "origin.y = 0\n",
    "origin"
   ]
  },
  {
   "cell_type": "code",
   "execution_count": 31,
   "metadata": {},
   "outputs": [
    {
     "data": {
      "text/plain": [
       "Sprite(guid=\"b463421ad4374bda8e088b9602fd8794\")"
      ]
     },
     "execution_count": 31,
     "metadata": {},
     "output_type": "execute_result"
    }
   ],
   "source": [
    "sprite = Sprite(graph, guid=name_to_guid(\"gamekitty\"))\n",
    "graph._properties[\"root\"] = sprite.guid\n",
    "sprite.name = \"gamekitty\"\n",
    "sprite.position = origin\n",
    "sprite.frame = sit[0]\n",
    "sprite"
   ]
  },
  {
   "cell_type": "markdown",
   "metadata": {},
   "source": [
    "### More clips and transitions"
   ]
  },
  {
   "cell_type": "code",
   "execution_count": 32,
   "metadata": {},
   "outputs": [],
   "source": [
    "sit_paw = make_clip(graph, \"sit_paw\", [62, 63, 64, 65])"
   ]
  },
  {
   "cell_type": "code",
   "execution_count": 33,
   "metadata": {},
   "outputs": [
    {
     "data": {
      "text/html": [
       "<table><tr><th>Transition</th><th></th></tr><tr><td>guid</td><td>1b42a000d15742a1a49e2e6f3e6193be</td></tr><tr><td>name</td><td>transitions[sit, sit_paw]</td></tr><tr><td>source.guid</td><td>61bf1365bb8b40cbac34d30f7b8c1ac5</td></tr><tr><td>source.image</td><td><img alt=\"clip preview\" src=\"data:image/png;base64,iVBORw0KGgoAAAANSUhEUgAAAAgAAAAICAYAAADED76LAAAAXElEQVR4nGNgYGBgiA/3/49MIwMmBgYGhn1XWBjiw/3/77vCgi4PUeCk84cBRjeXzUExhRHGQDd+4cqNjHATsAGYBpwKUNwAA+iOlNUO/g9XoCLvC6dhbCedPwwAJgMa/Dg5AkIAAAAASUVORK5CYII=\" style=\"width: 5em; image-rendering: -moz-crisp-edges; image-rendering: crisp-edges; image-rendering: pixelated; \"></td></tr><tr><td>target.guid</td><td>ef8dafd0bb294811b1d16653e25db192</td></tr><tr><td>target.image</td><td><img alt=\"clip preview\" src=\"data:image/png;base64,iVBORw0KGgoAAAANSUhEUgAAAAgAAAAICAYAAADED76LAAAAdElEQVR4nGNgYGBgiA/3/49MIwMmBgYGhn1XWBjiw/3/77vCgi4PUeCk84cBRjeXzUExhRHGQDd+4cqNjHATsAGYBkZcjoO5jYmBgYFBRd6XYeHKjYzYHAl3g6x28H8GBgaGNG9PBgYGBoY7DzczMDAwMAAAynIhcFzYUD4AAAAASUVORK5CYII=\" style=\"width: 5em; image-rendering: -moz-crisp-edges; image-rendering: crisp-edges; image-rendering: pixelated; \"></td></tr></table>"
      ],
      "text/plain": [
       "Transition(id='1b42a000d15742a1a49e2e6f3e6193be', source=Frame(guid=\"61bf1365bb8b40cbac34d30f7b8c1ac5\"), targetFrame(guid=\"ef8dafd0bb294811b1d16653e25db192\"))"
      ]
     },
     "execution_count": 33,
     "metadata": {},
     "output_type": "execute_result"
    }
   ],
   "source": [
    "connect_frames(\n",
    "    graph,\n",
    "    \"transitions[sit_paw, sit]\",\n",
    "    sit_paw[-1],\n",
    "    sit[0])\n",
    "connect_frames(\n",
    "    graph,\n",
    "    \"transitions[sit, sit_paw]\",\n",
    "    sit[-1],\n",
    "    sit_paw[0])"
   ]
  },
  {
   "cell_type": "code",
   "execution_count": 34,
   "metadata": {},
   "outputs": [
    {
     "data": {
      "text/html": [
       "<table><tr><th>Transition</th><th></th></tr><tr><td>guid</td><td>a4d39c1cca4742ba8d06cae39a6f1ea2</td></tr><tr><td>name</td><td>transitions[sit, sit_to_crouch]</td></tr><tr><td>source.guid</td><td>61bf1365bb8b40cbac34d30f7b8c1ac5</td></tr><tr><td>source.image</td><td><img alt=\"clip preview\" src=\"data:image/png;base64,iVBORw0KGgoAAAANSUhEUgAAAAgAAAAICAYAAADED76LAAAAXElEQVR4nGNgYGBgiA/3/49MIwMmBgYGhn1XWBjiw/3/77vCgi4PUeCk84cBRjeXzUExhRHGQDd+4cqNjHATsAGYBpwKUNwAA+iOlNUO/g9XoCLvC6dhbCedPwwAJgMa/Dg5AkIAAAAASUVORK5CYII=\" style=\"width: 5em; image-rendering: -moz-crisp-edges; image-rendering: crisp-edges; image-rendering: pixelated; \"></td></tr><tr><td>target.guid</td><td>92772921661b432988dfaeb4b7be75ed</td></tr><tr><td>target.image</td><td><img alt=\"clip preview\" src=\"data:image/png;base64,iVBORw0KGgoAAAANSUhEUgAAAAgAAAAICAYAAADED76LAAAAY0lEQVR4nGNgYGBgiA/3/49MIwMmBgYGhn1XWBjiw/3/77vCgi4PUeCk84cBRjeXzUExhRHGQDd+4cqNjHATsAGYBpwKUNwAA+iOlNUO/g9XoCLvy5Dm7cmw7woLg4q8L9zRAEjrHPwUhutBAAAAAElFTkSuQmCC\" style=\"width: 5em; image-rendering: -moz-crisp-edges; image-rendering: crisp-edges; image-rendering: pixelated; \"></td></tr></table>"
      ],
      "text/plain": [
       "Transition(id='a4d39c1cca4742ba8d06cae39a6f1ea2', source=Frame(guid=\"61bf1365bb8b40cbac34d30f7b8c1ac5\"), targetFrame(guid=\"92772921661b432988dfaeb4b7be75ed\"))"
      ]
     },
     "execution_count": 34,
     "metadata": {},
     "output_type": "execute_result"
    }
   ],
   "source": [
    "sit_to_crouch = make_clip(graph, \"sit_to_crouch\", [69, 70, 71])\n",
    "connect_frames(\n",
    "    graph,\n",
    "    \"transitions[sit, sit_to_crouch]\",\n",
    "    sit[-1],\n",
    "    sit_to_crouch[0])"
   ]
  },
  {
   "cell_type": "code",
   "execution_count": 35,
   "metadata": {},
   "outputs": [
    {
     "data": {
      "text/html": [
       "<table><tr><th>Transition</th><th></th></tr><tr><td>guid</td><td>40305fe387364850bd5aa34faf0de5f1</td></tr><tr><td>name</td><td>transitions[sit_to_crouch, crouch]</td></tr><tr><td>source.guid</td><td>4567bc3641bb410483b5478f32cf480a</td></tr><tr><td>source.image</td><td><img alt=\"clip preview\" src=\"data:image/png;base64,iVBORw0KGgoAAAANSUhEUgAAAAgAAAAICAYAAADED76LAAAAa0lEQVR4nGNgIATiw/3/I9PogGnfFRaG+HD///uusGA1gMlJ5w8DAwMDg5POH4bmsjkYpjDiMn7fFRaGx1fXMmI3F2riPobg/0z4POCk84eBiYGBgUFF3pdBRd6XYd8VFoZ9V1gYVOR94YoAzf0ebhITEXwAAAAASUVORK5CYII=\" style=\"width: 5em; image-rendering: -moz-crisp-edges; image-rendering: crisp-edges; image-rendering: pixelated; \"></td></tr><tr><td>target.guid</td><td>f0465488f13445b991ec2bbf47f931d8</td></tr><tr><td>target.image</td><td><img alt=\"clip preview\" src=\"data:image/png;base64,iVBORw0KGgoAAAANSUhEUgAAAAgAAAAICAYAAADED76LAAAAVUlEQVR4nGNgoBjEh/v/R6bRAdO+KywM8eH+//ddYcFqACOyThV5X4Y7DzfDJReu3MjIiM94BgYGBiZCbmRqLpvzf98VFgYVeV8GBgYGBmQ2AwMDAwDD+BklVYPU7gAAAABJRU5ErkJggg==\" style=\"width: 5em; image-rendering: -moz-crisp-edges; image-rendering: crisp-edges; image-rendering: pixelated; \"></td></tr></table>"
      ],
      "text/plain": [
       "Transition(id='40305fe387364850bd5aa34faf0de5f1', source=Frame(guid=\"4567bc3641bb410483b5478f32cf480a\"), targetFrame(guid=\"f0465488f13445b991ec2bbf47f931d8\"))"
      ]
     },
     "execution_count": 35,
     "metadata": {},
     "output_type": "execute_result"
    }
   ],
   "source": [
    "crouch = make_clip(graph, \"crouch\", [72])\n",
    "connect_frames(\n",
    "    graph,\n",
    "    \"transitions[sit_to_crouch, crouch]\",\n",
    "    sit_to_crouch[-1],\n",
    "    crouch[0])"
   ]
  },
  {
   "cell_type": "code",
   "execution_count": 36,
   "metadata": {},
   "outputs": [
    {
     "data": {
      "text/html": [
       "<table><tr><th>Transition</th><th></th></tr><tr><td>guid</td><td>41dc084c788044a083a963d649a58100</td></tr><tr><td>name</td><td>transitions[crouch_to_sit, sit]</td></tr><tr><td>source.guid</td><td>9fc1ab9be057424b936ecdd10949bca9</td></tr><tr><td>source.image</td><td><img alt=\"clip preview\" src=\"data:image/png;base64,iVBORw0KGgoAAAANSUhEUgAAAAgAAAAICAYAAADED76LAAAAY0lEQVR4nGNgYGBgiA/3/49MIwMmBgYGhn1XWBjiw/3/77vCgi4PUeCk84cBRjeXzUExhRHGQDd+4cqNjHATsAGYBpwKUNwAA+iOlNUO/g9XoCLvy5Dm7cmw7woLg4q8L9zRAEjrHPwUhutBAAAAAElFTkSuQmCC\" style=\"width: 5em; image-rendering: -moz-crisp-edges; image-rendering: crisp-edges; image-rendering: pixelated; \"></td></tr><tr><td>target.guid</td><td>61bf1365bb8b40cbac34d30f7b8c1ac5</td></tr><tr><td>target.image</td><td><img alt=\"clip preview\" src=\"data:image/png;base64,iVBORw0KGgoAAAANSUhEUgAAAAgAAAAICAYAAADED76LAAAAXElEQVR4nGNgYGBgiA/3/49MIwMmBgYGhn1XWBjiw/3/77vCgi4PUeCk84cBRjeXzUExhRHGQDd+4cqNjHATsAGYBpwKUNwAA+iOlNUO/g9XoCLvC6dhbCedPwwAJgMa/Dg5AkIAAAAASUVORK5CYII=\" style=\"width: 5em; image-rendering: -moz-crisp-edges; image-rendering: crisp-edges; image-rendering: pixelated; \"></td></tr></table>"
      ],
      "text/plain": [
       "Transition(id='41dc084c788044a083a963d649a58100', source=Frame(guid=\"9fc1ab9be057424b936ecdd10949bca9\"), targetFrame(guid=\"61bf1365bb8b40cbac34d30f7b8c1ac5\"))"
      ]
     },
     "execution_count": 36,
     "metadata": {},
     "output_type": "execute_result"
    }
   ],
   "source": [
    "crouch_to_sit = make_clip(graph, \"crouch_to_sit\", [75, 76, 77])\n",
    "connect_frames(\n",
    "    graph,\n",
    "    \"transitions[crouch_to_sit, sit]\",\n",
    "    crouch[-1],\n",
    "    crouch_to_sit[0])\n",
    "connect_frames(\n",
    "    graph,\n",
    "    \"transitions[crouch_to_sit, sit]\",\n",
    "    crouch_to_sit[-1],\n",
    "    sit[0])"
   ]
  },
  {
   "cell_type": "code",
   "execution_count": 37,
   "metadata": {},
   "outputs": [
    {
     "data": {
      "text/plain": [
       "set()"
      ]
     },
     "execution_count": 37,
     "metadata": {},
     "output_type": "execute_result"
    }
   ],
   "source": [
    "find_absorbing_frames(graph)"
   ]
  },
  {
   "cell_type": "code",
   "execution_count": 38,
   "metadata": {},
   "outputs": [],
   "source": [
    "#frame = Frame(graph, guid=\"4567bc3641bb410483b5478f32cf480a\")\n",
    "#frame.name"
   ]
  },
  {
   "cell_type": "code",
   "execution_count": 39,
   "metadata": {},
   "outputs": [
    {
     "data": {
      "text/plain": [
       "'frames[stand_to_sit[4]]'"
      ]
     },
     "execution_count": 39,
     "metadata": {},
     "output_type": "execute_result"
    }
   ],
   "source": [
    "frame = Frame(graph, guid=\"7f00ace6eca1457f9eb90cb657708a7c\")\n",
    "frame.name"
   ]
  },
  {
   "cell_type": "code",
   "execution_count": 40,
   "metadata": {},
   "outputs": [],
   "source": [
    "graph.save()"
   ]
  },
  {
   "cell_type": "code",
   "execution_count": null,
   "metadata": {},
   "outputs": [],
   "source": []
  }
 ],
 "metadata": {
  "kernelspec": {
   "display_name": "Python 3",
   "language": "python",
   "name": "python3"
  },
  "language_info": {
   "codemirror_mode": {
    "name": "ipython",
    "version": 3
   },
   "file_extension": ".py",
   "mimetype": "text/x-python",
   "name": "python",
   "nbconvert_exporter": "python",
   "pygments_lexer": "ipython3",
   "version": "3.6.4"
  }
 },
 "nbformat": 4,
 "nbformat_minor": 2
}
