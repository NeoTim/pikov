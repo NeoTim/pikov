{
 "cells": [
  {
   "cell_type": "code",
   "execution_count": 1,
   "metadata": {},
   "outputs": [],
   "source": [
    "\n",
    "import pathlib\n",
    "\n",
    "from pikov import JSONGraph"
   ]
  },
  {
   "cell_type": "code",
   "execution_count": 2,
   "metadata": {},
   "outputs": [],
   "source": [
    "# Helper for displaying images.\n",
    "\n",
    "# source: http://nbviewer.ipython.org/gist/deeplook/5162445\n",
    "from io import BytesIO\n",
    "\n",
    "from IPython import display\n",
    "from PIL import Image\n",
    "\n",
    "\n",
    "def display_pil_image(im):\n",
    "   \"\"\"Displayhook function for PIL Images, rendered as PNG.\"\"\"\n",
    "\n",
    "   b = BytesIO()\n",
    "   im.save(b, format='png')\n",
    "   data = b.getvalue()\n",
    "\n",
    "   ip_img = display.Image(data=data, format='png', embed=True)\n",
    "   return ip_img._repr_png_()\n",
    "\n",
    "\n",
    "# register display func with PNG formatter:\n",
    "png_formatter = get_ipython().display_formatter.formatters['image/png']\n",
    "dpi = png_formatter.for_type(Image.Image, display_pil_image)\n"
   ]
  },
  {
   "cell_type": "code",
   "execution_count": 3,
   "metadata": {},
   "outputs": [],
   "source": [
    "sample_dir = (pathlib.Path(\"..\") / \"..\" / \"samples\").resolve()\n",
    "\n",
    "with open(sample_dir / \"pikov-core.json\") as fp:\n",
    "    core_types = json.load(fp)\n",
    "    #graph = JSONGraph.load(fp)"
   ]
  },
  {
   "cell_type": "code",
   "execution_count": 4,
   "metadata": {},
   "outputs": [],
   "source": [
    "sample_path = sample_dir / \"gamekitty.json\"\n",
    "\n",
    "# Merge core types into pikov.json\n",
    "graph = JSONGraph.load(sample_path)\n",
    "for key, item in core_types[\"guidMap\"].items():\n",
    "    graph._guid_map[key] = item"
   ]
  },
  {
   "cell_type": "markdown",
   "metadata": {},
   "source": [
    "## Build names mapping\n",
    "\n",
    "To make it a little easier to check that I'm using the correct guids, construct a mapping from names back to `guid`.\n",
    "\n",
    "Note: this adds a constraint that no two nodes have the same name, which should not be enforced for general semantic graphs."
   ]
  },
  {
   "cell_type": "code",
   "execution_count": 5,
   "metadata": {},
   "outputs": [
    {
     "data": {
      "text/plain": [
       "GuidNode(guid=\"aba6ac79fd3d409da860a77c90942852\")"
      ]
     },
     "execution_count": 5,
     "metadata": {},
     "output_type": "execute_result"
    }
   ],
   "source": [
    "names = {}\n",
    "for node in graph:\n",
    "    for edge in node:\n",
    "        if edge.guid == \"169a81aefca74e92b45e3fa03c7021df\":\n",
    "            value = node[edge].value\n",
    "            if value in names:\n",
    "                raise ValueError('name: \"{}\" defined twice'.format(value))\n",
    "            names[value] = node\n",
    "     \n",
    "names[\"ctor\"]"
   ]
  },
  {
   "cell_type": "code",
   "execution_count": 6,
   "metadata": {},
   "outputs": [],
   "source": [
    "def name_to_guid(name):\n",
    "    if name not in names:\n",
    "        return None\n",
    "    node = names[name]\n",
    "    if not hasattr(node, \"guid\"):\n",
    "        return None\n",
    "    return node.guid"
   ]
  },
  {
   "cell_type": "markdown",
   "metadata": {},
   "source": [
    "## Pikov Classes\n",
    "\n",
    "These classes are the core resources used in defining a \"Pikov\" file.\n",
    "\n",
    "Note: ideally these classes could be derived from the graph itself, but I don't (yet) encode type or field information in the `pikov.json` semantic graph."
   ]
  },
  {
   "cell_type": "code",
   "execution_count": 26,
   "metadata": {},
   "outputs": [],
   "source": [
    "from pikov.sprite import Bitmap, Clip, Frame, FrameList, Point, Resource, Sprite, Transition"
   ]
  },
  {
   "cell_type": "markdown",
   "metadata": {},
   "source": [
    "## Gamekitty\n",
    "\n",
    "Create instances of the Pikov classes to define a concrete Pikov graph, based on my \"gamekitty\" animations.\n",
    "\n",
    "### Load the spritesheet\n",
    "\n",
    "In the previous notebook, we chopped the spritesheet into bitmaps. Find those and save them to an array so that they can be indexed as they were in the original PICO-8 gamekitty doodle."
   ]
  },
  {
   "cell_type": "code",
   "execution_count": 18,
   "metadata": {},
   "outputs": [],
   "source": [
    "resource = Resource(graph, guid=name_to_guid(\"spritesheet\"))\n",
    "\n",
    "spritesheet = []\n",
    "for row in range(16):\n",
    "    for column in range(16):\n",
    "        sprite_number = row * 16 + column\n",
    "        bitmap_name = \"bitmap[{}]\".format(sprite_number)\n",
    "        bitmap = Bitmap(graph, guid=name_to_guid(bitmap_name))\n",
    "        spritesheet.append(bitmap)"
   ]
  },
  {
   "cell_type": "markdown",
   "metadata": {},
   "source": [
    "### Create frames for each \"clip\"\n",
    "\n",
    "Each animation is defined in terms of sprite numbers. Sometimes a clip should loop, but sometimes it's only used as a transition between looping clips."
   ]
  },
  {
   "cell_type": "code",
   "execution_count": 19,
   "metadata": {},
   "outputs": [],
   "source": [
    "def find_nodes(graph, ctor, cls):\n",
    "    nodes = set()\n",
    "    # TODO: With graph formats that have indexes, there should be a faster way.\n",
    "    for node in graph:\n",
    "        if node[names[\"ctor\"]] == ctor:\n",
    "            node = cls(graph, guid=node.guid)\n",
    "            nodes.add(node)\n",
    "    return nodes\n",
    "\n",
    "\n",
    "def find_frames(graph):\n",
    "    return find_nodes(graph, names[\"frame\"], Frame)\n",
    "\n",
    "\n",
    "def find_transitions(graph):\n",
    "    return find_nodes(graph, names[\"transition\"], Transition)\n",
    "\n",
    "\n",
    "def find_absorbing_frames(graph):\n",
    "    transitions = find_transitions(graph)\n",
    "    target_frames = set()\n",
    "    source_frames = set()\n",
    "    for transition in transitions:\n",
    "        target_frames.add(transition.target.guid)\n",
    "        source_frames.add(transition.source.guid)\n",
    "    return target_frames - source_frames  # In but not out. Dead end!"
   ]
  },
  {
   "cell_type": "code",
   "execution_count": 20,
   "metadata": {},
   "outputs": [],
   "source": [
    "MICROS_12_FPS = int(1e6 / 12)  # 12 frames per second\n",
    "MICROS_24_FPS = int(1e6 / 24)\n",
    "\n",
    "\n",
    "def connect_frames(graph, transition_name, source, target):\n",
    "    transition = Transition(graph, guid=name_to_guid(transition_name))\n",
    "    transition.name = transition_name\n",
    "    transition.source = source\n",
    "    transition.target = target\n",
    "    return transition\n",
    "\n",
    "\n",
    "def make_clip(graph, name, sprite_numbers, loop=False, duration=MICROS_12_FPS, guid=None):\n",
    "    clip = Clip(graph, guid=guid)\n",
    "    if clip.frames:\n",
    "        logging.warning(\"Clip already has frames\")\n",
    "        return clip\n",
    "\n",
    "    frame_list_name = \"framelist[{}, 0]\".format(name)\n",
    "    end_of_clip = FrameList(graph, guid=name_to_guid(frame_list_name))\n",
    "    clip.frames = end_of_clip\n",
    "    previous_sprite_name = None\n",
    "    previous_frame = None\n",
    "    for sequence, sprite_number in enumerate(sprite_numbers):\n",
    "        sprite_name = \"{}[{}]\".format(name, sequence)\n",
    "        frame_name = \"frames[{}]\".format(sprite_name)\n",
    "        frame = Frame(graph, guid=name_to_guid(frame_name))\n",
    "        frame.name = frame_name\n",
    "        frame.bitmap = spritesheet[sprite_number]\n",
    "        frame.duration_microsections = duration\n",
    "        \n",
    "        if previous_sprite_name:\n",
    "            transition_name = \"transitions[{}, {}]\".format(\n",
    "                previous_sprite_name,\n",
    "                sprite_name)\n",
    "            connect_frames(graph, transition_name, previous_frame, frame)\n",
    "        \n",
    "        previous_sprite_name = sprite_name\n",
    "        previous_frame = frame\n",
    "        frame_list_name = \"framelist[{}, {}]\".format(name, sequence + 1)\n",
    "        end_of_clip = end_of_clip.append(frame, guid=name_to_guid(frame_list_name))\n",
    "    \n",
    "    if loop:\n",
    "        transition_name = \"transitions[{}, {}]\".format(\n",
    "            previous_sprite_name,\n",
    "            \"{}[0]\".format(name))\n",
    "        connect_frames(graph, transition_name, previous_frame, clip.frames.head)\n",
    "    \n",
    "    return clip     "
   ]
  },
  {
   "cell_type": "code",
   "execution_count": 24,
   "metadata": {},
   "outputs": [
    {
     "data": {
      "image/gif": "[encoded data removed]",
      "text/html": [
       "<table><tr><th>Clip</th><th></th></tr><tr><td>preview</td><td><img alt=\"clip preview\" src=\"data:image/gif;base64,R0lGODlhCAAIAIEAAF9XTx0rU4N2nAAAACH5BAAIAAAAIf8LTkVUU0NBUEUyLjADAQAAACwAAAAACAAIAAAIOQAHABgAYIBBgwEABBjAkCGAhwIGSJQIoCKAARgHANi4cYBHACBBDhgJIACAkwEGDBAQQIAAAAACAgA7\" style=\"width: 5em; image-rendering: -moz-crisp-edges; image-rendering: crisp-edges; image-rendering: pixelated; \"></td></tr></table>"
      ],
      "text/plain": [
       "Clip(guid=\"d0ad87fbcdb540438ebdd40b72d8bb5d\")"
      ]
     },
     "execution_count": 24,
     "metadata": {},
     "output_type": "execute_result"
    }
   ],
   "source": [
    "sit = make_clip(graph, \"sit\", [0], loop=True)\n",
    "#sit[0].bitmap.image\n",
    "sit"
   ]
  },
  {
   "cell_type": "code",
   "execution_count": 32,
   "metadata": {},
   "outputs": [
    {
     "data": {
      "image/gif": "[encoded data removed]",
      "text/html": [
       "<table><tr><th>Clip</th><th></th></tr><tr><td>preview</td><td><img alt=\"clip preview\" src=\"data:image/gif;base64,R0lGODlhCAAIAIEAAF9XTx0rU4N2nAAAACH5BAAIAAAAIf8LTkVUU0NBUEUyLjADAQAAACwAAAAACAAIAAAIOQAHABgAYIBBgwEABBjAkCGAhwIGSJQIoCKAARgHANi4cYBHACBBDhgJQACAkwEGDBAQIIAAAAACAgAh+QQACAAAACH/C05FVFNDQVBFMi4wAwEAAAAsAwACAAUABgCBX1dPHStTg3acAAAACB4AAQgAMGAAgIMAAgBYCCAAgIcQBwCYKCCAAAADAgIAIfkEAAgAAAAh/wtORVRTQ0FQRTIuMAMBAAAALAAAAAAIAAgAgV9XTx0rU4N2nAAAAAg8AAEMADCgYMEAAAIMWAhgAICHAgYMAABgAICLFwcAGACgo0cAAwIAGDlygEkBAAYEADCg5QABAQQAGBAQACH5BAAIAAAAIf8LTkVUU0NBUEUyLjADAQAAACwBAAAABwAIAIFfV08dK1ODdpwAAAAIOAAHABgwAMCAAQACDBgAAMAAAAAEDBgAYACAixgHANjIcQCAjyAHABgAYEAAAAMEDBAwIICAAQEBADs=\" style=\"width: 5em; image-rendering: -moz-crisp-edges; image-rendering: crisp-edges; image-rendering: pixelated; \"></td></tr></table>"
      ],
      "text/plain": [
       "Clip(guid=\"b5d2628419da41dcb48846480ff01f55\")"
      ]
     },
     "execution_count": 32,
     "metadata": {},
     "output_type": "execute_result"
    }
   ],
   "source": [
    "sit_to_stand = make_clip(graph, \"sit_to_stand\", [1,2,3,4])\n",
    "sit_to_stand"
   ]
  },
  {
   "cell_type": "code",
   "execution_count": 33,
   "metadata": {},
   "outputs": [
    {
     "data": {
      "image/gif": "[encoded data removed]",
      "text/html": [
       "<table><tr><th>Clip</th><th></th></tr><tr><td>preview</td><td><img alt=\"clip preview\" src=\"data:image/gif;base64,R0lGODlhCAAIAIEAAF9XTx0rU4N2nAAAACH5BAAIAAAAIf8LTkVUU0NBUEUyLjADAQAAACwAAAAACAAIAAAIPQABDAAwoCCAAQEABBjAEMAAABAFDBgAYMAAABgzDhgAoKPHAQMAiBw5YACAAQAGBAAwYICAAQIGBBAwICAAIfkEAAgAAAAh/wtORVRTQ0FQRTIuMAMBAAAALAUAAAACAAIAgV9XTx0rU4N2nAAAAAgHAAEMAAAgIAA7\" style=\"width: 5em; image-rendering: -moz-crisp-edges; image-rendering: crisp-edges; image-rendering: pixelated; \"></td></tr></table>"
      ],
      "text/plain": [
       "Clip(guid=\"2ac889dee94a4c969811098aedd51c3c\")"
      ]
     },
     "execution_count": 33,
     "metadata": {},
     "output_type": "execute_result"
    }
   ],
   "source": [
    "stand_waggle = make_clip(graph, \"stand_waggle\", [26,4], loop=True)\n",
    "stand_waggle"
   ]
  },
  {
   "cell_type": "code",
   "execution_count": 34,
   "metadata": {},
   "outputs": [
    {
     "data": {
      "text/html": [
       "<table><tr><th>Transition</th><th></th></tr><tr><td>guid</td><td>406ac656142a45c0a1ff3f1716e84fac</td></tr><tr><td>name</td><td>transitions[sit_to_stand, stand_waggle]</td></tr><tr><td>source.guid</td><td>f6a2db33bca64aa799d3690ced24b187</td></tr><tr><td>source.image</td><td><img alt=\"clip preview\" src=\"data:image/png;base64,iVBORw0KGgoAAAANSUhEUgAAAAgAAAAICAYAAADED76LAAAAZ0lEQVR4nGOID/f/z8DAwACj0dlM+66wMMSH+//fd4WFARnAFDE56fxhYGBgYHDS+cPQXDbnPwMDA8PClRsZYQoZ0Y1EBgtXbmRkwiaBDIhXALN34cqNjMgOZmJgYGBQkfdlQKaR2QD0Rx/wn9C1wQAAAABJRU5ErkJggg==\" style=\"width: 5em; image-rendering: -moz-crisp-edges; image-rendering: crisp-edges; image-rendering: pixelated; \"></td></tr><tr><td>target.guid</td><td>e78112cca4b847528b93a8decd55db22</td></tr><tr><td>target.image</td><td><img alt=\"clip preview\" src=\"data:image/png;base64,iVBORw0KGgoAAAANSUhEUgAAAAgAAAAICAYAAADED76LAAAAX0lEQVR4nGOID/f/z8DAwACjYQDGZ9p3hYUhPtz//74rLAzYAJOTzh8GBgYGBiedPwzNZXP+oytgxGY8DCxcuZGRCau5yFYQrWDhyo2MMBrZwUwMDAwMKvK+DMg0MhsA85Yb8GJtyLkAAAAASUVORK5CYII=\" style=\"width: 5em; image-rendering: -moz-crisp-edges; image-rendering: crisp-edges; image-rendering: pixelated; \"></td></tr></table>"
      ],
      "text/plain": [
       "Transition(id='406ac656142a45c0a1ff3f1716e84fac', source=Frame(guid=\"f6a2db33bca64aa799d3690ced24b187\"), targetFrame(guid=\"e78112cca4b847528b93a8decd55db22\"))"
      ]
     },
     "execution_count": 34,
     "metadata": {},
     "output_type": "execute_result"
    }
   ],
   "source": [
    "connect_frames(\n",
    "    graph,\n",
    "    \"transitions[sit_to_stand, stand_waggle]\",\n",
    "    sit_to_stand[-1],\n",
    "    stand_waggle[0])"
   ]
  },
  {
   "cell_type": "code",
   "execution_count": 35,
   "metadata": {},
   "outputs": [
    {
     "data": {
      "image/gif": "[encoded data removed]",
      "text/html": [
       "<table><tr><th>Clip</th><th></th></tr><tr><td>preview</td><td><img alt=\"clip preview\" src=\"data:image/gif;base64,R0lGODlhCAAIAIEAAF9XTx0rU4N2nAAAACH5BAAIAAAAIf8LTkVUU0NBUEUyLjADAQAAACwAAAAACAAIAAAIPAABDAAwoCCAAQEABBjAEIBDhwIABBgAYACAixcDABgAoKNHAAMCABg5coBJAQAGBAAwoOUAAQMCCBgQEAAh+QQACAAAACH/C05FVFNDQVBFMi4wAwEAAAAsAAAAAAcACACBX1dPHStTg3acAAAACDkABwAYAGDAAAADAgAIMGAAgAEAIgoAMKAigIsXBwwAwJHjgAEAQoYcMAAAgAEBAAwYIEDAgAACAgIAIfkEAAgAAAAh/wtORVRTQ0FQRTIuMAMBAAAALAMABQABAAMAgV9XTx0rU4N2nAAAAAgHAAMAEDAgIAAh+QQACAAAACH/C05FVFNDQVBFMi4wAwEAAAAsAwAAAAUACACBX1dPHStTg3acAAAACCoAAQwYOCDAgIMDAAgAMCAAgIcAAgCYCCAAgIsAAgwAEAAAgAECAggYEBAAIfkEAAgAAAAh/wtORVRTQ0FQRTIuMAMBAAAALAUAAgADAAYAgV9XTx0rU4N2nAAAAAgWAAcIBDBgAAAAAwAACAAAQAABAAAEBAA7\" style=\"width: 5em; image-rendering: -moz-crisp-edges; image-rendering: crisp-edges; image-rendering: pixelated; \"></td></tr></table>"
      ],
      "text/plain": [
       "Clip(guid=\"ccd52cb417c041ae84dc82ffd5a166a7\")"
      ]
     },
     "execution_count": 35,
     "metadata": {},
     "output_type": "execute_result"
    }
   ],
   "source": [
    "stand_to_sit = make_clip(graph, \"stand_to_sit\", [57, 58, 59, 60, 61])\n",
    "stand_to_sit"
   ]
  },
  {
   "cell_type": "code",
   "execution_count": 36,
   "metadata": {},
   "outputs": [
    {
     "data": {
      "text/html": [
       "<table><tr><th>Transition</th><th></th></tr><tr><td>guid</td><td>b8449c8ee4a84e5bab83d05388bb1a01</td></tr><tr><td>name</td><td>transitions[stand_to_sit, sit]</td></tr><tr><td>source.guid</td><td>7f00ace6eca1457f9eb90cb657708a7c</td></tr><tr><td>source.image</td><td><img alt=\"clip preview\" src=\"data:image/png;base64,iVBORw0KGgoAAAANSUhEUgAAAAgAAAAICAYAAADED76LAAAAY0lEQVR4nGNgYGBgiA/3/49MIwMmBgYGhn1XWBjiw/3/77vCgi4PUeCk84cBRjeXzUExhRHGQDd+4cqNjHATsAGYBpwKGBgYGGS1g/+jKIAZi+FIBgYGBhV5XzgNYzvp/GEAAG7JG2J6oHfZAAAAAElFTkSuQmCC\" style=\"width: 5em; image-rendering: -moz-crisp-edges; image-rendering: crisp-edges; image-rendering: pixelated; \"></td></tr><tr><td>target.guid</td><td>61bf1365bb8b40cbac34d30f7b8c1ac5</td></tr><tr><td>target.image</td><td><img alt=\"clip preview\" src=\"data:image/png;base64,iVBORw0KGgoAAAANSUhEUgAAAAgAAAAICAYAAADED76LAAAAXElEQVR4nGNgYGBgiA/3/49MIwMmBgYGhn1XWBjiw/3/77vCgi4PUeCk84cBRjeXzUExhRHGQDd+4cqNjHATsAGYBpwKUNwAA+iOlNUO/g9XoCLvC6dhbCedPwwAJgMa/Dg5AkIAAAAASUVORK5CYII=\" style=\"width: 5em; image-rendering: -moz-crisp-edges; image-rendering: crisp-edges; image-rendering: pixelated; \"></td></tr></table>"
      ],
      "text/plain": [
       "Transition(id='b8449c8ee4a84e5bab83d05388bb1a01', source=Frame(guid=\"7f00ace6eca1457f9eb90cb657708a7c\"), targetFrame(guid=\"61bf1365bb8b40cbac34d30f7b8c1ac5\"))"
      ]
     },
     "execution_count": 36,
     "metadata": {},
     "output_type": "execute_result"
    }
   ],
   "source": [
    "connect_frames(\n",
    "    graph,\n",
    "    \"transitions[stand_waggle, stand_to_sit]\",\n",
    "    stand_waggle[-1],\n",
    "    stand_to_sit[0])\n",
    "connect_frames(\n",
    "    graph,\n",
    "    \"transitions[stand_to_sit, sit]\",\n",
    "    stand_to_sit[-1],\n",
    "    sit[0])"
   ]
  },
  {
   "cell_type": "markdown",
   "metadata": {},
   "source": [
    "### Create the root node\n",
    "\n",
    "`gamekitty` should be our root node. It's the only object in our scene right now."
   ]
  },
  {
   "cell_type": "code",
   "execution_count": 37,
   "metadata": {},
   "outputs": [
    {
     "data": {
      "text/plain": [
       "Point(guid='01188e000bae49ec8c08891e16d25091', x=0, y=0)"
      ]
     },
     "execution_count": 37,
     "metadata": {},
     "output_type": "execute_result"
    }
   ],
   "source": [
    "origin = Point(graph, guid=name_to_guid(\"origin\"))\n",
    "origin.name = \"origin\"\n",
    "origin.x = 0\n",
    "origin.y = 0\n",
    "origin"
   ]
  },
  {
   "cell_type": "code",
   "execution_count": 38,
   "metadata": {},
   "outputs": [
    {
     "data": {
      "text/plain": [
       "Sprite(guid=\"b463421ad4374bda8e088b9602fd8794\")"
      ]
     },
     "execution_count": 38,
     "metadata": {},
     "output_type": "execute_result"
    }
   ],
   "source": [
    "sprite = Sprite(graph, guid=name_to_guid(\"gamekitty\"))\n",
    "graph._properties[\"root\"] = sprite.guid\n",
    "sprite.name = \"gamekitty\"\n",
    "sprite.position = origin\n",
    "sprite.frame = sit[0]\n",
    "sprite"
   ]
  },
  {
   "cell_type": "markdown",
   "metadata": {},
   "source": [
    "### More clips and transitions"
   ]
  },
  {
   "cell_type": "code",
   "execution_count": 39,
   "metadata": {},
   "outputs": [],
   "source": [
    "sit_paw = make_clip(graph, \"sit_paw\", [62, 63, 64, 65])"
   ]
  },
  {
   "cell_type": "code",
   "execution_count": 40,
   "metadata": {},
   "outputs": [
    {
     "data": {
      "text/html": [
       "<table><tr><th>Transition</th><th></th></tr><tr><td>guid</td><td>1b42a000d15742a1a49e2e6f3e6193be</td></tr><tr><td>name</td><td>transitions[sit, sit_paw]</td></tr><tr><td>source.guid</td><td>61bf1365bb8b40cbac34d30f7b8c1ac5</td></tr><tr><td>source.image</td><td><img alt=\"clip preview\" src=\"data:image/png;base64,iVBORw0KGgoAAAANSUhEUgAAAAgAAAAICAYAAADED76LAAAAXElEQVR4nGNgYGBgiA/3/49MIwMmBgYGhn1XWBjiw/3/77vCgi4PUeCk84cBRjeXzUExhRHGQDd+4cqNjHATsAGYBpwKUNwAA+iOlNUO/g9XoCLvC6dhbCedPwwAJgMa/Dg5AkIAAAAASUVORK5CYII=\" style=\"width: 5em; image-rendering: -moz-crisp-edges; image-rendering: crisp-edges; image-rendering: pixelated; \"></td></tr><tr><td>target.guid</td><td>ef8dafd0bb294811b1d16653e25db192</td></tr><tr><td>target.image</td><td><img alt=\"clip preview\" src=\"data:image/png;base64,iVBORw0KGgoAAAANSUhEUgAAAAgAAAAICAYAAADED76LAAAAdElEQVR4nGNgYGBgiA/3/49MIwMmBgYGhn1XWBjiw/3/77vCgi4PUeCk84cBRjeXzUExhRHGQDd+4cqNjHATsAGYBkZcjoO5jYmBgYFBRd6XYeHKjYzYHAl3g6x28H8GBgaGNG9PBgYGBoY7DzczMDAwMAAAynIhcFzYUD4AAAAASUVORK5CYII=\" style=\"width: 5em; image-rendering: -moz-crisp-edges; image-rendering: crisp-edges; image-rendering: pixelated; \"></td></tr></table>"
      ],
      "text/plain": [
       "Transition(id='1b42a000d15742a1a49e2e6f3e6193be', source=Frame(guid=\"61bf1365bb8b40cbac34d30f7b8c1ac5\"), targetFrame(guid=\"ef8dafd0bb294811b1d16653e25db192\"))"
      ]
     },
     "execution_count": 40,
     "metadata": {},
     "output_type": "execute_result"
    }
   ],
   "source": [
    "connect_frames(\n",
    "    graph,\n",
    "    \"transitions[sit_paw, sit]\",\n",
    "    sit_paw[-1],\n",
    "    sit[0])\n",
    "connect_frames(\n",
    "    graph,\n",
    "    \"transitions[sit, sit_paw]\",\n",
    "    sit[-1],\n",
    "    sit_paw[0])"
   ]
  },
  {
   "cell_type": "code",
   "execution_count": 41,
   "metadata": {},
   "outputs": [
    {
     "data": {
      "text/html": [
       "<table><tr><th>Transition</th><th></th></tr><tr><td>guid</td><td>a4d39c1cca4742ba8d06cae39a6f1ea2</td></tr><tr><td>name</td><td>transitions[sit, sit_to_crouch]</td></tr><tr><td>source.guid</td><td>61bf1365bb8b40cbac34d30f7b8c1ac5</td></tr><tr><td>source.image</td><td><img alt=\"clip preview\" src=\"data:image/png;base64,iVBORw0KGgoAAAANSUhEUgAAAAgAAAAICAYAAADED76LAAAAXElEQVR4nGNgYGBgiA/3/49MIwMmBgYGhn1XWBjiw/3/77vCgi4PUeCk84cBRjeXzUExhRHGQDd+4cqNjHATsAGYBpwKUNwAA+iOlNUO/g9XoCLvC6dhbCedPwwAJgMa/Dg5AkIAAAAASUVORK5CYII=\" style=\"width: 5em; image-rendering: -moz-crisp-edges; image-rendering: crisp-edges; image-rendering: pixelated; \"></td></tr><tr><td>target.guid</td><td>92772921661b432988dfaeb4b7be75ed</td></tr><tr><td>target.image</td><td><img alt=\"clip preview\" src=\"data:image/png;base64,iVBORw0KGgoAAAANSUhEUgAAAAgAAAAICAYAAADED76LAAAAY0lEQVR4nGNgYGBgiA/3/49MIwMmBgYGhn1XWBjiw/3/77vCgi4PUeCk84cBRjeXzUExhRHGQDd+4cqNjHATsAGYBpwKUNwAA+iOlNUO/g9XoCLvy5Dm7cmw7woLg4q8L9zRAEjrHPwUhutBAAAAAElFTkSuQmCC\" style=\"width: 5em; image-rendering: -moz-crisp-edges; image-rendering: crisp-edges; image-rendering: pixelated; \"></td></tr></table>"
      ],
      "text/plain": [
       "Transition(id='a4d39c1cca4742ba8d06cae39a6f1ea2', source=Frame(guid=\"61bf1365bb8b40cbac34d30f7b8c1ac5\"), targetFrame(guid=\"92772921661b432988dfaeb4b7be75ed\"))"
      ]
     },
     "execution_count": 41,
     "metadata": {},
     "output_type": "execute_result"
    }
   ],
   "source": [
    "sit_to_crouch = make_clip(graph, \"sit_to_crouch\", [69, 70, 71])\n",
    "connect_frames(\n",
    "    graph,\n",
    "    \"transitions[sit, sit_to_crouch]\",\n",
    "    sit[-1],\n",
    "    sit_to_crouch[0])"
   ]
  },
  {
   "cell_type": "code",
   "execution_count": 42,
   "metadata": {},
   "outputs": [
    {
     "data": {
      "text/html": [
       "<table><tr><th>Transition</th><th></th></tr><tr><td>guid</td><td>40305fe387364850bd5aa34faf0de5f1</td></tr><tr><td>name</td><td>transitions[sit_to_crouch, crouch]</td></tr><tr><td>source.guid</td><td>4567bc3641bb410483b5478f32cf480a</td></tr><tr><td>source.image</td><td><img alt=\"clip preview\" src=\"data:image/png;base64,iVBORw0KGgoAAAANSUhEUgAAAAgAAAAICAYAAADED76LAAAAa0lEQVR4nGNgIATiw/3/I9PogGnfFRaG+HD///uusGA1gMlJ5w8DAwMDg5POH4bmsjkYpjDiMn7fFRaGx1fXMmI3F2riPobg/0z4POCk84eBiYGBgUFF3pdBRd6XYd8VFoZ9V1gYVOR94YoAzf0ebhITEXwAAAAASUVORK5CYII=\" style=\"width: 5em; image-rendering: -moz-crisp-edges; image-rendering: crisp-edges; image-rendering: pixelated; \"></td></tr><tr><td>target.guid</td><td>f0465488f13445b991ec2bbf47f931d8</td></tr><tr><td>target.image</td><td><img alt=\"clip preview\" src=\"data:image/png;base64,iVBORw0KGgoAAAANSUhEUgAAAAgAAAAICAYAAADED76LAAAAVUlEQVR4nGNgoBjEh/v/R6bRAdO+KywM8eH+//ddYcFqACOyThV5X4Y7DzfDJReu3MjIiM94BgYGBiZCbmRqLpvzf98VFgYVeV8GBgYGBmQ2AwMDAwDD+BklVYPU7gAAAABJRU5ErkJggg==\" style=\"width: 5em; image-rendering: -moz-crisp-edges; image-rendering: crisp-edges; image-rendering: pixelated; \"></td></tr></table>"
      ],
      "text/plain": [
       "Transition(id='40305fe387364850bd5aa34faf0de5f1', source=Frame(guid=\"4567bc3641bb410483b5478f32cf480a\"), targetFrame(guid=\"f0465488f13445b991ec2bbf47f931d8\"))"
      ]
     },
     "execution_count": 42,
     "metadata": {},
     "output_type": "execute_result"
    }
   ],
   "source": [
    "crouch = make_clip(graph, \"crouch\", [72])\n",
    "connect_frames(\n",
    "    graph,\n",
    "    \"transitions[sit_to_crouch, crouch]\",\n",
    "    sit_to_crouch[-1],\n",
    "    crouch[0])"
   ]
  },
  {
   "cell_type": "code",
   "execution_count": 43,
   "metadata": {},
   "outputs": [
    {
     "data": {
      "text/html": [
       "<table><tr><th>Transition</th><th></th></tr><tr><td>guid</td><td>41dc084c788044a083a963d649a58100</td></tr><tr><td>name</td><td>transitions[crouch_to_sit, sit]</td></tr><tr><td>source.guid</td><td>9fc1ab9be057424b936ecdd10949bca9</td></tr><tr><td>source.image</td><td><img alt=\"clip preview\" src=\"data:image/png;base64,iVBORw0KGgoAAAANSUhEUgAAAAgAAAAICAYAAADED76LAAAAY0lEQVR4nGNgYGBgiA/3/49MIwMmBgYGhn1XWBjiw/3/77vCgi4PUeCk84cBRjeXzUExhRHGQDd+4cqNjHATsAGYBpwKUNwAA+iOlNUO/g9XoCLvy5Dm7cmw7woLg4q8L9zRAEjrHPwUhutBAAAAAElFTkSuQmCC\" style=\"width: 5em; image-rendering: -moz-crisp-edges; image-rendering: crisp-edges; image-rendering: pixelated; \"></td></tr><tr><td>target.guid</td><td>61bf1365bb8b40cbac34d30f7b8c1ac5</td></tr><tr><td>target.image</td><td><img alt=\"clip preview\" src=\"data:image/png;base64,iVBORw0KGgoAAAANSUhEUgAAAAgAAAAICAYAAADED76LAAAAXElEQVR4nGNgYGBgiA/3/49MIwMmBgYGhn1XWBjiw/3/77vCgi4PUeCk84cBRjeXzUExhRHGQDd+4cqNjHATsAGYBpwKUNwAA+iOlNUO/g9XoCLvC6dhbCedPwwAJgMa/Dg5AkIAAAAASUVORK5CYII=\" style=\"width: 5em; image-rendering: -moz-crisp-edges; image-rendering: crisp-edges; image-rendering: pixelated; \"></td></tr></table>"
      ],
      "text/plain": [
       "Transition(id='41dc084c788044a083a963d649a58100', source=Frame(guid=\"9fc1ab9be057424b936ecdd10949bca9\"), targetFrame(guid=\"61bf1365bb8b40cbac34d30f7b8c1ac5\"))"
      ]
     },
     "execution_count": 43,
     "metadata": {},
     "output_type": "execute_result"
    }
   ],
   "source": [
    "crouch_to_sit = make_clip(graph, \"crouch_to_sit\", [75, 76, 77])\n",
    "connect_frames(\n",
    "    graph,\n",
    "    \"transitions[crouch_to_sit, sit]\",\n",
    "    crouch[-1],\n",
    "    crouch_to_sit[0])\n",
    "connect_frames(\n",
    "    graph,\n",
    "    \"transitions[crouch_to_sit, sit]\",\n",
    "    crouch_to_sit[-1],\n",
    "    sit[0])"
   ]
  },
  {
   "cell_type": "code",
   "execution_count": 44,
   "metadata": {},
   "outputs": [
    {
     "data": {
      "text/plain": [
       "set()"
      ]
     },
     "execution_count": 44,
     "metadata": {},
     "output_type": "execute_result"
    }
   ],
   "source": [
    "find_absorbing_frames(graph)"
   ]
  },
  {
   "cell_type": "code",
   "execution_count": 45,
   "metadata": {},
   "outputs": [],
   "source": [
    "#frame = Frame(graph, guid=\"4567bc3641bb410483b5478f32cf480a\")\n",
    "#frame.name"
   ]
  },
  {
   "cell_type": "code",
   "execution_count": 46,
   "metadata": {},
   "outputs": [
    {
     "data": {
      "text/plain": [
       "'frames[stand_to_sit[4]]'"
      ]
     },
     "execution_count": 46,
     "metadata": {},
     "output_type": "execute_result"
    }
   ],
   "source": [
    "frame = Frame(graph, guid=\"7f00ace6eca1457f9eb90cb657708a7c\")\n",
    "frame.name"
   ]
  },
  {
   "cell_type": "code",
   "execution_count": 47,
   "metadata": {},
   "outputs": [],
   "source": [
    "graph.save()"
   ]
  },
  {
   "cell_type": "code",
   "execution_count": 49,
   "metadata": {},
   "outputs": [
    {
     "data": {
      "text/plain": [
       "'EmptyList'"
      ]
     },
     "execution_count": 49,
     "metadata": {},
     "output_type": "execute_result"
    }
   ],
   "source": [
    "graph.get_value(\"51fb7a7a95d4486bb197509fd53dec2d\", names[\"name\"]).value"
   ]
  },
  {
   "cell_type": "code",
   "execution_count": null,
   "metadata": {},
   "outputs": [],
   "source": []
  }
 ],
 "metadata": {
  "kernelspec": {
   "display_name": "Python 3",
   "language": "python",
   "name": "python3"
  },
  "language_info": {
   "codemirror_mode": {
    "name": "ipython",
    "version": 3
   },
   "file_extension": ".py",
   "mimetype": "text/x-python",
   "name": "python",
   "nbconvert_exporter": "python",
   "pygments_lexer": "ipython3",
   "version": "3.6.4"
  }
 },
 "nbformat": 4,
 "nbformat_minor": 2
}
