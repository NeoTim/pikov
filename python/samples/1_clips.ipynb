{
 "cells": [
  {
   "cell_type": "code",
   "execution_count": null,
   "metadata": {},
   "outputs": [],
   "source": [
    "import json\n",
    "import pathlib\n",
    "import logging\n",
    "\n",
    "from pikov import JSONGraph"
   ]
  },
  {
   "cell_type": "code",
   "execution_count": null,
   "metadata": {},
   "outputs": [],
   "source": [
    "# Helper for displaying images.\n",
    "\n",
    "# source: http://nbviewer.ipython.org/gist/deeplook/5162445\n",
    "from io import BytesIO\n",
    "\n",
    "from IPython import display\n",
    "from PIL import Image\n",
    "\n",
    "\n",
    "def display_pil_image(im):\n",
    "   \"\"\"Displayhook function for PIL Images, rendered as PNG.\"\"\"\n",
    "\n",
    "   b = BytesIO()\n",
    "   im.save(b, format='png')\n",
    "   data = b.getvalue()\n",
    "\n",
    "   ip_img = display.Image(data=data, format='png', embed=True)\n",
    "   return ip_img._repr_png_()\n",
    "\n",
    "\n",
    "# register display func with PNG formatter:\n",
    "png_formatter = get_ipython().display_formatter.formatters['image/png']\n",
    "dpi = png_formatter.for_type(Image.Image, display_pil_image)\n"
   ]
  },
  {
   "cell_type": "code",
   "execution_count": null,
   "metadata": {},
   "outputs": [],
   "source": [
    "sample_dir = (pathlib.Path(\"..\") / \"..\" / \"samples\").resolve()\n",
    "\n",
    "with open(sample_dir / \"pikov-core.json\") as fp:\n",
    "    core_types = json.load(fp)\n",
    "    #graph = JSONGraph.load(fp)"
   ]
  },
  {
   "cell_type": "code",
   "execution_count": null,
   "metadata": {},
   "outputs": [],
   "source": [
    "sample_path = sample_dir / \"gamekitty.json\"\n",
    "\n",
    "# Merge core types into pikov.json\n",
    "graph = JSONGraph.load(sample_path)\n",
    "for key, item in core_types[\"guidMap\"].items():\n",
    "    graph._guid_map[key] = item"
   ]
  },
  {
   "cell_type": "markdown",
   "metadata": {},
   "source": [
    "## Build names mapping\n",
    "\n",
    "To make it a little easier to check that I'm using the correct guids, construct a mapping from names back to `guid`.\n",
    "\n",
    "Note: this adds a constraint that no two nodes have the same name, which should not be enforced for general semantic graphs."
   ]
  },
  {
   "cell_type": "code",
   "execution_count": null,
   "metadata": {},
   "outputs": [],
   "source": [
    "names = {}\n",
    "for node in graph:\n",
    "    for edge in node:\n",
    "        if edge.guid == \"169a81aefca74e92b45e3fa03c7021df\":\n",
    "            value = node[edge].value\n",
    "            if value in names:\n",
    "                raise ValueError('name: \"{}\" defined twice'.format(value))\n",
    "            names[value] = node\n",
    "     \n",
    "names[\"ctor\"]"
   ]
  },
  {
   "cell_type": "code",
   "execution_count": null,
   "metadata": {},
   "outputs": [],
   "source": [
    "def name_to_guid(name):\n",
    "    if name not in names:\n",
    "        return None\n",
    "    node = names[name]\n",
    "    if not hasattr(node, \"guid\"):\n",
    "        return None\n",
    "    return node.guid"
   ]
  },
  {
   "cell_type": "markdown",
   "metadata": {},
   "source": [
    "## Pikov Classes\n",
    "\n",
    "These classes are the core resources used in defining a \"Pikov\" file.\n",
    "\n",
    "Note: ideally these classes could be derived from the graph itself, but I don't (yet) encode type or field information in the `pikov.json` semantic graph."
   ]
  },
  {
   "cell_type": "code",
   "execution_count": null,
   "metadata": {},
   "outputs": [],
   "source": [
    "from pikov.sprite import Bitmap, Clip, Frame, FrameList, Point, Resource, Sprite, Transition"
   ]
  },
  {
   "cell_type": "markdown",
   "metadata": {},
   "source": [
    "## Gamekitty\n",
    "\n",
    "Create instances of the Pikov classes to define a concrete Pikov graph, based on my \"gamekitty\" animations.\n",
    "\n",
    "### Load the spritesheet\n",
    "\n",
    "In the previous notebook, we chopped the spritesheet into bitmaps. Find those and save them to an array so that they can be indexed as they were in the original PICO-8 gamekitty doodle."
   ]
  },
  {
   "cell_type": "code",
   "execution_count": null,
   "metadata": {},
   "outputs": [],
   "source": [
    "resource = Resource(graph, guid=name_to_guid(\"spritesheet\"))\n",
    "\n",
    "spritesheet = []\n",
    "for row in range(16):\n",
    "    for column in range(16):\n",
    "        sprite_number = row * 16 + column\n",
    "        bitmap_name = \"bitmap[{}]\".format(sprite_number)\n",
    "        bitmap = Bitmap(graph, guid=name_to_guid(bitmap_name))\n",
    "        spritesheet.append(bitmap)"
   ]
  },
  {
   "cell_type": "markdown",
   "metadata": {},
   "source": [
    "### Create frames for each \"clip\"\n",
    "\n",
    "Each animation is defined in terms of sprite numbers. Sometimes a clip should loop, but sometimes it's only used as a transition between looping clips."
   ]
  },
  {
   "cell_type": "code",
   "execution_count": null,
   "metadata": {},
   "outputs": [],
   "source": [
    "def find_nodes(graph, ctor, cls):\n",
    "    nodes = set()\n",
    "    # TODO: With graph formats that have indexes, there should be a faster way.\n",
    "    for node in graph:\n",
    "        if node[names[\"ctor\"]] == ctor:\n",
    "            node = cls(graph, guid=node.guid)\n",
    "            nodes.add(node)\n",
    "    return nodes\n",
    "\n",
    "\n",
    "def find_frames(graph):\n",
    "    return find_nodes(graph, names[\"frame\"], Frame)\n",
    "\n",
    "\n",
    "def find_transitions(graph):\n",
    "    return find_nodes(graph, names[\"transition\"], Transition)\n",
    "\n",
    "\n",
    "def find_absorbing_frames(graph):\n",
    "    transitions = find_transitions(graph)\n",
    "    target_frames = set()\n",
    "    source_frames = set()\n",
    "    for transition in transitions:\n",
    "        target_frames.add(transition.target.guid)\n",
    "        source_frames.add(transition.source.guid)\n",
    "    return target_frames - source_frames  # In but not out. Dead end!"
   ]
  },
  {
   "cell_type": "code",
   "execution_count": null,
   "metadata": {},
   "outputs": [],
   "source": [
    "MICROS_12_FPS = int(1e6 / 12)  # 12 frames per second\n",
    "MICROS_24_FPS = int(1e6 / 24)\n",
    "\n",
    "\n",
    "def connect_frames(graph, transition_name, source, target):\n",
    "    transition = Transition(graph, guid=name_to_guid(transition_name))\n",
    "    transition.name = transition_name\n",
    "    transition.source = source\n",
    "    transition.target = target\n",
    "    return transition\n",
    "\n",
    "\n",
    "def make_clip(graph, name, sprite_numbers, loop=False, duration=MICROS_12_FPS, guid=None):\n",
    "    clip_name = \"clip[{}]\".format(name)\n",
    "    clip_guid = guid or name_to_guid(clip_name)\n",
    "    clip = Clip(graph, guid=clip_guid)\n",
    "    clip.name = clip_name\n",
    "\n",
    "    if clip.frames:\n",
    "        logging.warning(\"Clip already has frames\")\n",
    "        return clip\n",
    "\n",
    "    frame_list_name = \"framelist[{}, 0]\".format(name)\n",
    "    end_of_clip = FrameList(graph, guid=name_to_guid(frame_list_name))\n",
    "    clip.frames = end_of_clip\n",
    "    clip.frames.name = \"framelist[{}, 0]\".format(name)\n",
    "    previous_sprite_name = None\n",
    "    previous_frame = None\n",
    "    for sequence, sprite_number in enumerate(sprite_numbers):\n",
    "        sprite_name = \"{}[{}]\".format(name, sequence)\n",
    "        frame_name = \"frames[{}]\".format(sprite_name)\n",
    "        frame = Frame(graph, guid=name_to_guid(frame_name))\n",
    "        frame.name = frame_name\n",
    "        frame.bitmap = spritesheet[sprite_number]\n",
    "        frame.duration_microsections = duration\n",
    "        \n",
    "        if previous_sprite_name:\n",
    "            transition_name = \"transitions[{}, {}]\".format(\n",
    "                previous_sprite_name,\n",
    "                sprite_name)\n",
    "            connect_frames(graph, transition_name, previous_frame, frame)\n",
    "        \n",
    "        previous_sprite_name = sprite_name\n",
    "        previous_frame = frame\n",
    "        frame_list_name = \"framelist[{}, {}]\".format(name, sequence + 1)\n",
    "        end_of_clip = end_of_clip.append(frame, guid=name_to_guid(frame_list_name))\n",
    "        end_of_clip.name = frame_list_name\n",
    "    \n",
    "    if loop:\n",
    "        transition_name = \"transitions[{}, {}]\".format(\n",
    "            previous_sprite_name,\n",
    "            \"{}[0]\".format(name))\n",
    "        connect_frames(graph, transition_name, previous_frame, clip.frames.head)\n",
    "    \n",
    "    return clip     "
   ]
  },
  {
   "cell_type": "code",
   "execution_count": null,
   "metadata": {},
   "outputs": [],
   "source": [
    "sit = make_clip(graph, \"sit\", [0], loop=True)\n",
    "#sit[0].bitmap.image\n",
    "sit"
   ]
  },
  {
   "cell_type": "code",
   "execution_count": null,
   "metadata": {},
   "outputs": [],
   "source": [
    "sit_to_stand = make_clip(graph, \"sit_to_stand\", [1,2,3,4])\n",
    "sit_to_stand"
   ]
  },
  {
   "cell_type": "code",
   "execution_count": null,
   "metadata": {},
   "outputs": [],
   "source": [
    "stand_waggle = make_clip(graph, \"stand_waggle\", [26,4], loop=True)\n",
    "stand_waggle"
   ]
  },
  {
   "cell_type": "code",
   "execution_count": null,
   "metadata": {},
   "outputs": [],
   "source": [
    "stand_to_sit = make_clip(graph, \"stand_to_sit\", [57, 58, 59, 60, 61])\n",
    "stand_to_sit"
   ]
  },
  {
   "cell_type": "markdown",
   "metadata": {},
   "source": [
    "### Create the root node\n",
    "\n",
    "`gamekitty` should be our root node. It's the only object in our scene right now."
   ]
  },
  {
   "cell_type": "code",
   "execution_count": null,
   "metadata": {},
   "outputs": [],
   "source": [
    "origin = Point(graph, guid=name_to_guid(\"origin\"))\n",
    "origin.name = \"origin\"\n",
    "origin.x = 0\n",
    "origin.y = 0\n",
    "origin"
   ]
  },
  {
   "cell_type": "code",
   "execution_count": null,
   "metadata": {},
   "outputs": [],
   "source": [
    "sprite = Sprite(graph, guid=name_to_guid(\"gamekitty\"))\n",
    "graph._properties[\"root\"] = sprite.guid\n",
    "sprite.name = \"gamekitty\"\n",
    "sprite.position = origin\n",
    "sprite.frame = sit[0]\n",
    "sprite"
   ]
  },
  {
   "cell_type": "markdown",
   "metadata": {},
   "source": [
    "### More clips and transitions"
   ]
  },
  {
   "cell_type": "code",
   "execution_count": null,
   "metadata": {},
   "outputs": [],
   "source": [
    "sit_paw = make_clip(graph, \"sit_paw\", [62, 63, 64, 65])\n",
    "sit_paw"
   ]
  },
  {
   "cell_type": "code",
   "execution_count": null,
   "metadata": {},
   "outputs": [],
   "source": [
    "sit_to_crouch = make_clip(graph, \"sit_to_crouch\", [69, 70, 71])\n",
    "sit_to_crouch"
   ]
  },
  {
   "cell_type": "code",
   "execution_count": null,
   "metadata": {},
   "outputs": [],
   "source": [
    "crouch = make_clip(graph, \"crouch\", [72])\n",
    "crouch"
   ]
  },
  {
   "cell_type": "code",
   "execution_count": null,
   "metadata": {},
   "outputs": [],
   "source": [
    "crouch_to_sit = make_clip(graph, \"crouch_to_sit\", [75, 76, 77])\n",
    "crouch_to_sit"
   ]
  },
  {
   "cell_type": "code",
   "execution_count": null,
   "metadata": {},
   "outputs": [],
   "source": [
    "find_absorbing_frames(graph)"
   ]
  },
  {
   "cell_type": "code",
   "execution_count": null,
   "metadata": {},
   "outputs": [],
   "source": [
    "graph.save()"
   ]
  },
  {
   "cell_type": "code",
   "execution_count": null,
   "metadata": {},
   "outputs": [],
   "source": []
  }
 ],
 "metadata": {
  "kernelspec": {
   "display_name": "Python 3",
   "language": "python",
   "name": "python3"
  },
  "language_info": {
   "codemirror_mode": {
    "name": "ipython",
    "version": 3
   },
   "file_extension": ".py",
   "mimetype": "text/x-python",
   "name": "python",
   "nbconvert_exporter": "python",
   "pygments_lexer": "ipython3",
   "version": "3.6.4"
  }
 },
 "nbformat": 4,
 "nbformat_minor": 2
}
