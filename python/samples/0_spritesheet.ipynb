{
 "cells": [
  {
   "cell_type": "code",
   "execution_count": 1,
   "metadata": {},
   "outputs": [],
   "source": [
    "import base64\n",
    "import collections\n",
    "import functools\n",
    "import io\n",
    "import json\n",
    "import logging\n",
    "import pathlib\n",
    "import typing\n",
    "import uuid\n",
    "\n",
    "from PIL import Image\n",
    "from PIL import ImageChops\n",
    "\n",
    "from pikov import GuidNode, StringNode, Int64Node, JSONGraph\n",
    "from pikov.pikov import SemanticGraphNode\n",
    "from pikov.properties import make_guid_property, StringProperty, Int64Property"
   ]
  },
  {
   "cell_type": "code",
   "execution_count": 2,
   "metadata": {},
   "outputs": [],
   "source": [
    "# Helper for displaying images.\n",
    "\n",
    "# source: http://nbviewer.ipython.org/gist/deeplook/5162445\n",
    "from io import BytesIO\n",
    "\n",
    "from IPython import display\n",
    "from PIL import Image\n",
    "\n",
    "\n",
    "def display_pil_image(im):\n",
    "   \"\"\"Displayhook function for PIL Images, rendered as PNG.\"\"\"\n",
    "\n",
    "   b = BytesIO()\n",
    "   im.save(b, format='png')\n",
    "   data = b.getvalue()\n",
    "\n",
    "   ip_img = display.Image(data=data, format='png', embed=True)\n",
    "   return ip_img._repr_png_()\n",
    "\n",
    "\n",
    "# register display func with PNG formatter:\n",
    "png_formatter = get_ipython().display_formatter.formatters['image/png']\n",
    "dpi = png_formatter.for_type(Image.Image, display_pil_image)"
   ]
  },
  {
   "cell_type": "code",
   "execution_count": 3,
   "metadata": {},
   "outputs": [],
   "source": [
    "sample_dir = (pathlib.Path(\"..\") / \"..\" / \"samples\").resolve()\n",
    "\n",
    "with open(sample_dir / \"pikov-core.json\") as fp:\n",
    "    core_types = json.load(fp)\n",
    "    #graph = JSONGraph.load(fp)"
   ]
  },
  {
   "cell_type": "code",
   "execution_count": 4,
   "metadata": {},
   "outputs": [],
   "source": [
    "sample_path = sample_dir / \"gamekitty.json\"\n",
    "\n",
    "# Merge core types into pikov.json\n",
    "graph = JSONGraph.load(sample_path)\n",
    "for key, item in core_types[\"guidMap\"].items():\n",
    "    graph._guid_map[key] = item"
   ]
  },
  {
   "cell_type": "markdown",
   "metadata": {},
   "source": [
    "## Build names mapping\n",
    "\n",
    "To make it a little easier to check that I'm using the correct guids, construct a mapping from names back to `guid`.\n",
    "\n",
    "Note: this adds a constraint that no two nodes have the same name, which should not be enforced for general semantic graphs."
   ]
  },
  {
   "cell_type": "code",
   "execution_count": 5,
   "metadata": {},
   "outputs": [
    {
     "data": {
      "text/plain": [
       "GuidNode(guid=\"aba6ac79fd3d409da860a77c90942852\")"
      ]
     },
     "execution_count": 5,
     "metadata": {},
     "output_type": "execute_result"
    }
   ],
   "source": [
    "names = {}\n",
    "for node in graph:\n",
    "    for edge in node:\n",
    "        if edge.guid == \"169a81aefca74e92b45e3fa03c7021df\":\n",
    "            value = node[edge].value\n",
    "            if value in names:\n",
    "                raise ValueError('name: \"{}\" defined twice'.format(value))\n",
    "            names[value] = node\n",
    "     \n",
    "names[\"ctor\"]"
   ]
  },
  {
   "cell_type": "code",
   "execution_count": 6,
   "metadata": {},
   "outputs": [],
   "source": [
    "# {name: names[name].guid for name in sorted(names) if '[' not in name}"
   ]
  },
  {
   "cell_type": "code",
   "execution_count": 7,
   "metadata": {},
   "outputs": [],
   "source": [
    "def name_to_guid(name):\n",
    "    if name not in names:\n",
    "        return None\n",
    "    node = names[name]\n",
    "    if not hasattr(node, \"guid\"):\n",
    "        return None\n",
    "    return node.guid"
   ]
  },
  {
   "cell_type": "markdown",
   "metadata": {},
   "source": [
    "### Pikov sprite editor classes\n",
    "\n",
    "These classes are the core resources used in defining a \"Pikov\" file.\n",
    "\n",
    "Note: ideally these classes could be derived from the graph itself, but I\n",
    "don't (yet) encode type or field information in the `pikov.json` semantic\n",
    "graph."
   ]
  },
  {
   "cell_type": "code",
   "execution_count": 8,
   "metadata": {},
   "outputs": [],
   "source": [
    "from pikov.sprite import Resource, Rectangle, Point, Bitmap"
   ]
  },
  {
   "cell_type": "markdown",
   "metadata": {},
   "source": [
    "## Gamekitty\n",
    "\n",
    "Create instances of the Pikov classes to define a concrete Pikov graph, based on my \"gamekitty\" animations."
   ]
  },
  {
   "cell_type": "code",
   "execution_count": 9,
   "metadata": {},
   "outputs": [
    {
     "data": {
      "text/plain": [
       "Resource(guid=\"710af736fb3945e28b07e0ac3a8e53d6\")"
      ]
     },
     "execution_count": 9,
     "metadata": {},
     "output_type": "execute_result"
    }
   ],
   "source": [
    "resource = Resource(graph, guid=name_to_guid(\"spritesheet\"))\n",
    "resource.name = \"spritesheet\"\n",
    "resource.relative_path = \"./gamekitty.png\"\n",
    "resource"
   ]
  },
  {
   "cell_type": "code",
   "execution_count": 10,
   "metadata": {},
   "outputs": [
    {
     "data": {
      "image/png": "[encoded data removed]",
      "text/plain": [
       "<PIL.PngImagePlugin.PngImageFile image mode=RGBA size=128x128 at 0x10390FD68>"
      ]
     },
     "execution_count": 10,
     "metadata": {},
     "output_type": "execute_result"
    }
   ],
   "source": [
    "resource.image"
   ]
  },
  {
   "cell_type": "markdown",
   "metadata": {},
   "source": [
    "### Chop image into 8x8 sprites\n",
    "\n",
    "By creating an array of 8x8 images, we make it easier to map from PICO-8 sprite number (from my original gamekitty cart) to a Bitmap."
   ]
  },
  {
   "cell_type": "code",
   "execution_count": 11,
   "metadata": {},
   "outputs": [],
   "source": [
    "spritesheet = []\n",
    "for row in range(16):\n",
    "    for column in range(16):\n",
    "        sprite_number = row * 16 + column\n",
    "        \n",
    "        crop_name = \"crop[{}]\".format(sprite_number)\n",
    "        crop = Rectangle(graph, guid=name_to_guid(crop_name))\n",
    "        crop.name = crop_name\n",
    "        \n",
    "        anchor_name = \"anchor[{}]\".format(sprite_number)\n",
    "        anchor = Point(graph, guid=name_to_guid(anchor_name))\n",
    "        anchor.name = anchor_name\n",
    "        anchor.x = column * 8\n",
    "        anchor.y = row * 8\n",
    "\n",
    "        crop.anchor = anchor\n",
    "        crop.width = 8\n",
    "        crop.height = 8\n",
    "        \n",
    "        bitmap_name = \"bitmap[{}]\".format(sprite_number)\n",
    "        bitmap = Bitmap(graph, guid=name_to_guid(bitmap_name))\n",
    "        bitmap.name = bitmap_name\n",
    "        bitmap.resource = resource\n",
    "        bitmap.crop = crop\n",
    "        \n",
    "        spritesheet.append(bitmap)"
   ]
  },
  {
   "cell_type": "code",
   "execution_count": 12,
   "metadata": {},
   "outputs": [
    {
     "data": {
      "image/png": "[encoded data removed]",
      "text/plain": [
       "<PIL.Image.Image image mode=RGBA size=8x8 at 0x103D4EE48>"
      ]
     },
     "execution_count": 12,
     "metadata": {},
     "output_type": "execute_result"
    }
   ],
   "source": [
    "list(graph.get_labels(spritesheet[4]))\n",
    "spritesheet[1].image"
   ]
  },
  {
   "cell_type": "code",
   "execution_count": 13,
   "metadata": {},
   "outputs": [],
   "source": [
    "# Save our work!\n",
    "graph.save()"
   ]
  },
  {
   "cell_type": "code",
   "execution_count": null,
   "metadata": {},
   "outputs": [],
   "source": []
  }
 ],
 "metadata": {
  "kernelspec": {
   "display_name": "Python 3",
   "language": "python",
   "name": "python3"
  },
  "language_info": {
   "codemirror_mode": {
    "name": "ipython",
    "version": 3
   },
   "file_extension": ".py",
   "mimetype": "text/x-python",
   "name": "python",
   "nbconvert_exporter": "python",
   "pygments_lexer": "ipython3",
   "version": "3.6.4"
  }
 },
 "nbformat": 4,
 "nbformat_minor": 2
}
